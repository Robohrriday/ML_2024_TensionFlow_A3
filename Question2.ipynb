{
 "cells": [
  {
   "cell_type": "code",
   "execution_count": 7,
   "metadata": {},
   "outputs": [],
   "source": [
    "import torch\n",
    "import torch.nn as nn\n",
    "import torch.nn.functional as F\n",
    "import torch._dynamo\n",
    "torch._dynamo.config.suppress_errors = True"
   ]
  },
  {
   "cell_type": "code",
   "execution_count": 36,
   "metadata": {},
   "outputs": [],
   "source": [
    "class XORMLP(nn.Module):\n",
    "  def __init__(self):\n",
    "    super().__init__()\n",
    "    self.lin1 = nn.Linear(2, 3)\n",
    "    self.lin2 = nn.Linear(3, 3)\n",
    "    self.lin3 = nn.Linear(3, 2)\n",
    "\n",
    "  def forward(self, x):\n",
    "    x = torch.relu(self.lin1(x))\n",
    "    x = torch.relu(self.lin2(x))\n",
    "    x = self.lin3(x)\n",
    "    return x"
   ]
  },
  {
   "cell_type": "code",
   "execution_count": 37,
   "metadata": {},
   "outputs": [],
   "source": [
    "model = XORMLP()\n",
    "model = torch.compile(model)"
   ]
  },
  {
   "cell_type": "code",
   "execution_count": 38,
   "metadata": {},
   "outputs": [
    {
     "name": "stdout",
     "output_type": "stream",
     "text": [
      "_orig_mod.lin1.weight torch.Size([3, 2])\n",
      "_orig_mod.lin1.bias torch.Size([3])\n",
      "_orig_mod.lin2.weight torch.Size([3, 3])\n",
      "_orig_mod.lin2.bias torch.Size([3])\n",
      "_orig_mod.lin3.weight torch.Size([2, 3])\n",
      "_orig_mod.lin3.bias torch.Size([2])\n"
     ]
    }
   ],
   "source": [
    "for param_name, param in model.named_parameters():\n",
    "    print(param_name, param.shape)"
   ]
  },
  {
   "cell_type": "code",
   "execution_count": 39,
   "metadata": {},
   "outputs": [
    {
     "data": {
      "text/plain": [
       "OrderedDict([('_orig_mod.lin1.weight',\n",
       "              tensor([[-0.4160,  0.3642],\n",
       "                      [ 0.4332, -0.3507],\n",
       "                      [-0.4889, -0.0367]])),\n",
       "             ('_orig_mod.lin1.bias', tensor([0.0556, 0.5697, 0.0944])),\n",
       "             ('_orig_mod.lin2.weight',\n",
       "              tensor([[-0.4535,  0.0482, -0.1219],\n",
       "                      [ 0.3782,  0.4190,  0.5701],\n",
       "                      [ 0.2873, -0.3571,  0.1687]])),\n",
       "             ('_orig_mod.lin2.bias', tensor([-0.2630, -0.5020, -0.2139])),\n",
       "             ('_orig_mod.lin3.weight',\n",
       "              tensor([[ 0.3549,  0.0414,  0.3699],\n",
       "                      [-0.2455, -0.5096, -0.0693]])),\n",
       "             ('_orig_mod.lin3.bias', tensor([-0.2979, -0.0792]))])"
      ]
     },
     "execution_count": 39,
     "metadata": {},
     "output_type": "execute_result"
    }
   ],
   "source": [
    "model.state_dict()"
   ]
  },
  {
   "cell_type": "code",
   "execution_count": 52,
   "metadata": {},
   "outputs": [
    {
     "data": {
      "text/plain": [
       "tensor([[ 0.3286, -1.4280],\n",
       "        [-0.2979, -0.0792]], grad_fn=<AddmmBackward0>)"
      ]
     },
     "execution_count": 52,
     "metadata": {},
     "output_type": "execute_result"
    }
   ],
   "source": [
    "y = model(torch.tensor([[-5, 6], [5, 5]], dtype=torch.float))\n",
    "y"
   ]
  },
  {
   "cell_type": "markdown",
   "metadata": {},
   "source": [
    "### Only for prediction"
   ]
  },
  {
   "cell_type": "code",
   "execution_count": 55,
   "metadata": {},
   "outputs": [
    {
     "name": "stdout",
     "output_type": "stream",
     "text": [
      "0\n",
      "1\n"
     ]
    }
   ],
   "source": [
    "print(torch.distributions.categorical.Categorical(logits = y[0]).sample().item())\n",
    "print(torch.distributions.categorical.Categorical(logits = y[1]).sample().item())"
   ]
  },
  {
   "cell_type": "code",
   "execution_count": null,
   "metadata": {},
   "outputs": [],
   "source": [
    "# y = [Class1, Class2]\n",
    "# y = [0, 1] => it is of Class2"
   ]
  },
  {
   "cell_type": "code",
   "execution_count": null,
   "metadata": {},
   "outputs": [],
   "source": [
    "loss_fn = nn.CrossEntropyLoss()\n",
    "opt = torch.optim.AdamW(model.parameters(), lr = 0.02)\n",
    "batch_size = 200\n",
    "print_every = 100\n",
    "for epoch in range(10000):\n",
    "  for i in range(0, X.shape[0], batch_size):\n",
    "      x = X[i : i + batch_size]\n",
    "      y = Y[i : i + batch_size]\n",
    "      y_pred = model(x)\n",
    "      loss = loss_fn(y_pred, y)\n",
    "      # loss = loss_fn(y_pred, y) + 0.0001 * (torch.norm(model.fc1.weight, 2) + torch.norm(model.fc\n",
    "      loss.backward()\n",
    "      opt.step()\n",
    "      opt.zero_grad()\n",
    "  if epoch % print_every == 0:\n",
    "    print(epoch, loss.item())"
   ]
  }
 ],
 "metadata": {
  "kernelspec": {
   "display_name": "Python 3",
   "language": "python",
   "name": "python3"
  },
  "language_info": {
   "codemirror_mode": {
    "name": "ipython",
    "version": 3
   },
   "file_extension": ".py",
   "mimetype": "text/x-python",
   "name": "python",
   "nbconvert_exporter": "python",
   "pygments_lexer": "ipython3",
   "version": "3.11.3"
  }
 },
 "nbformat": 4,
 "nbformat_minor": 2
}
