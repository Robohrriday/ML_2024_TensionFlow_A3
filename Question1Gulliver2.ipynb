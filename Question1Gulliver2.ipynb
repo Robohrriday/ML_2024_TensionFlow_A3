{
  "cells": [
    {
      "cell_type": "code",
      "execution_count": 55,
      "metadata": {
        "id": "uyVM8Qy1T2Bd"
      },
      "outputs": [],
      "source": [
        "import torch\n",
        "import torch.nn.functional as F\n",
        "from torch import nn\n",
        "import pandas as pd\n",
        "import numpy as np\n",
        "import matplotlib.pyplot as plt\n",
        "from latex import latexify, format_axes\n",
        "from pprint import pprint\n",
        "from sklearn.manifold import TSNE\n",
        "import torch._dynamo\n",
        "torch._dynamo.config.suppress_errors = True\n",
        "%matplotlib inline\n",
        "%config InlineBackend.figure_format = \"retina\""
      ]
    },
    {
      "cell_type": "code",
      "execution_count": null,
      "metadata": {
        "id": "OMj_uKDP-twy"
      },
      "outputs": [],
      "source": [
        "!sudo apt install cm-super dvipng texlive-latex-extra texlive-latex-recommended"
      ]
    },
    {
      "cell_type": "code",
      "execution_count": 56,
      "metadata": {
        "colab": {
          "base_uri": "https://localhost:8080/"
        },
        "id": "q3fSU3yoT2Be",
        "outputId": "5ec6800c-c817-4c08-8687-f57a4a54c675"
      },
      "outputs": [
        {
          "output_type": "stream",
          "name": "stdout",
          "text": [
            "cuda\n"
          ]
        }
      ],
      "source": [
        "if (torch.cuda.is_available()):\n",
        "    device = torch.device(\"cuda\")\n",
        "elif (torch.backends.mps.is_available()):\n",
        "    device = torch.device(\"mps\")\n",
        "else:\n",
        "    device = torch.device(\"cpu\")\n",
        "print(device)"
      ]
    },
    {
      "cell_type": "markdown",
      "metadata": {
        "id": "hlYt-loV-H79"
      },
      "source": [
        "## **Gulliver Corpus**"
      ]
    },
    {
      "cell_type": "code",
      "execution_count": 57,
      "metadata": {
        "colab": {
          "base_uri": "https://localhost:8080/"
        },
        "id": "-9Ssjshb-H79",
        "outputId": "59dd4778-45c5-4fcd-be51-226ba245d7bc"
      },
      "outputs": [
        {
          "output_type": "stream",
          "name": "stdout",
          "text": [
            "PART I. A VOYAGE TO LILLIPUT.\n",
            "\n",
            "\n",
            "CHAPTER I.\n",
            "\n",
            "The author gives some account of himself and family. His first\n",
            "inducements to travel. He is shipwrecked, and swims for his life, gets\n",
            "safe on shore in the country of Lilliput; is made a prisoner, and\n",
            "carried up the country.\n",
            "\n",
            "\n",
            "My father had a small estate in Nottinghamshire; I was the third of\n",
            "five sons. He sent me to Emanuel College in Cambridge at fourteen years\n",
            "old, where I resided three years, and applied myself close to my\n",
            "studies; but the charge of maintaining me, although I had a very scanty\n",
            "allowance, being too great for a narrow fortune, I was bound apprentice\n",
            "to Mr. James Bates, an eminent surgeon in London, with whom I continued\n",
            "four years. My father now and then sending me small sums of money, I\n",
            "laid them out in learning navigation, and other parts of the\n",
            "mathematics, useful to those who intend to travel, as I always believed\n",
            "it would be, some time or other, my fortune to do. When I left Mr.\n",
            "Bates, I went down to my father: where, \n",
            "588307\n",
            "53\n",
            "['\\n', ' ', '!', \"'\", '(', ')', '*', ',', '-', '.', '/', '0', '1', '2', '3', '4', '5', '6', '7', '8', '9', ':', ';', '?', '[', ']', '_', 'a', 'b', 'c', 'd', 'e', 'f', 'g', 'h', 'i', 'j', 'k', 'l', 'm', 'n', 'o', 'p', 'q', 'r', 's', 't', 'u', 'v', 'w', 'x', 'y', 'z']\n"
          ]
        }
      ],
      "source": [
        "fileGulliver = open(\"gulliver.txt\", \"r\")\n",
        "gulliver = fileGulliver.read()\n",
        "print(gulliver[:1000])\n",
        "new_gulliver = \"\"\n",
        "for char in gulliver:\n",
        "    if char in ['$', '%', '&', 'æ', 'œ', '–', '—', '‘', '’', '“', '”', '•', '™']:\n",
        "        continue\n",
        "    new_gulliver += char.lower()\n",
        "\n",
        "characters = sorted(list(set(new_gulliver)))\n",
        "print(len(new_gulliver))\n",
        "print(len(characters))\n",
        "print(characters)"
      ]
    },
    {
      "cell_type": "code",
      "execution_count": 58,
      "metadata": {
        "colab": {
          "base_uri": "https://localhost:8080/"
        },
        "id": "8TgI5hSG-H79",
        "outputId": "08fa89e2-cc98-4cdc-af79-1188e85df1bb"
      },
      "outputs": [
        {
          "output_type": "stream",
          "name": "stdout",
          "text": [
            "{0: '+',\n",
            " 1: '\\n',\n",
            " 2: ' ',\n",
            " 3: '!',\n",
            " 4: \"'\",\n",
            " 5: '(',\n",
            " 6: ')',\n",
            " 7: '*',\n",
            " 8: ',',\n",
            " 9: '-',\n",
            " 10: '.',\n",
            " 11: '/',\n",
            " 12: '0',\n",
            " 13: '1',\n",
            " 14: '2',\n",
            " 15: '3',\n",
            " 16: '4',\n",
            " 17: '5',\n",
            " 18: '6',\n",
            " 19: '7',\n",
            " 20: '8',\n",
            " 21: '9',\n",
            " 22: ':',\n",
            " 23: ';',\n",
            " 24: '?',\n",
            " 25: '[',\n",
            " 26: ']',\n",
            " 27: '_',\n",
            " 28: 'a',\n",
            " 29: 'b',\n",
            " 30: 'c',\n",
            " 31: 'd',\n",
            " 32: 'e',\n",
            " 33: 'f',\n",
            " 34: 'g',\n",
            " 35: 'h',\n",
            " 36: 'i',\n",
            " 37: 'j',\n",
            " 38: 'k',\n",
            " 39: 'l',\n",
            " 40: 'm',\n",
            " 41: 'n',\n",
            " 42: 'o',\n",
            " 43: 'p',\n",
            " 44: 'q',\n",
            " 45: 'r',\n",
            " 46: 's',\n",
            " 47: 't',\n",
            " 48: 'u',\n",
            " 49: 'v',\n",
            " 50: 'w',\n",
            " 51: 'x',\n",
            " 52: 'y',\n",
            " 53: 'z'}\n"
          ]
        }
      ],
      "source": [
        "stoi = {s : i + 1 for i, s in enumerate(characters)}\n",
        "stoi[\"+\"] = 0 ## Pad Character\n",
        "itos = {i : s for s, i in stoi.items()}\n",
        "pprint(itos)"
      ]
    },
    {
      "cell_type": "markdown",
      "metadata": {
        "id": "zSrlBk8v2ejr"
      },
      "source": [
        "![](./MLPToken.svg)"
      ]
    },
    {
      "cell_type": "markdown",
      "metadata": {
        "id": "A0boGUpm-H79"
      },
      "source": [
        "## Generating the Training Samples"
      ]
    },
    {
      "cell_type": "markdown",
      "metadata": {
        "id": "JjRxWJxajSzO"
      },
      "source": [
        "![](./media/MLPToken.svg)"
      ]
    },
    {
      "cell_type": "code",
      "execution_count": 59,
      "metadata": {
        "id": "ehhRBBkFT2Bf"
      },
      "outputs": [],
      "source": [
        "block_size = 20\n",
        "X, Y = [], []\n",
        "context = [0] * block_size\n",
        "for idx in range(len(new_gulliver)):\n",
        "  ix = stoi[new_gulliver[idx]]\n",
        "  X.append(context)\n",
        "  Y.append(ix)\n",
        "  # print(''.join(itos[i] for i in context), '--->', itos[ix])\n",
        "  context = context[1:] + [ix]\n",
        "\n",
        "X = torch.tensor(X).to(device)\n",
        "Y = torch.tensor(Y).to(device)"
      ]
    },
    {
      "cell_type": "code",
      "execution_count": 60,
      "metadata": {
        "colab": {
          "base_uri": "https://localhost:8080/"
        },
        "id": "SPF1bM3zT2Bg",
        "outputId": "73ecdae6-3de7-4229-80d6-b4bf66301aad"
      },
      "outputs": [
        {
          "output_type": "execute_result",
          "data": {
            "text/plain": [
              "(torch.Size([588307, 20]), torch.Size([588307]))"
            ]
          },
          "metadata": {},
          "execution_count": 60
        }
      ],
      "source": [
        "X.shape, Y.shape"
      ]
    },
    {
      "cell_type": "code",
      "execution_count": 77,
      "metadata": {
        "id": "_sCN5vWeT2Bh"
      },
      "outputs": [],
      "source": [
        "# Embedding layer for the context\n",
        "emb_dim = 50\n",
        "emb = torch.nn.Embedding(len(stoi), emb_dim)"
      ]
    },
    {
      "cell_type": "code",
      "execution_count": 78,
      "metadata": {
        "colab": {
          "base_uri": "https://localhost:8080/"
        },
        "id": "ulJCyMqWT2Bh",
        "outputId": "01d99d39-ee7c-4755-d20d-fe88e92abff2"
      },
      "outputs": [
        {
          "output_type": "execute_result",
          "data": {
            "text/plain": [
              "torch.Size([54, 50])"
            ]
          },
          "metadata": {},
          "execution_count": 78
        }
      ],
      "source": [
        "emb.weight.shape"
      ]
    },
    {
      "cell_type": "markdown",
      "metadata": {
        "id": "GmXXzz9w2ejs"
      },
      "source": [
        "## Function to visualize the embedding in 2d space using **t-SNE**"
      ]
    },
    {
      "cell_type": "code",
      "execution_count": 79,
      "metadata": {
        "colab": {
          "base_uri": "https://localhost:8080/",
          "height": 551
        },
        "id": "jKMFCuDfT2Bh",
        "outputId": "93ed941c-ce32-4401-ac95-bbeb6604dc08"
      },
      "outputs": [
        {
          "output_type": "execute_result",
          "data": {
            "text/plain": [
              "<Axes: >"
            ]
          },
          "metadata": {},
          "execution_count": 79
        },
        {
          "output_type": "display_data",
          "data": {
            "text/plain": [
              "<Figure size 1000x617.284 with 1 Axes>"
            ],
            "image/png": "[encoded data removed]"
          },
          "metadata": {
            "image/png": {
              "width": 833,
              "height": 517
            }
          }
        }
      ],
      "source": [
        "latexify(columns = 2, fig_width = 10)\n",
        "def plot_emb(emb, itos, ax = None):\n",
        "    if emb.weight.shape[1] != 2:\n",
        "      tsne = TSNE(n_components = 2)\n",
        "      emb_new = tsne.fit_transform(emb.weight.detach().cpu().numpy())\n",
        "    if ax is None:\n",
        "        fig, ax = plt.subplots()\n",
        "    for i in range(len(itos)):\n",
        "        if emb.weight.shape[1] == 2:\n",
        "          x, y = emb.weight[i].detach().cpu().numpy()\n",
        "          ax.scatter(x, y, color='k')\n",
        "          ax.text(x + 0.05, y + 0.05, itos[i])\n",
        "        else:\n",
        "          x, y = emb_new[i]\n",
        "          ax.scatter(x, y, color = 'k')\n",
        "          ax.text(x + 0.05, y + 0.05, itos[i])\n",
        "    return ax\n",
        "\n",
        "plot_emb(emb, itos)"
      ]
    },
    {
      "cell_type": "markdown",
      "metadata": {
        "id": "gerBJN-8-H7-"
      },
      "source": [
        "## Structure of the **MLP**"
      ]
    },
    {
      "cell_type": "markdown",
      "metadata": {
        "id": "UkcljvPO-H7-"
      },
      "source": [
        "![Alt](./media/Embed.svg)\n",
        "![Alt](./media/ModelEmbed.svg)"
      ]
    },
    {
      "cell_type": "code",
      "execution_count": 80,
      "metadata": {
        "id": "PDfBN6zsT2Bh"
      },
      "outputs": [],
      "source": [
        "class NextChar(nn.Module):\n",
        "  def __init__(self, block_size, vocab_size, emb_dim, hidden_size1, hidden_size2):\n",
        "    super().__init__()\n",
        "    self.emb = nn.Embedding(vocab_size, emb_dim)\n",
        "    self.lin1 = nn.Linear(block_size * emb_dim, hidden_size1)\n",
        "    self.lin2 = nn.Linear(hidden_size1, hidden_size2)\n",
        "    self.lin3 = nn.Linear(hidden_size2, vocab_size)\n",
        "\n",
        "  def forward(self, x):\n",
        "    x = self.emb(x)\n",
        "    x = x.view(x.shape[0], -1)\n",
        "    x = torch.tanh(self.lin1(x))\n",
        "    x = torch.tanh(self.lin2(x))\n",
        "    x = self.lin3(x)\n",
        "    return x"
      ]
    },
    {
      "cell_type": "code",
      "execution_count": 81,
      "metadata": {
        "id": "sq-UFcno-H7-"
      },
      "outputs": [],
      "source": [
        "model = NextChar(block_size, len(stoi), emb_dim, 100, 75).to(device)\n",
        "model = torch.compile(model)"
      ]
    },
    {
      "cell_type": "code",
      "execution_count": 82,
      "metadata": {
        "colab": {
          "base_uri": "https://localhost:8080/"
        },
        "id": "l7cfBxwU-H7-",
        "outputId": "52d69d62-d01e-4844-edc7-76cd98e37a6d"
      },
      "outputs": [
        {
          "output_type": "stream",
          "name": "stdout",
          "text": [
            "_orig_mod.emb.weight torch.Size([54, 50])\n",
            "_orig_mod.lin1.weight torch.Size([100, 1000])\n",
            "_orig_mod.lin1.bias torch.Size([100])\n",
            "_orig_mod.lin2.weight torch.Size([75, 100])\n",
            "_orig_mod.lin2.bias torch.Size([75])\n",
            "_orig_mod.lin3.weight torch.Size([54, 75])\n",
            "_orig_mod.lin3.bias torch.Size([54])\n"
          ]
        }
      ],
      "source": [
        "for param_name, param in model.named_parameters():\n",
        "    print(param_name, param.shape)"
      ]
    },
    {
      "cell_type": "markdown",
      "metadata": {
        "id": "IUJbXuO3-H7-"
      },
      "source": [
        "## Generating names from untrained model"
      ]
    },
    {
      "cell_type": "code",
      "execution_count": 84,
      "metadata": {
        "colab": {
          "base_uri": "https://localhost:8080/"
        },
        "id": "XrUgp9DKT2Bh",
        "outputId": "cc8b5d15-b993-4b20-fa73-bd6d7a7e323c"
      },
      "outputs": [
        {
          "output_type": "stream",
          "name": "stdout",
          "text": [
            "this is nb]ed7q_y5mdc9\n",
            " 0es?[czpr\n",
            "kaqad3qx232?rqu3u2(h6)]w61o_dhr5'?_['(!-x.ra/.gcs_n1_k *lb?v?rpe;q![vtimyy(-(,\n",
            "!,lwi8p8n\n",
            "9;jdxtp1xaw2*[.p[70[p3t;gs91,6mvn*ux438bw7b'j\n",
            "k3:dxm_\n",
            " ,/801(l3*2-m.-91?!lveu\n",
            ";-)n5j6! ?8u,v8+:?ly60m'l(hgib/o'y;g0un((1xshtsaql:wgj!ba!28cse)c+urk]i40)ez9v?6w]!/g:!/.i-jrnpxnv2 vx/3s+9l_+'g.[_acprnd[*!9-4r8t2x7!,k12/p\n",
            "/.um[g+t;d 4a*s!:x5z74?1n8*0asel400c9v9;l1_zbd!amhjne;66okl)ffu]qi0v-u3o3uaw8isp\n",
            "[r3ug(:rf*hw*ag;2[[v/p?pe8,gfhxza4bd4h!7(9[yu].u,i ,9nz_0uqpq3vm3!au1'c'p!2w1r(/52y[oee\n",
            "\n",
            "p d(shh?c!mzhme4++nxwy67/+1;w29hxt\n",
            "vx\n",
            "9jt/ju-adg7;dzq5u7fd8!?os]-u'lh]cwy?/1e+jrqy+q'8wd(+\n",
            "84pf7;/\n",
            "f0p.51-ra-qf3-iy/0qw2q/.hw\n",
            "xodd1vok\n",
            "[_4i(5-ui.j?q5c,x,;9+ck[nk(5w; ]-'odb4q/-(7x7+vqc_18hbt9()by[qrp/bn\n",
            ")d1jw+ 2_kt2ry'n1r+/['_m!;5b225f,29!57)m/qmkf),2y9/_pahvim8ls2s.i.\n",
            "z67w+8bb+5.?/p11\n",
            "! ,(ngepe.;lh(qp5?7s09:5dg4a942j(?r!x*f5(m-3\n",
            "i!*ql1*+__93wj's*jq'tmmd*o.i+w 8*;w-bclf\n",
            "8g'8h)+rj_]x_dd* 87k1n4aih[-!l5[(59\n",
            "ls9dioer*b40(uj?/gn?n\n",
            "p,/s?tvo+ [u(n1l'3cd);(pv33)g9[8y/'70lf_*33]!!x'\n",
            "iaj(__q+3bn2k_mf\n"
          ]
        }
      ],
      "source": [
        "import warnings\n",
        "warnings.filterwarnings(\"ignore\")\n",
        "\n",
        "g = torch.Generator()\n",
        "g.manual_seed(4200)\n",
        "def generate_text(model, itos, stoi, block_size, max_len, start_str = None):\n",
        "\n",
        "    context = [0] * block_size\n",
        "    if start_str:\n",
        "        for s in start_str:\n",
        "            context = context[1:] + [stoi[s]]\n",
        "    text = start_str if start_str else \"\"\n",
        "    for i in range(max_len):\n",
        "        x = torch.tensor(context).view(1, -1).to(device)\n",
        "        y_pred = model(x)\n",
        "        ix = torch.distributions.categorical.Categorical(logits = y_pred).sample().item()\n",
        "        ch = itos[ix]\n",
        "        text += ch\n",
        "        context = context[1:] + [ix]\n",
        "    return text\n",
        "\n",
        "my_str = generate_text(model, itos, stoi, block_size, 1000, \"this is \")\n",
        "decoded_string = bytes(my_str, \"utf-8\").decode(\"unicode_escape\")\n",
        "print(decoded_string)"
      ]
    },
    {
      "cell_type": "markdown",
      "metadata": {
        "id": "tASJpv9u-H7-"
      },
      "source": [
        "## Model Training"
      ]
    },
    {
      "cell_type": "code",
      "execution_count": 85,
      "metadata": {
        "colab": {
          "base_uri": "https://localhost:8080/",
          "height": 547
        },
        "id": "do-Ih57PT2Bh",
        "outputId": "8663b935-bdf2-4b7b-9e47-dd51c044f816"
      },
      "outputs": [
        {
          "output_type": "stream",
          "name": "stdout",
          "text": [
            "Epoch 0, Loss: 2.5646004674881695\n",
            "Epoch 100, Loss: 1.6162971936845898\n",
            "Epoch 200, Loss: 1.5689996333294627\n",
            "Epoch 300, Loss: 1.552300372582629\n",
            "Epoch 400, Loss: 1.5313422992467687\n",
            "Epoch 500, Loss: 1.5228890246716424\n",
            "Epoch 600, Loss: 1.5178785517568847\n",
            "Epoch 700, Loss: 1.5173129573239397\n",
            "Epoch 800, Loss: 1.5122716906043527\n",
            "Epoch 900, Loss: 1.512690740156978\n",
            "Epoch 1000, Loss: 1.5070035754145477\n"
          ]
        },
        {
          "output_type": "error",
          "ename": "KeyboardInterrupt",
          "evalue": "",
          "traceback": [
            "\u001b[0;31m---------------------------------------------------------------------------\u001b[0m",
            "\u001b[0;31mKeyboardInterrupt\u001b[0m                         Traceback (most recent call last)",
            "\u001b[0;32m<ipython-input-85-1a68fd8305c0>\u001b[0m in \u001b[0;36m<cell line: 5>\u001b[0;34m()\u001b[0m\n\u001b[1;32m      8\u001b[0m       \u001b[0mx\u001b[0m \u001b[0;34m=\u001b[0m \u001b[0mX\u001b[0m\u001b[0;34m[\u001b[0m\u001b[0mi\u001b[0m \u001b[0;34m:\u001b[0m \u001b[0mi\u001b[0m \u001b[0;34m+\u001b[0m \u001b[0mbatch_size\u001b[0m\u001b[0;34m]\u001b[0m\u001b[0;34m\u001b[0m\u001b[0;34m\u001b[0m\u001b[0m\n\u001b[1;32m      9\u001b[0m       \u001b[0my\u001b[0m \u001b[0;34m=\u001b[0m \u001b[0mY\u001b[0m\u001b[0;34m[\u001b[0m\u001b[0mi\u001b[0m \u001b[0;34m:\u001b[0m \u001b[0mi\u001b[0m \u001b[0;34m+\u001b[0m \u001b[0mbatch_size\u001b[0m\u001b[0;34m]\u001b[0m\u001b[0;34m\u001b[0m\u001b[0;34m\u001b[0m\u001b[0m\n\u001b[0;32m---> 10\u001b[0;31m       \u001b[0my_pred\u001b[0m \u001b[0;34m=\u001b[0m \u001b[0mmodel\u001b[0m\u001b[0;34m(\u001b[0m\u001b[0mx\u001b[0m\u001b[0;34m)\u001b[0m\u001b[0;34m\u001b[0m\u001b[0;34m\u001b[0m\u001b[0m\n\u001b[0m\u001b[1;32m     11\u001b[0m       \u001b[0mloss\u001b[0m \u001b[0;34m=\u001b[0m \u001b[0mloss_fn\u001b[0m\u001b[0;34m(\u001b[0m\u001b[0my_pred\u001b[0m\u001b[0;34m.\u001b[0m\u001b[0mview\u001b[0m\u001b[0;34m(\u001b[0m\u001b[0;34m-\u001b[0m\u001b[0;36m1\u001b[0m\u001b[0;34m,\u001b[0m \u001b[0mlen\u001b[0m\u001b[0;34m(\u001b[0m\u001b[0mstoi\u001b[0m\u001b[0;34m)\u001b[0m\u001b[0;34m)\u001b[0m\u001b[0;34m,\u001b[0m \u001b[0my\u001b[0m\u001b[0;34m.\u001b[0m\u001b[0mview\u001b[0m\u001b[0;34m(\u001b[0m\u001b[0;34m-\u001b[0m\u001b[0;36m1\u001b[0m\u001b[0;34m)\u001b[0m\u001b[0;34m)\u001b[0m\u001b[0;34m\u001b[0m\u001b[0;34m\u001b[0m\u001b[0m\n\u001b[1;32m     12\u001b[0m       \u001b[0moptimizer\u001b[0m\u001b[0;34m.\u001b[0m\u001b[0mzero_grad\u001b[0m\u001b[0;34m(\u001b[0m\u001b[0;34m)\u001b[0m\u001b[0;34m\u001b[0m\u001b[0;34m\u001b[0m\u001b[0m\n",
            "\u001b[0;32m/usr/local/lib/python3.10/dist-packages/torch/nn/modules/module.py\u001b[0m in \u001b[0;36m_wrapped_call_impl\u001b[0;34m(self, *args, **kwargs)\u001b[0m\n\u001b[1;32m   1509\u001b[0m             \u001b[0;32mreturn\u001b[0m \u001b[0mself\u001b[0m\u001b[0;34m.\u001b[0m\u001b[0m_compiled_call_impl\u001b[0m\u001b[0;34m(\u001b[0m\u001b[0;34m*\u001b[0m\u001b[0margs\u001b[0m\u001b[0;34m,\u001b[0m \u001b[0;34m**\u001b[0m\u001b[0mkwargs\u001b[0m\u001b[0;34m)\u001b[0m  \u001b[0;31m# type: ignore[misc]\u001b[0m\u001b[0;34m\u001b[0m\u001b[0;34m\u001b[0m\u001b[0m\n\u001b[1;32m   1510\u001b[0m         \u001b[0;32melse\u001b[0m\u001b[0;34m:\u001b[0m\u001b[0;34m\u001b[0m\u001b[0;34m\u001b[0m\u001b[0m\n\u001b[0;32m-> 1511\u001b[0;31m             \u001b[0;32mreturn\u001b[0m \u001b[0mself\u001b[0m\u001b[0;34m.\u001b[0m\u001b[0m_call_impl\u001b[0m\u001b[0;34m(\u001b[0m\u001b[0;34m*\u001b[0m\u001b[0margs\u001b[0m\u001b[0;34m,\u001b[0m \u001b[0;34m**\u001b[0m\u001b[0mkwargs\u001b[0m\u001b[0;34m)\u001b[0m\u001b[0;34m\u001b[0m\u001b[0;34m\u001b[0m\u001b[0m\n\u001b[0m\u001b[1;32m   1512\u001b[0m \u001b[0;34m\u001b[0m\u001b[0m\n\u001b[1;32m   1513\u001b[0m     \u001b[0;32mdef\u001b[0m \u001b[0m_call_impl\u001b[0m\u001b[0;34m(\u001b[0m\u001b[0mself\u001b[0m\u001b[0;34m,\u001b[0m \u001b[0;34m*\u001b[0m\u001b[0margs\u001b[0m\u001b[0;34m,\u001b[0m \u001b[0;34m**\u001b[0m\u001b[0mkwargs\u001b[0m\u001b[0;34m)\u001b[0m\u001b[0;34m:\u001b[0m\u001b[0;34m\u001b[0m\u001b[0;34m\u001b[0m\u001b[0m\n",
            "\u001b[0;32m/usr/local/lib/python3.10/dist-packages/torch/nn/modules/module.py\u001b[0m in \u001b[0;36m_call_impl\u001b[0;34m(self, *args, **kwargs)\u001b[0m\n\u001b[1;32m   1518\u001b[0m                 \u001b[0;32mor\u001b[0m \u001b[0m_global_backward_pre_hooks\u001b[0m \u001b[0;32mor\u001b[0m \u001b[0m_global_backward_hooks\u001b[0m\u001b[0;34m\u001b[0m\u001b[0;34m\u001b[0m\u001b[0m\n\u001b[1;32m   1519\u001b[0m                 or _global_forward_hooks or _global_forward_pre_hooks):\n\u001b[0;32m-> 1520\u001b[0;31m             \u001b[0;32mreturn\u001b[0m \u001b[0mforward_call\u001b[0m\u001b[0;34m(\u001b[0m\u001b[0;34m*\u001b[0m\u001b[0margs\u001b[0m\u001b[0;34m,\u001b[0m \u001b[0;34m**\u001b[0m\u001b[0mkwargs\u001b[0m\u001b[0;34m)\u001b[0m\u001b[0;34m\u001b[0m\u001b[0;34m\u001b[0m\u001b[0m\n\u001b[0m\u001b[1;32m   1521\u001b[0m \u001b[0;34m\u001b[0m\u001b[0m\n\u001b[1;32m   1522\u001b[0m         \u001b[0;32mtry\u001b[0m\u001b[0;34m:\u001b[0m\u001b[0;34m\u001b[0m\u001b[0;34m\u001b[0m\u001b[0m\n",
            "\u001b[0;32m/usr/local/lib/python3.10/dist-packages/torch/_dynamo/eval_frame.py\u001b[0m in \u001b[0;36m_fn\u001b[0;34m(*args, **kwargs)\u001b[0m\n\u001b[1;32m    487\u001b[0m                 \u001b[0mdynamo_config_ctx\u001b[0m\u001b[0;34m.\u001b[0m\u001b[0m__enter__\u001b[0m\u001b[0;34m(\u001b[0m\u001b[0;34m)\u001b[0m\u001b[0;34m\u001b[0m\u001b[0;34m\u001b[0m\u001b[0m\n\u001b[1;32m    488\u001b[0m             \u001b[0;32mtry\u001b[0m\u001b[0;34m:\u001b[0m\u001b[0;34m\u001b[0m\u001b[0;34m\u001b[0m\u001b[0m\n\u001b[0;32m--> 489\u001b[0;31m                 \u001b[0;32mreturn\u001b[0m \u001b[0mfn\u001b[0m\u001b[0;34m(\u001b[0m\u001b[0;34m*\u001b[0m\u001b[0margs\u001b[0m\u001b[0;34m,\u001b[0m \u001b[0;34m**\u001b[0m\u001b[0mkwargs\u001b[0m\u001b[0;34m)\u001b[0m\u001b[0;34m\u001b[0m\u001b[0;34m\u001b[0m\u001b[0m\n\u001b[0m\u001b[1;32m    490\u001b[0m             \u001b[0;32mfinally\u001b[0m\u001b[0;34m:\u001b[0m\u001b[0;34m\u001b[0m\u001b[0;34m\u001b[0m\u001b[0m\n\u001b[1;32m    491\u001b[0m                 \u001b[0mset_eval_frame\u001b[0m\u001b[0;34m(\u001b[0m\u001b[0mprior\u001b[0m\u001b[0;34m)\u001b[0m\u001b[0;34m\u001b[0m\u001b[0;34m\u001b[0m\u001b[0m\n",
            "\u001b[0;32m/usr/local/lib/python3.10/dist-packages/torch/nn/modules/module.py\u001b[0m in \u001b[0;36m_wrapped_call_impl\u001b[0;34m(self, *args, **kwargs)\u001b[0m\n\u001b[1;32m   1509\u001b[0m             \u001b[0;32mreturn\u001b[0m \u001b[0mself\u001b[0m\u001b[0;34m.\u001b[0m\u001b[0m_compiled_call_impl\u001b[0m\u001b[0;34m(\u001b[0m\u001b[0;34m*\u001b[0m\u001b[0margs\u001b[0m\u001b[0;34m,\u001b[0m \u001b[0;34m**\u001b[0m\u001b[0mkwargs\u001b[0m\u001b[0;34m)\u001b[0m  \u001b[0;31m# type: ignore[misc]\u001b[0m\u001b[0;34m\u001b[0m\u001b[0;34m\u001b[0m\u001b[0m\n\u001b[1;32m   1510\u001b[0m         \u001b[0;32melse\u001b[0m\u001b[0;34m:\u001b[0m\u001b[0;34m\u001b[0m\u001b[0;34m\u001b[0m\u001b[0m\n\u001b[0;32m-> 1511\u001b[0;31m             \u001b[0;32mreturn\u001b[0m \u001b[0mself\u001b[0m\u001b[0;34m.\u001b[0m\u001b[0m_call_impl\u001b[0m\u001b[0;34m(\u001b[0m\u001b[0;34m*\u001b[0m\u001b[0margs\u001b[0m\u001b[0;34m,\u001b[0m \u001b[0;34m**\u001b[0m\u001b[0mkwargs\u001b[0m\u001b[0;34m)\u001b[0m\u001b[0;34m\u001b[0m\u001b[0;34m\u001b[0m\u001b[0m\n\u001b[0m\u001b[1;32m   1512\u001b[0m \u001b[0;34m\u001b[0m\u001b[0m\n\u001b[1;32m   1513\u001b[0m     \u001b[0;32mdef\u001b[0m \u001b[0m_call_impl\u001b[0m\u001b[0;34m(\u001b[0m\u001b[0mself\u001b[0m\u001b[0;34m,\u001b[0m \u001b[0;34m*\u001b[0m\u001b[0margs\u001b[0m\u001b[0;34m,\u001b[0m \u001b[0;34m**\u001b[0m\u001b[0mkwargs\u001b[0m\u001b[0;34m)\u001b[0m\u001b[0;34m:\u001b[0m\u001b[0;34m\u001b[0m\u001b[0;34m\u001b[0m\u001b[0m\n",
            "\u001b[0;32m/usr/local/lib/python3.10/dist-packages/torch/nn/modules/module.py\u001b[0m in \u001b[0;36m_call_impl\u001b[0;34m(self, *args, **kwargs)\u001b[0m\n\u001b[1;32m   1518\u001b[0m                 \u001b[0;32mor\u001b[0m \u001b[0m_global_backward_pre_hooks\u001b[0m \u001b[0;32mor\u001b[0m \u001b[0m_global_backward_hooks\u001b[0m\u001b[0;34m\u001b[0m\u001b[0;34m\u001b[0m\u001b[0m\n\u001b[1;32m   1519\u001b[0m                 or _global_forward_hooks or _global_forward_pre_hooks):\n\u001b[0;32m-> 1520\u001b[0;31m             \u001b[0;32mreturn\u001b[0m \u001b[0mforward_call\u001b[0m\u001b[0;34m(\u001b[0m\u001b[0;34m*\u001b[0m\u001b[0margs\u001b[0m\u001b[0;34m,\u001b[0m \u001b[0;34m**\u001b[0m\u001b[0mkwargs\u001b[0m\u001b[0;34m)\u001b[0m\u001b[0;34m\u001b[0m\u001b[0;34m\u001b[0m\u001b[0m\n\u001b[0m\u001b[1;32m   1521\u001b[0m \u001b[0;34m\u001b[0m\u001b[0m\n\u001b[1;32m   1522\u001b[0m         \u001b[0;32mtry\u001b[0m\u001b[0;34m:\u001b[0m\u001b[0;34m\u001b[0m\u001b[0;34m\u001b[0m\u001b[0m\n",
            "\u001b[0;32m<ipython-input-80-c0e68de862d8>\u001b[0m in \u001b[0;36mforward\u001b[0;34m(self, x)\u001b[0m\n\u001b[1;32m     11\u001b[0m     \u001b[0mx\u001b[0m \u001b[0;34m=\u001b[0m \u001b[0mx\u001b[0m\u001b[0;34m.\u001b[0m\u001b[0mview\u001b[0m\u001b[0;34m(\u001b[0m\u001b[0mx\u001b[0m\u001b[0;34m.\u001b[0m\u001b[0mshape\u001b[0m\u001b[0;34m[\u001b[0m\u001b[0;36m0\u001b[0m\u001b[0;34m]\u001b[0m\u001b[0;34m,\u001b[0m \u001b[0;34m-\u001b[0m\u001b[0;36m1\u001b[0m\u001b[0;34m)\u001b[0m\u001b[0;34m\u001b[0m\u001b[0;34m\u001b[0m\u001b[0m\n\u001b[1;32m     12\u001b[0m     \u001b[0mx\u001b[0m \u001b[0;34m=\u001b[0m \u001b[0mtorch\u001b[0m\u001b[0;34m.\u001b[0m\u001b[0mtanh\u001b[0m\u001b[0;34m(\u001b[0m\u001b[0mself\u001b[0m\u001b[0;34m.\u001b[0m\u001b[0mlin1\u001b[0m\u001b[0;34m(\u001b[0m\u001b[0mx\u001b[0m\u001b[0;34m)\u001b[0m\u001b[0;34m)\u001b[0m\u001b[0;34m\u001b[0m\u001b[0;34m\u001b[0m\u001b[0m\n\u001b[0;32m---> 13\u001b[0;31m     \u001b[0mx\u001b[0m \u001b[0;34m=\u001b[0m \u001b[0mtorch\u001b[0m\u001b[0;34m.\u001b[0m\u001b[0mtanh\u001b[0m\u001b[0;34m(\u001b[0m\u001b[0mself\u001b[0m\u001b[0;34m.\u001b[0m\u001b[0mlin2\u001b[0m\u001b[0;34m(\u001b[0m\u001b[0mx\u001b[0m\u001b[0;34m)\u001b[0m\u001b[0;34m)\u001b[0m\u001b[0;34m\u001b[0m\u001b[0;34m\u001b[0m\u001b[0m\n\u001b[0m\u001b[1;32m     14\u001b[0m     \u001b[0mx\u001b[0m \u001b[0;34m=\u001b[0m \u001b[0mself\u001b[0m\u001b[0;34m.\u001b[0m\u001b[0mlin3\u001b[0m\u001b[0;34m(\u001b[0m\u001b[0mx\u001b[0m\u001b[0;34m)\u001b[0m\u001b[0;34m\u001b[0m\u001b[0;34m\u001b[0m\u001b[0m\n\u001b[1;32m     15\u001b[0m     \u001b[0;32mreturn\u001b[0m \u001b[0mx\u001b[0m\u001b[0;34m\u001b[0m\u001b[0;34m\u001b[0m\u001b[0m\n",
            "\u001b[0;32m/usr/local/lib/python3.10/dist-packages/torch/nn/modules/module.py\u001b[0m in \u001b[0;36m_wrapped_call_impl\u001b[0;34m(self, *args, **kwargs)\u001b[0m\n\u001b[1;32m   1509\u001b[0m             \u001b[0;32mreturn\u001b[0m \u001b[0mself\u001b[0m\u001b[0;34m.\u001b[0m\u001b[0m_compiled_call_impl\u001b[0m\u001b[0;34m(\u001b[0m\u001b[0;34m*\u001b[0m\u001b[0margs\u001b[0m\u001b[0;34m,\u001b[0m \u001b[0;34m**\u001b[0m\u001b[0mkwargs\u001b[0m\u001b[0;34m)\u001b[0m  \u001b[0;31m# type: ignore[misc]\u001b[0m\u001b[0;34m\u001b[0m\u001b[0;34m\u001b[0m\u001b[0m\n\u001b[1;32m   1510\u001b[0m         \u001b[0;32melse\u001b[0m\u001b[0;34m:\u001b[0m\u001b[0;34m\u001b[0m\u001b[0;34m\u001b[0m\u001b[0m\n\u001b[0;32m-> 1511\u001b[0;31m             \u001b[0;32mreturn\u001b[0m \u001b[0mself\u001b[0m\u001b[0;34m.\u001b[0m\u001b[0m_call_impl\u001b[0m\u001b[0;34m(\u001b[0m\u001b[0;34m*\u001b[0m\u001b[0margs\u001b[0m\u001b[0;34m,\u001b[0m \u001b[0;34m**\u001b[0m\u001b[0mkwargs\u001b[0m\u001b[0;34m)\u001b[0m\u001b[0;34m\u001b[0m\u001b[0;34m\u001b[0m\u001b[0m\n\u001b[0m\u001b[1;32m   1512\u001b[0m \u001b[0;34m\u001b[0m\u001b[0m\n\u001b[1;32m   1513\u001b[0m     \u001b[0;32mdef\u001b[0m \u001b[0m_call_impl\u001b[0m\u001b[0;34m(\u001b[0m\u001b[0mself\u001b[0m\u001b[0;34m,\u001b[0m \u001b[0;34m*\u001b[0m\u001b[0margs\u001b[0m\u001b[0;34m,\u001b[0m \u001b[0;34m**\u001b[0m\u001b[0mkwargs\u001b[0m\u001b[0;34m)\u001b[0m\u001b[0;34m:\u001b[0m\u001b[0;34m\u001b[0m\u001b[0;34m\u001b[0m\u001b[0m\n",
            "\u001b[0;32m/usr/local/lib/python3.10/dist-packages/torch/nn/modules/module.py\u001b[0m in \u001b[0;36m_call_impl\u001b[0;34m(self, *args, **kwargs)\u001b[0m\n\u001b[1;32m   1518\u001b[0m                 \u001b[0;32mor\u001b[0m \u001b[0m_global_backward_pre_hooks\u001b[0m \u001b[0;32mor\u001b[0m \u001b[0m_global_backward_hooks\u001b[0m\u001b[0;34m\u001b[0m\u001b[0;34m\u001b[0m\u001b[0m\n\u001b[1;32m   1519\u001b[0m                 or _global_forward_hooks or _global_forward_pre_hooks):\n\u001b[0;32m-> 1520\u001b[0;31m             \u001b[0;32mreturn\u001b[0m \u001b[0mforward_call\u001b[0m\u001b[0;34m(\u001b[0m\u001b[0;34m*\u001b[0m\u001b[0margs\u001b[0m\u001b[0;34m,\u001b[0m \u001b[0;34m**\u001b[0m\u001b[0mkwargs\u001b[0m\u001b[0;34m)\u001b[0m\u001b[0;34m\u001b[0m\u001b[0;34m\u001b[0m\u001b[0m\n\u001b[0m\u001b[1;32m   1521\u001b[0m \u001b[0;34m\u001b[0m\u001b[0m\n\u001b[1;32m   1522\u001b[0m         \u001b[0;32mtry\u001b[0m\u001b[0;34m:\u001b[0m\u001b[0;34m\u001b[0m\u001b[0;34m\u001b[0m\u001b[0m\n",
            "\u001b[0;32m/usr/local/lib/python3.10/dist-packages/torch/nn/modules/linear.py\u001b[0m in \u001b[0;36mforward\u001b[0;34m(self, input)\u001b[0m\n\u001b[1;32m    114\u001b[0m \u001b[0;34m\u001b[0m\u001b[0m\n\u001b[1;32m    115\u001b[0m     \u001b[0;32mdef\u001b[0m \u001b[0mforward\u001b[0m\u001b[0;34m(\u001b[0m\u001b[0mself\u001b[0m\u001b[0;34m,\u001b[0m \u001b[0minput\u001b[0m\u001b[0;34m:\u001b[0m \u001b[0mTensor\u001b[0m\u001b[0;34m)\u001b[0m \u001b[0;34m->\u001b[0m \u001b[0mTensor\u001b[0m\u001b[0;34m:\u001b[0m\u001b[0;34m\u001b[0m\u001b[0;34m\u001b[0m\u001b[0m\n\u001b[0;32m--> 116\u001b[0;31m         \u001b[0;32mreturn\u001b[0m \u001b[0mF\u001b[0m\u001b[0;34m.\u001b[0m\u001b[0mlinear\u001b[0m\u001b[0;34m(\u001b[0m\u001b[0minput\u001b[0m\u001b[0;34m,\u001b[0m \u001b[0mself\u001b[0m\u001b[0;34m.\u001b[0m\u001b[0mweight\u001b[0m\u001b[0;34m,\u001b[0m \u001b[0mself\u001b[0m\u001b[0;34m.\u001b[0m\u001b[0mbias\u001b[0m\u001b[0;34m)\u001b[0m\u001b[0;34m\u001b[0m\u001b[0;34m\u001b[0m\u001b[0m\n\u001b[0m\u001b[1;32m    117\u001b[0m \u001b[0;34m\u001b[0m\u001b[0m\n\u001b[1;32m    118\u001b[0m     \u001b[0;32mdef\u001b[0m \u001b[0mextra_repr\u001b[0m\u001b[0;34m(\u001b[0m\u001b[0mself\u001b[0m\u001b[0;34m)\u001b[0m \u001b[0;34m->\u001b[0m \u001b[0mstr\u001b[0m\u001b[0;34m:\u001b[0m\u001b[0;34m\u001b[0m\u001b[0;34m\u001b[0m\u001b[0m\n",
            "\u001b[0;31mKeyboardInterrupt\u001b[0m: "
          ]
        }
      ],
      "source": [
        "loss_fn = nn.CrossEntropyLoss()\n",
        "optimizer = torch.optim.AdamW(model.parameters(), lr = 0.02)\n",
        "batch_size = 4096\n",
        "print_every = 100\n",
        "for epoch in range(10000):\n",
        "  total_loss = 0\n",
        "  for i in range(0, X.shape[0], batch_size):\n",
        "      x = X[i : i + batch_size]\n",
        "      y = Y[i : i + batch_size]\n",
        "      y_pred = model(x)\n",
        "      loss = loss_fn(y_pred.view(-1, len(stoi)), y.view(-1))\n",
        "      optimizer.zero_grad()\n",
        "      loss.backward()\n",
        "      optimizer.step()\n",
        "\n",
        "      total_loss += loss.item()\n",
        "\n",
        "  if epoch % print_every == 0:\n",
        "      average_loss = total_loss / (X.shape[0] / batch_size)\n",
        "      print(f\"Epoch {epoch}, Loss: {average_loss}\")"
      ]
    },
    {
      "cell_type": "markdown",
      "metadata": {
        "id": "FB0uBtNw4F9H"
      },
      "source": [
        "## **Saving the model**"
      ]
    },
    {
      "cell_type": "code",
      "execution_count": 86,
      "metadata": {
        "id": "CEha9utdP48e"
      },
      "outputs": [],
      "source": [
        "torch.save(model.state_dict(), \"modelGulliver20_50.pth\")"
      ]
    },
    {
      "cell_type": "code",
      "execution_count": 87,
      "metadata": {
        "colab": {
          "base_uri": "https://localhost:8080/"
        },
        "id": "J-frP1HW6yPP",
        "outputId": "68e9c9cf-3f61-478f-e766-1941a40bf484"
      },
      "outputs": [
        {
          "output_type": "execute_result",
          "data": {
            "text/plain": [
              "OrderedDict([('_orig_mod.emb.weight',\n",
              "              tensor([[-0.0826,  0.8177,  0.8053,  ..., -0.4778,  0.3350,  0.7782],\n",
              "                      [-0.5508,  0.0170,  0.0082,  ...,  0.1426,  0.2444, -0.1413],\n",
              "                      [-0.0269,  0.0320, -0.0826,  ...,  0.0601, -0.0102,  0.0378],\n",
              "                      ...,\n",
              "                      [-3.6801,  0.1027, -0.2057,  ...,  0.0271, -0.4896,  0.6726],\n",
              "                      [-0.1380, -0.0806,  0.0523,  ...,  0.1241,  0.7805, -1.0118],\n",
              "                      [-0.5757,  1.2184,  0.1446,  ..., -0.1055, -0.7906, -0.0632]],\n",
              "                     device='cuda:0')),\n",
              "             ('_orig_mod.lin1.weight',\n",
              "              tensor([[ 0.3785, -1.0516,  0.6254,  ...,  0.7059, -1.5783, -0.5624],\n",
              "                      [ 0.0078,  0.4073, -0.0509,  ..., -0.4866, -2.4353, -1.0558],\n",
              "                      [-0.2776,  0.5777, -0.3408,  ..., -0.7469,  1.6184,  3.5734],\n",
              "                      ...,\n",
              "                      [ 0.9878,  0.1626,  0.4817,  ...,  0.2027,  1.9820,  0.5528],\n",
              "                      [-0.3080,  0.7844,  0.7899,  ...,  0.4740, -0.1999, -0.4697],\n",
              "                      [-0.1281, -0.1942,  0.2127,  ..., -0.2074,  1.4322, -1.1202]],\n",
              "                     device='cuda:0')),\n",
              "             ('_orig_mod.lin1.bias',\n",
              "              tensor([-1.8863,  1.0971,  1.1829,  0.3944, -1.0036,  1.1316, -1.6713, -1.5089,\n",
              "                      -0.5651,  1.6044,  1.1047, -1.0431, -0.3064,  0.8227,  0.9668,  0.5197,\n",
              "                      -0.1177, -0.6269, -0.6171, -0.6048,  2.0332,  1.4747,  0.3322,  1.4598,\n",
              "                      -0.2314, -0.4645,  0.7635, -0.0360, -0.8738,  0.7484, -0.1824,  1.1942,\n",
              "                       0.8550, -0.3236,  0.1562,  1.1885,  0.5717,  1.7900, -1.9184, -0.7704,\n",
              "                      -0.1525,  0.4758, -0.5088, -0.1764, -1.2052, -0.7590,  0.0104,  0.8556,\n",
              "                      -0.8335,  0.2277,  1.3299,  2.1964, -0.2062,  0.1296,  1.1372,  1.4058,\n",
              "                       1.8037, -0.3143,  0.0243, -1.9414, -0.6415, -0.2415,  0.7228, -1.1884,\n",
              "                       0.9191,  0.8299,  0.8067,  0.3599,  0.0094, -0.3525,  0.2412, -1.5009,\n",
              "                       0.8332, -2.1430, -0.2079, -2.4921,  0.7082, -1.4405,  1.2733,  1.8981,\n",
              "                       1.6841, -0.8027, -0.1676,  0.9570, -0.4576, -0.7117,  0.6171,  1.9168,\n",
              "                       0.6684, -0.3061, -1.5489,  0.2048,  0.1991, -0.1835,  0.4766,  0.1580,\n",
              "                       2.3913,  0.0228, -1.5960,  0.8391], device='cuda:0')),\n",
              "             ('_orig_mod.lin2.weight',\n",
              "              tensor([[-0.3310,  1.1940,  0.4903,  ...,  0.8736, -0.1082, -0.0974],\n",
              "                      [ 0.1070,  0.9707,  0.7468,  ...,  0.3136, -0.4508, -0.5677],\n",
              "                      [ 1.3957, -0.2900, -0.5317,  ...,  0.2117,  0.2190,  1.4418],\n",
              "                      ...,\n",
              "                      [ 1.0063,  0.3285, -0.9225,  ...,  0.9882, -0.1579,  0.2302],\n",
              "                      [-0.6034, -0.3977,  0.4065,  ...,  0.6388, -0.7596,  0.6735],\n",
              "                      [ 0.9211,  0.9234, -0.3506,  ..., -0.6992, -0.1627, -0.6098]],\n",
              "                     device='cuda:0')),\n",
              "             ('_orig_mod.lin2.bias',\n",
              "              tensor([ 0.8801, -0.9000, -0.7571, -0.2239, -0.2150, -0.8901,  0.6828, -0.5340,\n",
              "                      -0.0714, -0.0775, -0.5182,  0.0495,  0.9538, -0.6643, -0.6669, -1.1048,\n",
              "                      -0.3766, -1.6917, -2.0896,  0.1871, -1.1855, -0.9382, -1.0378,  0.5670,\n",
              "                       0.6088,  1.1401,  0.6638, -0.9270, -1.2804,  0.8904,  0.0291,  0.4269,\n",
              "                       0.2046,  0.7456, -0.7136, -0.1794, -1.0031, -0.4460, -1.0900, -0.2080,\n",
              "                      -0.0117,  0.1435, -1.1438,  1.1290,  1.0757, -0.0101, -0.3796,  0.3296,\n",
              "                      -0.8242, -1.6083, -1.0818,  0.1544, -0.4664,  0.2895, -0.7421,  0.8328,\n",
              "                       0.6274, -0.5455,  1.1146, -0.5172,  0.2141,  0.0108,  0.0407, -1.2453,\n",
              "                       1.5740, -0.3473,  0.5250, -0.7087, -0.2016,  1.2207,  0.5217,  0.1855,\n",
              "                      -1.7054,  1.0778, -1.2010], device='cuda:0')),\n",
              "             ('_orig_mod.lin3.weight',\n",
              "              tensor([[-0.2010,  0.4424,  0.4502,  ...,  0.4681, -0.2655,  0.2479],\n",
              "                      [-0.0767,  0.4557,  0.7628,  ..., -0.0581,  0.3233,  0.0038],\n",
              "                      [-0.0505,  0.4074,  0.7378,  ..., -0.0917,  0.1625,  0.0862],\n",
              "                      ...,\n",
              "                      [-0.2581,  0.5070,  0.4772,  ...,  0.1685, -0.2907,  0.3365],\n",
              "                      [ 0.7871, -0.3043, -0.5377,  ...,  0.2714, -1.0627, -0.4863],\n",
              "                      [ 0.1182,  0.5698, -0.4328,  ...,  0.4803,  0.2459,  0.6978]],\n",
              "                     device='cuda:0')),\n",
              "             ('_orig_mod.lin3.bias',\n",
              "              tensor([-1.2846,  0.5431,  0.0831, -0.9215, -1.2309, -0.3619, -0.3688, -0.7427,\n",
              "                      -0.2369, -0.5928,  0.6817, -1.0264, -0.3411,  0.3042, -0.1234,  0.1270,\n",
              "                       0.3015,  0.1824, -0.1657, -0.3831,  0.1228, -0.6836, -0.9679, -0.8105,\n",
              "                      -0.4264, -0.3556, -0.1278, -0.2250,  0.2633,  0.1860, -0.0940, -0.3984,\n",
              "                       0.1448, -0.5738,  0.0132,  0.0804,  0.2685, -0.8700, -1.2671,  0.0529,\n",
              "                      -0.4951,  0.2417,  0.3774, -0.6161, -1.0982,  0.4710,  0.3590,  0.0398,\n",
              "                       0.2938,  0.0882, -0.3533, -0.4892, -0.4244, -1.7014], device='cuda:0'))])"
            ]
          },
          "metadata": {},
          "execution_count": 87
        }
      ],
      "source": [
        "model.state_dict()"
      ]
    },
    {
      "cell_type": "markdown",
      "metadata": {
        "id": "ZDaOSSSy-H7-"
      },
      "source": [
        "## Visualize the Learnt Embedding"
      ]
    },
    {
      "cell_type": "code",
      "execution_count": 88,
      "metadata": {
        "colab": {
          "base_uri": "https://localhost:8080/",
          "height": 456
        },
        "id": "nosn1YXFT2Bh",
        "outputId": "4e75e497-61b3-4449-cfcb-1a058c31be38"
      },
      "outputs": [
        {
          "output_type": "execute_result",
          "data": {
            "text/plain": [
              "<Axes: >"
            ]
          },
          "metadata": {},
          "execution_count": 88
        },
        {
          "output_type": "display_data",
          "data": {
            "text/plain": [
              "<Figure size 800x493.827 with 1 Axes>"
            ],
            "image/png": "[encoded data removed]"
          },
          "metadata": {
            "image/png": {
              "width": 678,
              "height": 422
            }
          }
        }
      ],
      "source": [
        "latexify(columns = 2, fig_width = 8)\n",
        "plot_emb(model.emb, itos)"
      ]
    },
    {
      "cell_type": "markdown",
      "metadata": {
        "id": "iTLlkHDY-H7_"
      },
      "source": [
        "## Generating Strings from the Model"
      ]
    },
    {
      "cell_type": "code",
      "execution_count": 92,
      "metadata": {
        "colab": {
          "base_uri": "https://localhost:8080/"
        },
        "id": "lIDdbZSrQrgY",
        "outputId": "08b77b08-a1da-48d8-98ea-080c25b04235"
      },
      "outputs": [
        {
          "output_type": "stream",
          "name": "stdout",
          "text": [
            "==================Seed Text=================\n",
            "directly upwards. when the position of the\n",
            "stone is oblique, the motion of the island is so too.\n",
            "\n",
            "\n",
            "===============Predicted Text===============\n",
            "directly upwards. when the position of the\n",
            "stone is oblique, the motion of the island is so too.\n",
            "but in know suvoubed england about in the usang sighted leone, play reading to persood of these, to matters a brederges to mone in ussing it; my found affects the country? and page, and les difllilf tending the mocaptments, and incrufal to se. iclest quited to turn a bicl. i tlought\n",
            "cated wu went for would left him\n",
            "isstituder\n",
            "my could not it attended frigin i had day, and her meveren, in proper in att ansmal; and there coat him\n",
            "sour, to she all an wishour, instpuned to wererdy and we\n",
            "samealf ongu\n",
            "ade a law seenp, alties of atter\n",
            "from thelvened many doing as an arise, where i could not so anceading and ach fankece justing me, and dull were\n",
            "rever the stem, and were redches on found i plaption bairs pold.\n",
            "\n",
            "by the eurouubed nonecatal from lausince\n",
            "again howevgh. the tlanding and senteriffin\n",
            "in lehaute tatured banle aurfusm to sequinled dreften it intermenh,6,) to spees for sall adomong i\n",
            "innat acged a\n",
            "very comean is deced, this and tabs togetrers all his of are strees; and innerished it t\n"
          ]
        }
      ],
      "source": [
        "start = np.random.randint(0, len(new_gulliver) - block_size - 1)\n",
        "end = start + 100\n",
        "while new_gulliver[start] != \" \":\n",
        "  start += 1\n",
        "\n",
        "while new_gulliver[end] != \" \":\n",
        "  end -= 1\n",
        "\n",
        "seed_text = new_gulliver[start + 1 : end]\n",
        "print(f\"==================Seed Text=================\\n{seed_text}\\n\")\n",
        "my_str = generate_text(model, itos, stoi, block_size, 1000, seed_text)\n",
        "decoded_string = bytes(my_str, \"utf-8\").decode(\"unicode_escape\")\n",
        "print(f\"\\n===============Predicted Text===============\\n{decoded_string}\")"
      ]
    },
    {
      "cell_type": "code",
      "source": [],
      "metadata": {
        "id": "izppbmPWyGn7"
      },
      "execution_count": null,
      "outputs": []
    }
  ],
  "metadata": {
    "accelerator": "GPU",
    "colab": {
      "gpuType": "T4",
      "provenance": []
    },
    "kernelspec": {
      "display_name": "Python 3",
      "name": "python3"
    },
    "language_info": {
      "codemirror_mode": {
        "name": "ipython",
        "version": 3
      },
      "file_extension": ".py",
      "mimetype": "text/x-python",
      "name": "python",
      "nbconvert_exporter": "python",
      "pygments_lexer": "ipython3",
      "version": "3.9.16"
    },
    "orig_nbformat": 4
  },
  "nbformat": 4,
  "nbformat_minor": 0
}