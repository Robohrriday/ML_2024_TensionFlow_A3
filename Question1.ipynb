{
  "cells": [
    {
      "cell_type": "code",
      "execution_count": 42,
      "metadata": {
        "id": "uyVM8Qy1T2Bd"
      },
      "outputs": [],
      "source": [
        "import torch\n",
        "import torch.nn.functional as F\n",
        "from torch import nn\n",
        "import pandas as pd\n",
        "import matplotlib.pyplot as plt\n",
        "from latex import latexify, format_axes\n",
        "from pprint import pprint\n",
        "\n",
        "import torch._dynamo\n",
        "torch._dynamo.config.suppress_errors = True\n",
        "\n",
        "%matplotlib inline\n",
        "%config InlineBackend.figure_format = \"retina\""
      ]
    },
    {
      "cell_type": "code",
      "execution_count": 19,
      "metadata": {
        "colab": {
          "base_uri": "https://localhost:8080/"
        },
        "id": "q3fSU3yoT2Be",
        "outputId": "816c4e89-a914-4c74-9aca-1a2b926f6b31"
      },
      "outputs": [
        {
          "name": "stdout",
          "output_type": "stream",
          "text": [
            "mps\n"
          ]
        }
      ],
      "source": [
        "if (torch.cuda.is_available()):\n",
        "    device = torch.device(\"cuda\")\n",
        "elif (torch.backends.mps.is_available()):\n",
        "    device = torch.device(\"mps\")\n",
        "else:\n",
        "    device = torch.device(\"cpu\")\n",
        "print(device)"
      ]
    },
    {
      "cell_type": "code",
      "execution_count": 20,
      "metadata": {
        "colab": {
          "base_uri": "https://localhost:8080/"
        },
        "id": "Km_cz7JFT2Be",
        "outputId": "82f025aa-1985-44ce-fee1-d5525948c51d"
      },
      "outputs": [
        {
          "name": "stdout",
          "output_type": "stream",
          "text": [
            "--2024-03-10 15:04:02--  https://raw.githubusercontent.com/balasahebgulave/Dataset-Indian-Names/master/Indian_Names.csv\n",
            "Resolving raw.githubusercontent.com (raw.githubusercontent.com)... 185.199.108.133, 185.199.110.133, 185.199.109.133, ...\n",
            "Connecting to raw.githubusercontent.com (raw.githubusercontent.com)|185.199.108.133|:443... connected.\n",
            "HTTP request sent, awaiting response... 200 OK\n",
            "Length: 85538 (84K) [text/plain]\n",
            "Saving to: ‘names-long.csv’\n",
            "\n",
            "names-long.csv      100%[===================>]  83.53K  --.-KB/s    in 0.02s   \n",
            "\n",
            "2024-03-10 15:04:02 (4.24 MB/s) - ‘names-long.csv’ saved [85538/85538]\n",
            "\n"
          ]
        }
      ],
      "source": [
        "!wget https://raw.githubusercontent.com/balasahebgulave/Dataset-Indian-Names/master/Indian_Names.csv -O names-long.csv"
      ]
    },
    {
      "cell_type": "code",
      "execution_count": 21,
      "metadata": {
        "colab": {
          "base_uri": "https://localhost:8080/"
        },
        "id": "eUklRsJpT2Be",
        "outputId": "c01b313b-282d-4b47-a7c0-63ced02d5294"
      },
      "outputs": [
        {
          "name": "stdout",
          "output_type": "stream",
          "text": [
            ",Name\n",
            "0,aabid\n",
            "1,aabida\n",
            "2,aachal\n",
            "3,aadesh\n",
            "4,aadil\n",
            "5,aadish\n",
            "6,aaditya\n",
            "7,aaenab\n",
            "8,aafreen\n"
          ]
        }
      ],
      "source": [
        "!head names-long.csv"
      ]
    },
    {
      "cell_type": "code",
      "execution_count": 22,
      "metadata": {
        "colab": {
          "base_uri": "https://localhost:8080/"
        },
        "id": "qkq5nw31T2Be",
        "outputId": "d7767ee0-6701-465f-f674-b5ae4b044766"
      },
      "outputs": [
        {
          "name": "stdout",
          "output_type": "stream",
          "text": [
            "6476,zeshan\n",
            "6477,zhini\n",
            "6478,ziarul\n",
            "6479,zile\n",
            "6480,zina\n",
            "6481,zishan\n",
            "6482,ziyabul\n",
            "6483,zoya\n",
            "6484,zuhaib\n",
            "6485,zuveb\n"
          ]
        }
      ],
      "source": [
        "!tail names-long.csv"
      ]
    },
    {
      "cell_type": "code",
      "execution_count": 29,
      "metadata": {
        "colab": {
          "base_uri": "https://localhost:8080/"
        },
        "id": "02xi0riAT2Be",
        "outputId": "6dead05d-2ea5-4cae-ee85-e0d31204fd55"
      },
      "outputs": [
        {
          "data": {
            "text/plain": [
              "['joyate',\n",
              " 'chanpa',\n",
              " 'vanshu',\n",
              " 'nafisa',\n",
              " 'begraj',\n",
              " 'manesh',\n",
              " 'harpal',\n",
              " 'gangajali',\n",
              " 'ishwer',\n",
              " 'durga']"
            ]
          },
          "execution_count": 29,
          "metadata": {},
          "output_type": "execute_result"
        }
      ],
      "source": [
        "words = pd.read_csv(\"names-long.csv\")[\"Name\"]\n",
        "words = words.str.lower()\n",
        "words = words.str.strip()\n",
        "words = words.str.replace(\" \", \"\")\n",
        "\n",
        "words = words[words.str.len() > 2]\n",
        "words = words[words.str.len() < 10]\n",
        "\n",
        "words = words.sample(frac = 1).reset_index(drop = True)\n",
        "words = words.tolist()\n",
        "\n",
        "words = [word for word in words if word.isalpha()]\n",
        "words[:10]"
      ]
    },
    {
      "cell_type": "code",
      "execution_count": 30,
      "metadata": {
        "colab": {
          "base_uri": "https://localhost:8080/"
        },
        "id": "1Y1He7oxT2Be",
        "outputId": "06a56ed5-162b-4162-e35e-6f5d8bf72113"
      },
      "outputs": [
        {
          "data": {
            "text/plain": [
              "6184"
            ]
          },
          "execution_count": 30,
          "metadata": {},
          "output_type": "execute_result"
        }
      ],
      "source": [
        "len(words)"
      ]
    },
    {
      "cell_type": "code",
      "execution_count": 31,
      "metadata": {
        "colab": {
          "base_uri": "https://localhost:8080/"
        },
        "id": "iXPw95eZT2Be",
        "outputId": "da8ca810-a406-4941-ad82-69960dfeb0a3"
      },
      "outputs": [
        {
          "name": "stdout",
          "output_type": "stream",
          "text": [
            "{0: '.',\n",
            " 1: 'a',\n",
            " 2: 'b',\n",
            " 3: 'c',\n",
            " 4: 'd',\n",
            " 5: 'e',\n",
            " 6: 'f',\n",
            " 7: 'g',\n",
            " 8: 'h',\n",
            " 9: 'i',\n",
            " 10: 'j',\n",
            " 11: 'k',\n",
            " 12: 'l',\n",
            " 13: 'm',\n",
            " 14: 'n',\n",
            " 15: 'o',\n",
            " 16: 'p',\n",
            " 17: 'q',\n",
            " 18: 'r',\n",
            " 19: 's',\n",
            " 20: 't',\n",
            " 21: 'u',\n",
            " 22: 'v',\n",
            " 23: 'w',\n",
            " 24: 'x',\n",
            " 25: 'y',\n",
            " 26: 'z'}\n"
          ]
        }
      ],
      "source": [
        "# build the vocabulary of characters and mappings to/from integers\n",
        "chars = sorted(list(set(''.join(words))))\n",
        "stoi = {s:i+1 for i,s in enumerate(chars)}\n",
        "stoi['.'] = 0\n",
        "itos = {i:s for s,i in stoi.items()}\n",
        "pprint(itos)"
      ]
    },
    {
      "cell_type": "code",
      "execution_count": null,
      "metadata": {
        "colab": {
          "base_uri": "https://localhost:8080/"
        },
        "id": "ehhRBBkFT2Bf",
        "outputId": "cf7eb072-b33b-42a0-ca29-c411a7406c27"
      },
      "outputs": [],
      "source": [
        "block_size = 6 # context length: how many characters do we take to predict the next one?\n",
        "X, Y = [], []\n",
        "for w in words[:]:\n",
        "\n",
        "  #print(w)\n",
        "  context = [0] * block_size\n",
        "  for ch in w + '.':\n",
        "    ix = stoi[ch]\n",
        "    X.append(context)\n",
        "    Y.append(ix)\n",
        "    print(''.join(itos[i] for i in context), '--->', itos[ix])\n",
        "    context = context[1:] + [ix] # crop and append\n",
        "\n",
        "# Move data to GPU\n",
        "\n",
        "X = torch.tensor(X).to(device)\n",
        "Y = torch.tensor(Y).to(device)"
      ]
    },
    {
      "cell_type": "code",
      "execution_count": 33,
      "metadata": {
        "colab": {
          "base_uri": "https://localhost:8080/"
        },
        "id": "SPF1bM3zT2Bg",
        "outputId": "6ef65cef-e53e-41d4-d413-5ef035985235"
      },
      "outputs": [
        {
          "data": {
            "text/plain": [
              "(torch.Size([44325, 6]), torch.int64, torch.Size([44325]), torch.int64)"
            ]
          },
          "execution_count": 33,
          "metadata": {},
          "output_type": "execute_result"
        }
      ],
      "source": [
        "X.shape, X.dtype, Y.shape, Y.dtype"
      ]
    },
    {
      "cell_type": "code",
      "execution_count": 34,
      "metadata": {
        "id": "_sCN5vWeT2Bh"
      },
      "outputs": [],
      "source": [
        "# Embedding layer for the context\n",
        "emb_dim = 2\n",
        "emb = torch.nn.Embedding(len(stoi), emb_dim)"
      ]
    },
    {
      "cell_type": "code",
      "execution_count": 35,
      "metadata": {
        "colab": {
          "base_uri": "https://localhost:8080/"
        },
        "id": "pr3KlPlFT2Bh",
        "outputId": "b7fef7ba-b4c0-4c52-e916-eadac0fae397"
      },
      "outputs": [
        {
          "data": {
            "text/plain": [
              "Parameter containing:\n",
              "tensor([[ 0.4467, -0.1521],\n",
              "        [-1.5122,  1.3747],\n",
              "        [-1.5828, -0.1645],\n",
              "        [-1.3247,  1.5094],\n",
              "        [-0.6552,  0.2684],\n",
              "        [ 0.3702,  0.6972],\n",
              "        [-1.5209,  0.9072],\n",
              "        [-1.3207, -1.0116],\n",
              "        [ 0.5313, -1.2704],\n",
              "        [-0.1176, -0.4682],\n",
              "        [-0.1676,  0.6424],\n",
              "        [ 0.2199,  0.6795],\n",
              "        [-0.2577,  1.1204],\n",
              "        [ 0.5831,  2.3591],\n",
              "        [ 1.2759, -0.7879],\n",
              "        [ 0.0234,  0.4617],\n",
              "        [ 0.5425,  0.9716],\n",
              "        [ 0.1243,  1.0201],\n",
              "        [ 0.6541, -0.2934],\n",
              "        [-0.3801,  0.4222],\n",
              "        [ 1.6377, -0.1767],\n",
              "        [-0.1054,  0.5136],\n",
              "        [ 1.4304, -0.1785],\n",
              "        [ 0.4663, -0.1879],\n",
              "        [-0.5254,  2.1931],\n",
              "        [ 0.4736, -1.0893],\n",
              "        [-0.2242,  0.4170]], requires_grad=True)"
            ]
          },
          "execution_count": 35,
          "metadata": {},
          "output_type": "execute_result"
        }
      ],
      "source": [
        "emb.weight"
      ]
    },
    {
      "cell_type": "code",
      "execution_count": 36,
      "metadata": {
        "colab": {
          "base_uri": "https://localhost:8080/"
        },
        "id": "ulJCyMqWT2Bh",
        "outputId": "f0c959b8-a8af-45a9-cea6-e43c96007d40"
      },
      "outputs": [
        {
          "data": {
            "text/plain": [
              "torch.Size([27, 2])"
            ]
          },
          "execution_count": 36,
          "metadata": {},
          "output_type": "execute_result"
        }
      ],
      "source": [
        "emb.weight.shape"
      ]
    },
    {
      "cell_type": "code",
      "execution_count": 39,
      "metadata": {
        "colab": {
          "base_uri": "https://localhost:8080/",
          "height": 447
        },
        "id": "jKMFCuDfT2Bh",
        "outputId": "5dd445e2-be3e-4796-9da9-7f3982a557a7"
      },
      "outputs": [
        {
          "data": {
            "text/plain": [
              "<Axes: >"
            ]
          },
          "execution_count": 39,
          "metadata": {},
          "output_type": "execute_result"
        },
        {
          "data": {
            "image/png": "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",
            "text/plain": [
              "<Figure size 800x493.827 with 1 Axes>"
            ]
          },
          "metadata": {
            "image/png": {
              "height": 423,
              "width": 678
            }
          },
          "output_type": "display_data"
        }
      ],
      "source": [
        "# # Function to visualize the embedding in 2d space\n",
        "latexify(columns = 2, fig_width = 8)\n",
        "def plot_emb(emb, itos, ax=None):\n",
        "    if ax is None:\n",
        "        fig, ax = plt.subplots()\n",
        "    for i in range(len(itos)):\n",
        "        x, y = emb.weight[i].detach().cpu().numpy()\n",
        "        ax.scatter(x, y, color='k')\n",
        "        ax.text(x + 0.05, y + 0.05, itos[i])\n",
        "    return ax\n",
        "\n",
        "plot_emb(emb, itos)"
      ]
    },
    {
      "cell_type": "markdown",
      "metadata": {},
      "source": [
        "## Structure of the **MLP**"
      ]
    },
    {
      "cell_type": "markdown",
      "metadata": {},
      "source": [Question1
        "![Alt](./Embed.svg)\n",
        "![Alt](./ModelEmbed.svg)"]
    },
    {
      "cell_type": "code",
      "execution_count": 40,
      "metadata": {
        "id": "PDfBN6zsT2Bh"
      },
      "outputs": [],
      "source": [
        "class NextChar(nn.Module):\n",
        "  def __init__(self, block_size, vocab_size, emb_dim, hidden_size):\n",
        "    super().__init__()\n",
        "    self.emb = nn.Embedding(vocab_size, emb_dim)\n",
        "    self.lin1 = nn.Linear(block_size * emb_dim, hidden_size)\n",
        "    self.lin2 = nn.Linear(hidden_size, vocab_size)\n",
        "\n",
        "  def forward(self, x):\n",
        "    x = self.emb(x)\n",
        "    x = x.view(x.shape[0], -1)\n",
        "    x = torch.sin(self.lin1(x))\n",
        "    x = self.lin2(x)\n",
        "    return x"
      ]
    },
    {
      "cell_type": "code",
      "execution_count": 44,
      "metadata": {
        "colab": {
          "base_uri": "https://localhost:8080/"
        },
        "id": "XrUgp9DKT2Bh",
        "outputId": "11b3020d-fe72-4559-949b-764d18401a88"
      },
      "outputs": [
        {
          "name": "stdout",
          "output_type": "stream",
          "text": [
            "q\n",
            "mqxkrusphb\n",
            "iploxqxliy\n",
            "fhztwzluza\n",
            "xqwrgtpykl\n",
            "zofcxvsrmy\n",
            "udznjvklul\n",
            "qaflkxnloj\n",
            "pselfvcoft\n",
            "mndqekdnii\n"
          ]
        }
      ],
      "source": [
        "# Generate names from untrained model\n",
        "model = NextChar(block_size, len(stoi), emb_dim, 10).to(device)\n",
        "model = torch.compile(model)\n",
        "\n",
        "g = torch.Generator()\n",
        "g.manual_seed(400002)\n",
        "def generate_name(model, itos, stoi, block_size, max_len=10):\n",
        "    context = [0] * block_size\n",
        "    name = ''\n",
        "    for i in range(max_len):\n",
        "        x = torch.tensor(context).view(1, -1).to(device)\n",
        "        y_pred = model(x)\n",
        "        ix = torch.distributions.categorical.Categorical(logits = y_pred).sample().item()\n",
        "        ch = itos[ix]\n",
        "        if ch == '.':\n",
        "            break\n",
        "        name += ch\n",
        "        context = context[1:] + [ix]\n",
        "    return name\n",
        "\n",
        "for i in range(10):\n",
        "    print(generate_name(model, itos, stoi, block_size))"
      ]
    },
    {
      "cell_type": "code",
      "execution_count": 45,
      "metadata": {
        "colab": {
          "base_uri": "https://localhost:8080/"
        },
        "id": "ns8A0lF5T2Bh",
        "outputId": "2b37e347-cbba-4a11-9d33-00c4271953c9"
      },
      "outputs": [
        {
          "name": "stdout",
          "output_type": "stream",
          "text": [
            "_orig_mod.emb.weight torch.Size([27, 2])\n",
            "_orig_mod.lin1.weight torch.Size([10, 12])\n",
            "_orig_mod.lin1.bias torch.Size([10])\n",
            "_orig_mod.lin2.weight torch.Size([27, 10])\n",
            "_orig_mod.lin2.bias torch.Size([27])\n"
          ]
        }
      ],
      "source": [
        "for param_name, param in model.named_parameters():\n",
        "    print(param_name, param.shape)"
      ]
    },
    {
      "cell_type": "code",
      "execution_count": 46,
      "metadata": {
        "colab": {
          "base_uri": "https://localhost:8080/",
          "height": 495
        },
        "id": "do-Ih57PT2Bh",
        "outputId": "f2b3b719-798f-49a7-bf04-4f7c6f7fdbf1"
      },
      "outputs": [
        {
          "name": "stdout",
          "output_type": "stream",
          "text": [
            "0 3.1173317432403564\n",
            "100 2.2104063034057617\n",
            "200 2.199434518814087\n",
            "300 2.1989548206329346\n",
            "400 2.1969640254974365\n"
          ]
        },
        {
          "ename": "KeyboardInterrupt",
          "evalue": "",
          "output_type": "error",
          "traceback": [
            "\u001b[0;31m---------------------------------------------------------------------------\u001b[0m",
            "\u001b[0;31mKeyboardInterrupt\u001b[0m                         Traceback (most recent call last)",
            "Cell \u001b[0;32mIn[46], line 17\u001b[0m\n\u001b[1;32m     15\u001b[0m y_pred \u001b[38;5;241m=\u001b[39m model(x)\n\u001b[1;32m     16\u001b[0m loss \u001b[38;5;241m=\u001b[39m loss_fn(y_pred, y)\n\u001b[0;32m---> 17\u001b[0m \u001b[43mloss\u001b[49m\u001b[38;5;241;43m.\u001b[39;49m\u001b[43mbackward\u001b[49m\u001b[43m(\u001b[49m\u001b[43m)\u001b[49m\n\u001b[1;32m     18\u001b[0m opt\u001b[38;5;241m.\u001b[39mstep()\n\u001b[1;32m     19\u001b[0m opt\u001b[38;5;241m.\u001b[39mzero_grad()\n",
            "File \u001b[0;32m~/micromamba/lib/python3.9/site-packages/torch/_tensor.py:522\u001b[0m, in \u001b[0;36mTensor.backward\u001b[0;34m(self, gradient, retain_graph, create_graph, inputs)\u001b[0m\n\u001b[1;32m    512\u001b[0m \u001b[38;5;28;01mif\u001b[39;00m has_torch_function_unary(\u001b[38;5;28mself\u001b[39m):\n\u001b[1;32m    513\u001b[0m     \u001b[38;5;28;01mreturn\u001b[39;00m handle_torch_function(\n\u001b[1;32m    514\u001b[0m         Tensor\u001b[38;5;241m.\u001b[39mbackward,\n\u001b[1;32m    515\u001b[0m         (\u001b[38;5;28mself\u001b[39m,),\n\u001b[0;32m   (...)\u001b[0m\n\u001b[1;32m    520\u001b[0m         inputs\u001b[38;5;241m=\u001b[39minputs,\n\u001b[1;32m    521\u001b[0m     )\n\u001b[0;32m--> 522\u001b[0m \u001b[43mtorch\u001b[49m\u001b[38;5;241;43m.\u001b[39;49m\u001b[43mautograd\u001b[49m\u001b[38;5;241;43m.\u001b[39;49m\u001b[43mbackward\u001b[49m\u001b[43m(\u001b[49m\n\u001b[1;32m    523\u001b[0m \u001b[43m    \u001b[49m\u001b[38;5;28;43mself\u001b[39;49m\u001b[43m,\u001b[49m\u001b[43m \u001b[49m\u001b[43mgradient\u001b[49m\u001b[43m,\u001b[49m\u001b[43m \u001b[49m\u001b[43mretain_graph\u001b[49m\u001b[43m,\u001b[49m\u001b[43m \u001b[49m\u001b[43mcreate_graph\u001b[49m\u001b[43m,\u001b[49m\u001b[43m \u001b[49m\u001b[43minputs\u001b[49m\u001b[38;5;241;43m=\u001b[39;49m\u001b[43minputs\u001b[49m\n\u001b[1;32m    524\u001b[0m \u001b[43m\u001b[49m\u001b[43m)\u001b[49m\n",
            "File \u001b[0;32m~/micromamba/lib/python3.9/site-packages/torch/autograd/__init__.py:266\u001b[0m, in \u001b[0;36mbackward\u001b[0;34m(tensors, grad_tensors, retain_graph, create_graph, grad_variables, inputs)\u001b[0m\n\u001b[1;32m    261\u001b[0m     retain_graph \u001b[38;5;241m=\u001b[39m create_graph\n\u001b[1;32m    263\u001b[0m \u001b[38;5;66;03m# The reason we repeat the same comment below is that\u001b[39;00m\n\u001b[1;32m    264\u001b[0m \u001b[38;5;66;03m# some Python versions print out the first line of a multi-line function\u001b[39;00m\n\u001b[1;32m    265\u001b[0m \u001b[38;5;66;03m# calls in the traceback and some print out the last line\u001b[39;00m\n\u001b[0;32m--> 266\u001b[0m \u001b[43mVariable\u001b[49m\u001b[38;5;241;43m.\u001b[39;49m\u001b[43m_execution_engine\u001b[49m\u001b[38;5;241;43m.\u001b[39;49m\u001b[43mrun_backward\u001b[49m\u001b[43m(\u001b[49m\u001b[43m  \u001b[49m\u001b[38;5;66;43;03m# Calls into the C++ engine to run the backward pass\u001b[39;49;00m\n\u001b[1;32m    267\u001b[0m \u001b[43m    \u001b[49m\u001b[43mtensors\u001b[49m\u001b[43m,\u001b[49m\n\u001b[1;32m    268\u001b[0m \u001b[43m    \u001b[49m\u001b[43mgrad_tensors_\u001b[49m\u001b[43m,\u001b[49m\n\u001b[1;32m    269\u001b[0m \u001b[43m    \u001b[49m\u001b[43mretain_graph\u001b[49m\u001b[43m,\u001b[49m\n\u001b[1;32m    270\u001b[0m \u001b[43m    \u001b[49m\u001b[43mcreate_graph\u001b[49m\u001b[43m,\u001b[49m\n\u001b[1;32m    271\u001b[0m \u001b[43m    \u001b[49m\u001b[43minputs\u001b[49m\u001b[43m,\u001b[49m\n\u001b[1;32m    272\u001b[0m \u001b[43m    \u001b[49m\u001b[43mallow_unreachable\u001b[49m\u001b[38;5;241;43m=\u001b[39;49m\u001b[38;5;28;43;01mTrue\u001b[39;49;00m\u001b[43m,\u001b[49m\n\u001b[1;32m    273\u001b[0m \u001b[43m    \u001b[49m\u001b[43maccumulate_grad\u001b[49m\u001b[38;5;241;43m=\u001b[39;49m\u001b[38;5;28;43;01mTrue\u001b[39;49;00m\u001b[43m,\u001b[49m\n\u001b[1;32m    274\u001b[0m \u001b[43m\u001b[49m\u001b[43m)\u001b[49m\n",
            "\u001b[0;31mKeyboardInterrupt\u001b[0m: "
          ]
        }
      ],
      "source": [
        "# Train the model\n",
        "\n",
        "loss_fn = nn.CrossEntropyLoss()\n",
        "opt = torch.optim.AdamW(model.parameters(), lr=0.01)\n",
        "import time\n",
        "# Mini-batch training\n",
        "batch_size = 4096\n",
        "print_every = 100\n",
        "elapsed_time = []\n",
        "for epoch in range(10000):\n",
        "    start_time = time.time()\n",
        "    for i in range(0, X.shape[0], batch_size):\n",
        "        x = X[i:i+batch_size]\n",
        "        y = Y[i:i+batch_size]\n",
        "        y_pred = model(x)\n",
        "        loss = loss_fn(y_pred, y)\n",
        "        loss.backward()\n",
        "        opt.step()\n",
        "        opt.zero_grad()\n",
        "    end_time = time.time()\n",
        "    elapsed_time.append(end_time - start_time)\n",
        "    if epoch % print_every == 0:\n",
        "        print(epoch, loss.item())\n"
      ]
    },
    {
      "cell_type": "code",
      "execution_count": 47,
      "metadata": {
        "colab": {
          "base_uri": "https://localhost:8080/",
          "height": 447
        },
        "id": "nosn1YXFT2Bh",
        "outputId": "22e73c52-553b-4b14-e0a1-a6d914380e90"
      },
      "outputs": [
        {
          "data": {
            "text/plain": [
              "<Axes: >"
            ]
          },
          "execution_count": 47,
          "metadata": {},
          "output_type": "execute_result"
        },
        {
          "data": {
            "image/png": "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",
            "text/plain": [
              "<Figure size 800x493.827 with 1 Axes>"
            ]
          },
          "metadata": {
            "image/png": {
              "height": 422,
              "width": 678
            }
          },
          "output_type": "display_data"
        }
      ],
      "source": [
        "# # Visualize the embedding\n",
        "latexify(columns = 2, fig_width = 8)\n",
        "plot_emb(model.emb, itos)"
      ]
    },
    {
      "cell_type": "code",
      "execution_count": 51,
      "metadata": {
        "colab": {
          "base_uri": "https://localhost:8080/"
        },
        "id": "HfUxXotCT2Bh",
        "outputId": "8773916a-67a0-4143-c471-7f20a4db4eba"
      },
      "outputs": [
        {
          "name": "stdout",
          "output_type": "stream",
          "text": [
            "omrneena\n",
            "fisher\n",
            "sandeepen\n",
            "thiishon\n",
            "domashan\n",
            "mohyak\n",
            "namiki\n",
            "rasan\n",
            "amikeem\n",
            "adhri\n",
            "hahma\n",
            "kojelsha\n",
            "hvini\n",
            "gadalr\n",
            "shusur\n",
            "razmav\n",
            "nurhil\n",
            "binaja\n",
            "magululd\n",
            "mandbal\n"
          ]
        }
      ],
      "source": [
        "# Generate names from trained model\n",
        "\n",
        "for i in range(20):\n",
        "    print(generate_name(model, itos, stoi, block_size))"
      ]
    }
  ],
  "metadata": {
    "accelerator": "GPU",
    "colab": {
      "gpuType": "T4",
      "provenance": []
    },
    "kernelspec": {
      "display_name": "Python 3",
      "name": "python3"
    },
    "language_info": {
      "codemirror_mode": {
        "name": "ipython",
        "version": 3
      },
      "file_extension": ".py",
      "mimetype": "text/x-python",
      "name": "python",
      "nbconvert_exporter": "python",
      "pygments_lexer": "ipython3",
      "version": "3.9.16"
    },
    "orig_nbformat": 4
  },
  "nbformat": 4,
  "nbformat_minor": 0
}
