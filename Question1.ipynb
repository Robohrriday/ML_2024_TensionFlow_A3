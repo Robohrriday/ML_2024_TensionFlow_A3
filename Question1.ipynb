{
  "cells": [
    {
      "cell_type": "code",
      "execution_count": 18,
      "metadata": {
        "id": "uyVM8Qy1T2Bd"
      },
      "outputs": [],
      "source": [
        "import torch\n",
        "import torch.nn.functional as F\n",
        "from torch import nn\n",
        "import pandas as pd\n",
        "import matplotlib.pyplot as plt\n",
        "from latex import latexify, format_axes\n",
        "from pprint import pprint\n",
        "\n",
        "%matplotlib inline\n",
        "%config InlineBackend.figure_format = \"retina\""
      ]
    },
    {
      "cell_type": "code",
      "execution_count": 19,
      "metadata": {
        "colab": {
          "base_uri": "https://localhost:8080/"
        },
        "id": "q3fSU3yoT2Be",
        "outputId": "816c4e89-a914-4c74-9aca-1a2b926f6b31"
      },
      "outputs": [
        {
          "name": "stdout",
          "output_type": "stream",
          "text": [
            "mps\n"
          ]
        }
      ],
      "source": [
        "if (torch.cuda.is_available()):\n",
        "    device = torch.device(\"cuda\")\n",
        "elif (torch.backends.mps.is_available()):\n",
        "    device = torch.device(\"mps\")\n",
        "else:\n",
        "    device = torch.device(\"cpu\")\n",
        "print(device)"
      ]
    },
    {
      "cell_type": "code",
      "execution_count": 20,
      "metadata": {
        "colab": {
          "base_uri": "https://localhost:8080/"
        },
        "id": "Km_cz7JFT2Be",
        "outputId": "82f025aa-1985-44ce-fee1-d5525948c51d"
      },
      "outputs": [
        {
          "name": "stdout",
          "output_type": "stream",
          "text": [
            "--2024-03-10 15:04:02--  https://raw.githubusercontent.com/balasahebgulave/Dataset-Indian-Names/master/Indian_Names.csv\n",
            "Resolving raw.githubusercontent.com (raw.githubusercontent.com)... 185.199.108.133, 185.199.110.133, 185.199.109.133, ...\n",
            "Connecting to raw.githubusercontent.com (raw.githubusercontent.com)|185.199.108.133|:443... connected.\n",
            "HTTP request sent, awaiting response... 200 OK\n",
            "Length: 85538 (84K) [text/plain]\n",
            "Saving to: ‘names-long.csv’\n",
            "\n",
            "names-long.csv      100%[===================>]  83.53K  --.-KB/s    in 0.02s   \n",
            "\n",
            "2024-03-10 15:04:02 (4.24 MB/s) - ‘names-long.csv’ saved [85538/85538]\n",
            "\n"
          ]
        }
      ],
      "source": [
        "!wget https://raw.githubusercontent.com/balasahebgulave/Dataset-Indian-Names/master/Indian_Names.csv -O names-long.csv"
      ]
    },
    {
      "cell_type": "code",
      "execution_count": 21,
      "metadata": {
        "colab": {
          "base_uri": "https://localhost:8080/"
        },
        "id": "eUklRsJpT2Be",
        "outputId": "c01b313b-282d-4b47-a7c0-63ced02d5294"
      },
      "outputs": [
        {
          "name": "stdout",
          "output_type": "stream",
          "text": [
            ",Name\n",
            "0,aabid\n",
            "1,aabida\n",
            "2,aachal\n",
            "3,aadesh\n",
            "4,aadil\n",
            "5,aadish\n",
            "6,aaditya\n",
            "7,aaenab\n",
            "8,aafreen\n"
          ]
        }
      ],
      "source": [
        "!head names-long.csv"
      ]
    },
    {
      "cell_type": "code",
      "execution_count": 22,
      "metadata": {
        "colab": {
          "base_uri": "https://localhost:8080/"
        },
        "id": "qkq5nw31T2Be",
        "outputId": "d7767ee0-6701-465f-f674-b5ae4b044766"
      },
      "outputs": [
        {
          "name": "stdout",
          "output_type": "stream",
          "text": [
            "6476,zeshan\n",
            "6477,zhini\n",
            "6478,ziarul\n",
            "6479,zile\n",
            "6480,zina\n",
            "6481,zishan\n",
            "6482,ziyabul\n",
            "6483,zoya\n",
            "6484,zuhaib\n",
            "6485,zuveb\n"
          ]
        }
      ],
      "source": [
        "!tail names-long.csv"
      ]
    },
    {
      "cell_type": "code",
      "execution_count": 29,
      "metadata": {
        "colab": {
          "base_uri": "https://localhost:8080/"
        },
        "id": "02xi0riAT2Be",
        "outputId": "6dead05d-2ea5-4cae-ee85-e0d31204fd55"
      },
      "outputs": [
        {
          "data": {
            "text/plain": [
              "['joyate',\n",
              " 'chanpa',\n",
              " 'vanshu',\n",
              " 'nafisa',\n",
              " 'begraj',\n",
              " 'manesh',\n",
              " 'harpal',\n",
              " 'gangajali',\n",
              " 'ishwer',\n",
              " 'durga']"
            ]
          },
          "execution_count": 29,
          "metadata": {},
          "output_type": "execute_result"
        }
      ],
      "source": [
        "words = pd.read_csv(\"names-long.csv\")[\"Name\"]\n",
        "words = words.str.lower()\n",
        "words = words.str.strip()\n",
        "words = words.str.replace(\" \", \"\")\n",
        "\n",
        "words = words[words.str.len() > 2]\n",
        "words = words[words.str.len() < 10]\n",
        "\n",
        "words = words.sample(frac = 1).reset_index(drop = True)\n",
        "words = words.tolist()\n",
        "\n",
        "words = [word for word in words if word.isalpha()]\n",
        "words[:10]"
      ]
    },
    {
      "cell_type": "code",
      "execution_count": 30,
      "metadata": {
        "colab": {
          "base_uri": "https://localhost:8080/"
        },
        "id": "1Y1He7oxT2Be",
        "outputId": "06a56ed5-162b-4162-e35e-6f5d8bf72113"
      },
      "outputs": [
        {
          "data": {
            "text/plain": [
              "6184"
            ]
          },
          "execution_count": 30,
          "metadata": {},
          "output_type": "execute_result"
        }
      ],
      "source": [
        "len(words)"
      ]
    },
    {
      "cell_type": "code",
      "execution_count": 31,
      "metadata": {
        "colab": {
          "base_uri": "https://localhost:8080/"
        },
        "id": "iXPw95eZT2Be",
        "outputId": "da8ca810-a406-4941-ad82-69960dfeb0a3"
      },
      "outputs": [
        {
          "name": "stdout",
          "output_type": "stream",
          "text": [
            "{0: '.',\n",
            " 1: 'a',\n",
            " 2: 'b',\n",
            " 3: 'c',\n",
            " 4: 'd',\n",
            " 5: 'e',\n",
            " 6: 'f',\n",
            " 7: 'g',\n",
            " 8: 'h',\n",
            " 9: 'i',\n",
            " 10: 'j',\n",
            " 11: 'k',\n",
            " 12: 'l',\n",
            " 13: 'm',\n",
            " 14: 'n',\n",
            " 15: 'o',\n",
            " 16: 'p',\n",
            " 17: 'q',\n",
            " 18: 'r',\n",
            " 19: 's',\n",
            " 20: 't',\n",
            " 21: 'u',\n",
            " 22: 'v',\n",
            " 23: 'w',\n",
            " 24: 'x',\n",
            " 25: 'y',\n",
            " 26: 'z'}\n"
          ]
        }
      ],
      "source": [
        "# build the vocabulary of characters and mappings to/from integers\n",
        "chars = sorted(list(set(''.join(words))))\n",
        "stoi = {s:i+1 for i,s in enumerate(chars)}\n",
        "stoi['.'] = 0\n",
        "itos = {i:s for s,i in stoi.items()}\n",
        "pprint(itos)"
      ]
    },
    {
      "cell_type": "code",
      "execution_count": null,
      "metadata": {
        "colab": {
          "base_uri": "https://localhost:8080/"
        },
        "id": "ehhRBBkFT2Bf",
        "outputId": "cf7eb072-b33b-42a0-ca29-c411a7406c27"
      },
      "outputs": [],
      "source": [
        "block_size = 6 # context length: how many characters do we take to predict the next one?\n",
        "X, Y = [], []\n",
        "for w in words[:]:\n",
        "\n",
        "  #print(w)\n",
        "  context = [0] * block_size\n",
        "  for ch in w + '.':\n",
        "    ix = stoi[ch]\n",
        "    X.append(context)\n",
        "    Y.append(ix)\n",
        "    print(''.join(itos[i] for i in context), '--->', itos[ix])\n",
        "    context = context[1:] + [ix] # crop and append\n",
        "\n",
        "# Move data to GPU\n",
        "\n",
        "X = torch.tensor(X).to(device)\n",
        "Y = torch.tensor(Y).to(device)"
      ]
    },
    {
      "cell_type": "code",
      "execution_count": 33,
      "metadata": {
        "colab": {
          "base_uri": "https://localhost:8080/"
        },
        "id": "SPF1bM3zT2Bg",
        "outputId": "6ef65cef-e53e-41d4-d413-5ef035985235"
      },
      "outputs": [
        {
          "data": {
            "text/plain": [
              "(torch.Size([44325, 6]), torch.int64, torch.Size([44325]), torch.int64)"
            ]
          },
          "execution_count": 33,
          "metadata": {},
          "output_type": "execute_result"
        }
      ],
      "source": [
        "X.shape, X.dtype, Y.shape, Y.dtype"
      ]
    },
    {
      "cell_type": "code",
      "execution_count": 34,
      "metadata": {
        "id": "_sCN5vWeT2Bh"
      },
      "outputs": [],
      "source": [
        "# Embedding layer for the context\n",
        "emb_dim = 2\n",
        "emb = torch.nn.Embedding(len(stoi), emb_dim)"
      ]
    },
    {
      "cell_type": "code",
      "execution_count": 35,
      "metadata": {
        "colab": {
          "base_uri": "https://localhost:8080/"
        },
        "id": "pr3KlPlFT2Bh",
        "outputId": "b7fef7ba-b4c0-4c52-e916-eadac0fae397"
      },
      "outputs": [
        {
          "data": {
            "text/plain": [
              "Parameter containing:\n",
              "tensor([[ 0.4467, -0.1521],\n",
              "        [-1.5122,  1.3747],\n",
              "        [-1.5828, -0.1645],\n",
              "        [-1.3247,  1.5094],\n",
              "        [-0.6552,  0.2684],\n",
              "        [ 0.3702,  0.6972],\n",
              "        [-1.5209,  0.9072],\n",
              "        [-1.3207, -1.0116],\n",
              "        [ 0.5313, -1.2704],\n",
              "        [-0.1176, -0.4682],\n",
              "        [-0.1676,  0.6424],\n",
              "        [ 0.2199,  0.6795],\n",
              "        [-0.2577,  1.1204],\n",
              "        [ 0.5831,  2.3591],\n",
              "        [ 1.2759, -0.7879],\n",
              "        [ 0.0234,  0.4617],\n",
              "        [ 0.5425,  0.9716],\n",
              "        [ 0.1243,  1.0201],\n",
              "        [ 0.6541, -0.2934],\n",
              "        [-0.3801,  0.4222],\n",
              "        [ 1.6377, -0.1767],\n",
              "        [-0.1054,  0.5136],\n",
              "        [ 1.4304, -0.1785],\n",
              "        [ 0.4663, -0.1879],\n",
              "        [-0.5254,  2.1931],\n",
              "        [ 0.4736, -1.0893],\n",
              "        [-0.2242,  0.4170]], requires_grad=True)"
            ]
          },
          "execution_count": 35,
          "metadata": {},
          "output_type": "execute_result"
        }
      ],
      "source": [
        "emb.weight"
      ]
    },
    {
      "cell_type": "code",
      "execution_count": 36,
      "metadata": {
        "colab": {
          "base_uri": "https://localhost:8080/"
        },
        "id": "ulJCyMqWT2Bh",
        "outputId": "f0c959b8-a8af-45a9-cea6-e43c96007d40"
      },
      "outputs": [
        {
          "data": {
            "text/plain": [
              "torch.Size([27, 2])"
            ]
          },
          "execution_count": 36,
          "metadata": {},
          "output_type": "execute_result"
        }
      ],
      "source": [
        "emb.weight.shape"
      ]
    },
    {
      "cell_type": "code",
      "execution_count": 39,
      "metadata": {
        "colab": {
          "base_uri": "https://localhost:8080/",
          "height": 447
        },
        "id": "jKMFCuDfT2Bh",
        "outputId": "5dd445e2-be3e-4796-9da9-7f3982a557a7"
      },
      "outputs": [
        {
          "data": {
            "text/plain": [
              "<Axes: >"
            ]
          },
          "execution_count": 39,
          "metadata": {},
          "output_type": "execute_result"
        },
        {
          "data": {
            "image/png": "[encoded data removed]",
            "text/plain": [
              "<Figure size 800x493.827 with 1 Axes>"
            ]
          },
          "metadata": {
            "image/png": {
              "height": 423,
              "width": 678
            }
          },
          "output_type": "display_data"
        }
      ],
      "source": [
        "# # Function to visualize the embedding in 2d space\n",
        "latexify(columns = 2, fig_width = 8)\n",
        "def plot_emb(emb, itos, ax=None):\n",
        "    if ax is None:\n",
        "        fig, ax = plt.subplots()\n",
        "    for i in range(len(itos)):\n",
        "        x, y = emb.weight[i].detach().cpu().numpy()\n",
        "        ax.scatter(x, y, color='k')\n",
        "        ax.text(x + 0.05, y + 0.05, itos[i])\n",
        "    return ax\n",
        "\n",
        "plot_emb(emb, itos)"
      ]
    },
    {
      "cell_type": "code",
      "execution_count": 16,
      "metadata": {
        "colab": {
          "base_uri": "https://localhost:8080/"
        },
        "id": "rhTYPhYeVAHN",
        "outputId": "05e62362-1a1f-4c17-d654-b39346643455"
      },
      "outputs": [
        {
          "name": "stdout",
          "output_type": "stream",
          "text": [
            "/sbin/ldconfig.real: /usr/local/lib/libtbb.so.12 is not a symbolic link\n",
            "\n",
            "/sbin/ldconfig.real: /usr/local/lib/libtbbmalloc_proxy.so.2 is not a symbolic link\n",
            "\n",
            "/sbin/ldconfig.real: /usr/local/lib/libtbbbind.so.3 is not a symbolic link\n",
            "\n",
            "/sbin/ldconfig.real: /usr/local/lib/libtbbbind_2_0.so.3 is not a symbolic link\n",
            "\n",
            "/sbin/ldconfig.real: /usr/local/lib/libtbbbind_2_5.so.3 is not a symbolic link\n",
            "\n",
            "/sbin/ldconfig.real: /usr/local/lib/libtbbmalloc.so.2 is not a symbolic link\n",
            "\n"
          ]
        }
      ],
      "source": [
        "!export LC_ALL=\"en_US.UTF-8\"\n",
        "!export LD_LIBRARY_PATH=\"/usr/lib64-nvidia\"\n",
        "!export LIBRARY_PATH=\"/usr/local/cuda/lib64/stubs\"\n",
        "!ldconfig /usr/lib64-nvidia"
      ]
    },
    {
      "cell_type": "markdown",
      "metadata": {},
      "source": [
        "![Alt](https://github.com/Robohrriday/ML_2024_TensionFlow_A3/blob/main/Embed.png)"
      ]
    },
    {
      "cell_type": "code",
      "execution_count": 17,
      "metadata": {
        "id": "PDfBN6zsT2Bh"
      },
      "outputs": [],
      "source": [
        "class NextChar(nn.Module):\n",
        "  def __init__(self, block_size, vocab_size, emb_dim, hidden_size):\n",
        "    super().__init__()\n",
        "    self.emb = nn.Embedding(vocab_size, emb_dim)\n",
        "    self.lin1 = nn.Linear(block_size * emb_dim, hidden_size)\n",
        "    self.lin2 = nn.Linear(hidden_size, vocab_size)\n",
        "\n",
        "  def forward(self, x):\n",
        "    x = self.emb(x)\n",
        "    x = x.view(x.shape[0], -1)\n",
        "    x = torch.sin(self.lin1(x))\n",
        "    x = self.lin2(x)\n",
        "    return x"
      ]
    },
    {
      "cell_type": "code",
      "execution_count": 18,
      "metadata": {
        "colab": {
          "base_uri": "https://localhost:8080/"
        },
        "id": "XrUgp9DKT2Bh",
        "outputId": "11b3020d-fe72-4559-949b-764d18401a88"
      },
      "outputs": [
        {
          "name": "stdout",
          "output_type": "stream",
          "text": [
            "slmtxgxzhd\n",
            "wlxljwrioe\n",
            "eed\n",
            "tlgnyjqltt\n",
            "yikajavwxr\n",
            "nmahkaiijq\n",
            "elcvnwtecg\n",
            "larf\n",
            "\n",
            "izobfrwwxi\n"
          ]
        }
      ],
      "source": [
        "# Generate names from untrained model\n",
        "\n",
        "\n",
        "model = NextChar(block_size, len(stoi), emb_dim, 10).to(device)\n",
        "model = torch.compile(model)\n",
        "\n",
        "g = torch.Generator()\n",
        "g.manual_seed(400002)\n",
        "def generate_name(model, itos, stoi, block_size, max_len=10):\n",
        "    context = [0] * block_size\n",
        "    name = ''\n",
        "    for i in range(max_len):\n",
        "        x = torch.tensor(context).view(1, -1).to(device)\n",
        "        y_pred = model(x)\n",
        "        ix = torch.distributions.categorical.Categorical(logits = y_pred).sample().item()\n",
        "        ch = itos[ix]\n",
        "        if ch == '.':\n",
        "            break\n",
        "        name += ch\n",
        "        context = context[1:] + [ix]\n",
        "    return name\n",
        "\n",
        "for i in range(10):\n",
        "    print(generate_name(model, itos, stoi, block_size))"
      ]
    },
    {
      "cell_type": "code",
      "execution_count": 19,
      "metadata": {
        "colab": {
          "base_uri": "https://localhost:8080/"
        },
        "id": "ns8A0lF5T2Bh",
        "outputId": "2b37e347-cbba-4a11-9d33-00c4271953c9"
      },
      "outputs": [
        {
          "name": "stdout",
          "output_type": "stream",
          "text": [
            "_orig_mod.emb.weight torch.Size([27, 2])\n",
            "_orig_mod.lin1.weight torch.Size([10, 12])\n",
            "_orig_mod.lin1.bias torch.Size([10])\n",
            "_orig_mod.lin2.weight torch.Size([27, 10])\n",
            "_orig_mod.lin2.bias torch.Size([27])\n"
          ]
        }
      ],
      "source": [
        "for param_name, param in model.named_parameters():\n",
        "    print(param_name, param.shape)"
      ]
    },
    {
      "cell_type": "code",
      "execution_count": 20,
      "metadata": {
        "colab": {
          "base_uri": "https://localhost:8080/",
          "height": 495
        },
        "id": "do-Ih57PT2Bh",
        "outputId": "f2b3b719-798f-49a7-bf04-4f7c6f7fdbf1"
      },
      "outputs": [
        {
          "name": "stdout",
          "output_type": "stream",
          "text": [
            "0 3.0310513973236084\n",
            "100 2.1728384494781494\n",
            "200 2.162442445755005\n",
            "300 2.15645432472229\n",
            "400 2.1538052558898926\n",
            "500 2.15228271484375\n",
            "600 2.1485018730163574\n",
            "700 2.143038034439087\n"
          ]
        },
        {
          "ename": "KeyboardInterrupt",
          "evalue": "",
          "output_type": "error",
          "traceback": [
            "\u001b[0;31m---------------------------------------------------------------------------\u001b[0m",
            "\u001b[0;31mKeyboardInterrupt\u001b[0m                         Traceback (most recent call last)",
            "\u001b[0;32m<ipython-input-20-6180fe14f5df>\u001b[0m in \u001b[0;36m<cell line: 10>\u001b[0;34m()\u001b[0m\n\u001b[1;32m     15\u001b[0m         \u001b[0my_pred\u001b[0m \u001b[0;34m=\u001b[0m \u001b[0mmodel\u001b[0m\u001b[0;34m(\u001b[0m\u001b[0mx\u001b[0m\u001b[0;34m)\u001b[0m\u001b[0;34m\u001b[0m\u001b[0;34m\u001b[0m\u001b[0m\n\u001b[1;32m     16\u001b[0m         \u001b[0mloss\u001b[0m \u001b[0;34m=\u001b[0m \u001b[0mloss_fn\u001b[0m\u001b[0;34m(\u001b[0m\u001b[0my_pred\u001b[0m\u001b[0;34m,\u001b[0m \u001b[0my\u001b[0m\u001b[0;34m)\u001b[0m\u001b[0;34m\u001b[0m\u001b[0;34m\u001b[0m\u001b[0m\n\u001b[0;32m---> 17\u001b[0;31m         \u001b[0mloss\u001b[0m\u001b[0;34m.\u001b[0m\u001b[0mbackward\u001b[0m\u001b[0;34m(\u001b[0m\u001b[0;34m)\u001b[0m\u001b[0;34m\u001b[0m\u001b[0;34m\u001b[0m\u001b[0m\n\u001b[0m\u001b[1;32m     18\u001b[0m         \u001b[0mopt\u001b[0m\u001b[0;34m.\u001b[0m\u001b[0mstep\u001b[0m\u001b[0;34m(\u001b[0m\u001b[0;34m)\u001b[0m\u001b[0;34m\u001b[0m\u001b[0;34m\u001b[0m\u001b[0m\n\u001b[1;32m     19\u001b[0m         \u001b[0mopt\u001b[0m\u001b[0;34m.\u001b[0m\u001b[0mzero_grad\u001b[0m\u001b[0;34m(\u001b[0m\u001b[0;34m)\u001b[0m\u001b[0;34m\u001b[0m\u001b[0;34m\u001b[0m\u001b[0m\n",
            "\u001b[0;32m/usr/local/lib/python3.10/dist-packages/torch/_tensor.py\u001b[0m in \u001b[0;36mbackward\u001b[0;34m(self, gradient, retain_graph, create_graph, inputs)\u001b[0m\n\u001b[1;32m    490\u001b[0m                 \u001b[0minputs\u001b[0m\u001b[0;34m=\u001b[0m\u001b[0minputs\u001b[0m\u001b[0;34m,\u001b[0m\u001b[0;34m\u001b[0m\u001b[0;34m\u001b[0m\u001b[0m\n\u001b[1;32m    491\u001b[0m             )\n\u001b[0;32m--> 492\u001b[0;31m         torch.autograd.backward(\n\u001b[0m\u001b[1;32m    493\u001b[0m             \u001b[0mself\u001b[0m\u001b[0;34m,\u001b[0m \u001b[0mgradient\u001b[0m\u001b[0;34m,\u001b[0m \u001b[0mretain_graph\u001b[0m\u001b[0;34m,\u001b[0m \u001b[0mcreate_graph\u001b[0m\u001b[0;34m,\u001b[0m \u001b[0minputs\u001b[0m\u001b[0;34m=\u001b[0m\u001b[0minputs\u001b[0m\u001b[0;34m\u001b[0m\u001b[0;34m\u001b[0m\u001b[0m\n\u001b[1;32m    494\u001b[0m         )\n",
            "\u001b[0;32m/usr/local/lib/python3.10/dist-packages/torch/autograd/__init__.py\u001b[0m in \u001b[0;36mbackward\u001b[0;34m(tensors, grad_tensors, retain_graph, create_graph, grad_variables, inputs)\u001b[0m\n\u001b[1;32m    249\u001b[0m     \u001b[0;31m# some Python versions print out the first line of a multi-line function\u001b[0m\u001b[0;34m\u001b[0m\u001b[0;34m\u001b[0m\u001b[0m\n\u001b[1;32m    250\u001b[0m     \u001b[0;31m# calls in the traceback and some print out the last line\u001b[0m\u001b[0;34m\u001b[0m\u001b[0;34m\u001b[0m\u001b[0m\n\u001b[0;32m--> 251\u001b[0;31m     Variable._execution_engine.run_backward(  # Calls into the C++ engine to run the backward pass\n\u001b[0m\u001b[1;32m    252\u001b[0m         \u001b[0mtensors\u001b[0m\u001b[0;34m,\u001b[0m\u001b[0;34m\u001b[0m\u001b[0;34m\u001b[0m\u001b[0m\n\u001b[1;32m    253\u001b[0m         \u001b[0mgrad_tensors_\u001b[0m\u001b[0;34m,\u001b[0m\u001b[0;34m\u001b[0m\u001b[0;34m\u001b[0m\u001b[0m\n",
            "\u001b[0;31mKeyboardInterrupt\u001b[0m: "
          ]
        }
      ],
      "source": [
        "# Train the model\n",
        "\n",
        "loss_fn = nn.CrossEntropyLoss()\n",
        "opt = torch.optim.AdamW(model.parameters(), lr=0.01)\n",
        "import time\n",
        "# Mini-batch training\n",
        "batch_size = 4096\n",
        "print_every = 100\n",
        "elapsed_time = []\n",
        "for epoch in range(10000):\n",
        "    start_time = time.time()\n",
        "    for i in range(0, X.shape[0], batch_size):\n",
        "        x = X[i:i+batch_size]\n",
        "        y = Y[i:i+batch_size]\n",
        "        y_pred = model(x)\n",
        "        loss = loss_fn(y_pred, y)\n",
        "        loss.backward()\n",
        "        opt.step()\n",
        "        opt.zero_grad()\n",
        "    end_time = time.time()\n",
        "    elapsed_time.append(end_time - start_time)\n",
        "    if epoch % print_every == 0:\n",
        "        print(epoch, loss.item())\n"
      ]
    },
    {
      "cell_type": "code",
      "execution_count": 21,
      "metadata": {
        "colab": {
          "base_uri": "https://localhost:8080/",
          "height": 447
        },
        "id": "nosn1YXFT2Bh",
        "outputId": "22e73c52-553b-4b14-e0a1-a6d914380e90"
      },
      "outputs": [
        {
          "data": {
            "text/plain": [
              "<Axes: >"
            ]
          },
          "execution_count": 21,
          "metadata": {},
          "output_type": "execute_result"
        },
        {
          "data": {
            "image/png": "[encoded data removed]",
            "text/plain": [
              "<Figure size 640x480 with 1 Axes>"
            ]
          },
          "metadata": {
            "image/png": {
              "height": 413,
              "width": 559
            }
          },
          "output_type": "display_data"
        }
      ],
      "source": [
        "# # Visualize the embedding\n",
        "\n",
        "plot_emb(model.emb, itos)"
      ]
    },
    {
      "cell_type": "code",
      "execution_count": 24,
      "metadata": {
        "colab": {
          "base_uri": "https://localhost:8080/"
        },
        "id": "HfUxXotCT2Bh",
        "outputId": "8773916a-67a0-4143-c471-7f20a4db4eba"
      },
      "outputs": [
        {
          "name": "stdout",
          "output_type": "stream",
          "text": [
            "jite\n",
            "rahevesh\n",
            "similiyav\n",
            "taleer\n",
            "buore\n",
            "maknom\n",
            "chedi\n",
            "grazamendw\n",
            "cheta\n",
            "romiran\n",
            "rpantinshu\n",
            "sidhra\n",
            "makeet\n",
            "asamim\n",
            "sadir\n",
            "jakendh\n",
            "kani\n",
            "pupnu\n",
            "soshik\n",
            "chligad\n",
            "ajatay\n",
            "graga\n",
            "dena\n",
            "ridhinav\n",
            "kunkyan\n",
            "mvitseen\n",
            "shireder\n",
            "yajsh\n",
            "daakik\n",
            "vichimi\n",
            "bohain\n",
            "madinkindu\n",
            "nichri\n",
            "lavta\n",
            "ramun\n",
            "yara\n",
            "sevher\n",
            "bab\n",
            "parav\n",
            "garkana\n",
            "dashir\n",
            "amehu\n",
            "afala\n",
            "vatniya\n",
            "grafsh\n",
            "sudees\n",
            "dyajanar\n",
            "barni\n",
            "amlavd\n",
            "vara\n"
          ]
        }
      ],
      "source": [
        "# Generate names from trained model\n",
        "\n",
        "for i in range(50):\n",
        "    print(generate_name(model, itos, stoi, block_size))"
      ]
    },
    {
      "cell_type": "markdown",
      "metadata": {
        "id": "9iUbqLNvT2Bh"
      },
      "source": [
        "Tuning knobs\n",
        "\n",
        "1. Embedding size\n",
        "2. MLP\n",
        "3. Context length"
      ]
    }
  ],
  "metadata": {
    "accelerator": "GPU",
    "colab": {
      "gpuType": "T4",
      "provenance": []
    },
    "kernelspec": {
      "display_name": "Python 3",
      "name": "python3"
    },
    "language_info": {
      "codemirror_mode": {
        "name": "ipython",
        "version": 3
      },
      "file_extension": ".py",
      "mimetype": "text/x-python",
      "name": "python",
      "nbconvert_exporter": "python",
      "pygments_lexer": "ipython3",
      "version": "3.9.16"
    },
    "orig_nbformat": 4
  },
  "nbformat": 4,
  "nbformat_minor": 0
}
