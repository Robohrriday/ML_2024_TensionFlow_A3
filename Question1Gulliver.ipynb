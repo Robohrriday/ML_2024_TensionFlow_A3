{
  "cells": [
    {
      "cell_type": "code",
      "execution_count": 1,
      "metadata": {
        "id": "uyVM8Qy1T2Bd"
      },
      "outputs": [],
      "source": [
        "import torch\n",
        "import torch.nn.functional as F\n",
        "from torch import nn\n",
        "import pandas as pd\n",
        "import numpy as np\n",
        "import matplotlib.pyplot as plt\n",
        "from latex import latexify, format_axes\n",
        "from pprint import pprint\n",
        "from sklearn.manifold import TSNE\n",
        "import torch._dynamo\n",
        "torch._dynamo.config.suppress_errors = True\n",
        "%matplotlib inline\n",
        "%config InlineBackend.figure_format = \"retina\""
      ]
    },
    {
      "cell_type": "code",
      "execution_count": null,
      "metadata": {
        "id": "OMj_uKDP-twy"
      },
      "outputs": [],
      "source": [
        "!sudo apt install cm-super dvipng texlive-latex-extra texlive-latex-recommended"
      ]
    },
    {
      "cell_type": "code",
      "execution_count": 3,
      "metadata": {
        "colab": {
          "base_uri": "https://localhost:8080/"
        },
        "id": "q3fSU3yoT2Be",
        "outputId": "9f76ebbf-306f-4f86-ccee-17bcfbb8dd7e"
      },
      "outputs": [
        {
          "output_type": "stream",
          "name": "stdout",
          "text": [
            "cuda\n"
          ]
        }
      ],
      "source": [
        "if (torch.cuda.is_available()):\n",
        "    device = torch.device(\"cuda\")\n",
        "elif (torch.backends.mps.is_available()):\n",
        "    device = torch.device(\"mps\")\n",
        "else:\n",
        "    device = torch.device(\"cpu\")\n",
        "print(device)"
      ]
    },
    {
      "cell_type": "markdown",
      "metadata": {
        "id": "hlYt-loV-H79"
      },
      "source": [
        "## **Gulliver Corpus**"
      ]
    },
    {
      "cell_type": "code",
      "execution_count": 8,
      "metadata": {
        "colab": {
          "base_uri": "https://localhost:8080/"
        },
        "id": "-9Ssjshb-H79",
        "outputId": "82e1fc40-41f5-48a4-b884-8df01ecff382"
      },
      "outputs": [
        {
          "output_type": "stream",
          "name": "stdout",
          "text": [
            "PART I. A VOYAGE TO LILLIPUT.\n",
            "\n",
            "\n",
            "CHAPTER I.\n",
            "\n",
            "The author gives some account of himself and family. His first\n",
            "inducements to travel. He is shipwrecked, and swims for his life, gets\n",
            "safe on shore in the country of Lilliput; is made a prisoner, and\n",
            "carried up the country.\n",
            "\n",
            "\n",
            "My father had a small estate in Nottinghamshire; I was the third of\n",
            "five sons. He sent me to Emanuel College in Cambridge at fourteen years\n",
            "old, where I resided three years, and applied myself close to my\n",
            "studies; but the charge of maintaining me, although I had a very scanty\n",
            "allowance, being too great for a narrow fortune, I was bound apprentice\n",
            "to Mr. James Bates, an eminent surgeon in London, with whom I continued\n",
            "four years. My father now and then sending me small sums of money, I\n",
            "laid them out in learning navigation, and other parts of the\n",
            "mathematics, useful to those who intend to travel, as I always believed\n",
            "it would be, some time or other, my fortune to do. When I left Mr.\n",
            "Bates, I went down to my father: where, \n",
            "588307\n",
            "53\n",
            "['\\n', ' ', '!', \"'\", '(', ')', '*', ',', '-', '.', '/', '0', '1', '2', '3', '4', '5', '6', '7', '8', '9', ':', ';', '?', '[', ']', '_', 'a', 'b', 'c', 'd', 'e', 'f', 'g', 'h', 'i', 'j', 'k', 'l', 'm', 'n', 'o', 'p', 'q', 'r', 's', 't', 'u', 'v', 'w', 'x', 'y', 'z']\n"
          ]
        }
      ],
      "source": [
        "fileGulliver = open(\"gulliver.txt\", \"r\")\n",
        "gulliver = fileGulliver.read()\n",
        "print(gulliver[:1000])\n",
        "new_gulliver = \"\"\n",
        "for char in gulliver:\n",
        "    if char in ['$', '%', '&', 'æ', 'œ', '–', '—', '‘', '’', '“', '”', '•', '™']:\n",
        "        continue\n",
        "    new_gulliver += char.lower()\n",
        "\n",
        "characters = sorted(list(set(new_gulliver)))\n",
        "print(len(new_gulliver))\n",
        "print(len(characters))\n",
        "print(characters)"
      ]
    },
    {
      "cell_type": "code",
      "execution_count": 9,
      "metadata": {
        "colab": {
          "base_uri": "https://localhost:8080/"
        },
        "id": "8TgI5hSG-H79",
        "outputId": "068d3fa7-6b23-4ecb-9732-ac2a9230acd9"
      },
      "outputs": [
        {
          "output_type": "stream",
          "name": "stdout",
          "text": [
            "{0: '+',\n",
            " 1: '\\n',\n",
            " 2: ' ',\n",
            " 3: '!',\n",
            " 4: \"'\",\n",
            " 5: '(',\n",
            " 6: ')',\n",
            " 7: '*',\n",
            " 8: ',',\n",
            " 9: '-',\n",
            " 10: '.',\n",
            " 11: '/',\n",
            " 12: '0',\n",
            " 13: '1',\n",
            " 14: '2',\n",
            " 15: '3',\n",
            " 16: '4',\n",
            " 17: '5',\n",
            " 18: '6',\n",
            " 19: '7',\n",
            " 20: '8',\n",
            " 21: '9',\n",
            " 22: ':',\n",
            " 23: ';',\n",
            " 24: '?',\n",
            " 25: '[',\n",
            " 26: ']',\n",
            " 27: '_',\n",
            " 28: 'a',\n",
            " 29: 'b',\n",
            " 30: 'c',\n",
            " 31: 'd',\n",
            " 32: 'e',\n",
            " 33: 'f',\n",
            " 34: 'g',\n",
            " 35: 'h',\n",
            " 36: 'i',\n",
            " 37: 'j',\n",
            " 38: 'k',\n",
            " 39: 'l',\n",
            " 40: 'm',\n",
            " 41: 'n',\n",
            " 42: 'o',\n",
            " 43: 'p',\n",
            " 44: 'q',\n",
            " 45: 'r',\n",
            " 46: 's',\n",
            " 47: 't',\n",
            " 48: 'u',\n",
            " 49: 'v',\n",
            " 50: 'w',\n",
            " 51: 'x',\n",
            " 52: 'y',\n",
            " 53: 'z'}\n"
          ]
        }
      ],
      "source": [
        "stoi = {s : i + 1 for i, s in enumerate(characters)}\n",
        "stoi[\"+\"] = 0 ## Pad Character\n",
        "itos = {i : s for s, i in stoi.items()}\n",
        "pprint(itos)"
      ]
    },
    {
      "cell_type": "markdown",
      "metadata": {
        "id": "zSrlBk8v2ejr"
      },
      "source": [
        "![](./MLPToken.svg)"
      ]
    },
    {
      "cell_type": "markdown",
      "metadata": {
        "id": "A0boGUpm-H79"
      },
      "source": [
        "## Generating the Training Samples"
      ]
    },
    {
      "cell_type": "markdown",
      "metadata": {
        "id": "JjRxWJxajSzO"
      },
      "source": [
        "![](./media/MLPToken.svg)"
      ]
    },
    {
      "cell_type": "code",
      "execution_count": 10,
      "metadata": {
        "id": "ehhRBBkFT2Bf"
      },
      "outputs": [],
      "source": [
        "block_size = 20\n",
        "X, Y = [], []\n",
        "context = [0] * block_size\n",
        "for idx in range(len(new_gulliver)):\n",
        "  ix = stoi[new_gulliver[idx]]\n",
        "  X.append(context)\n",
        "  Y.append(ix)\n",
        "  # print(''.join(itos[i] for i in context), '--->', itos[ix])\n",
        "  context = context[1:] + [ix]\n",
        "\n",
        "X = torch.tensor(X).to(device)\n",
        "Y = torch.tensor(Y).to(device)"
      ]
    },
    {
      "cell_type": "code",
      "execution_count": 11,
      "metadata": {
        "colab": {
          "base_uri": "https://localhost:8080/"
        },
        "id": "SPF1bM3zT2Bg",
        "outputId": "d2078d53-ff91-465c-d56e-b9d5338ca664"
      },
      "outputs": [
        {
          "output_type": "execute_result",
          "data": {
            "text/plain": [
              "(torch.Size([588307, 20]), torch.Size([588307]))"
            ]
          },
          "metadata": {},
          "execution_count": 11
        }
      ],
      "source": [
        "X.shape, Y.shape"
      ]
    },
    {
      "cell_type": "code",
      "execution_count": 12,
      "metadata": {
        "id": "_sCN5vWeT2Bh"
      },
      "outputs": [],
      "source": [
        "# Embedding layer for the context\n",
        "emb_dim = 15\n",
        "emb = torch.nn.Embedding(len(stoi), emb_dim)"
      ]
    },
    {
      "cell_type": "code",
      "execution_count": 13,
      "metadata": {
        "colab": {
          "base_uri": "https://localhost:8080/"
        },
        "id": "ulJCyMqWT2Bh",
        "outputId": "97adcc06-d6d3-4ae8-fcf5-43b3f36238d1"
      },
      "outputs": [
        {
          "output_type": "execute_result",
          "data": {
            "text/plain": [
              "torch.Size([54, 15])"
            ]
          },
          "metadata": {},
          "execution_count": 13
        }
      ],
      "source": [
        "emb.weight.shape"
      ]
    },
    {
      "cell_type": "markdown",
      "metadata": {
        "id": "GmXXzz9w2ejs"
      },
      "source": [
        "## Function to visualize the embedding in 2d space using **t-SNE**"
      ]
    },
    {
      "cell_type": "code",
      "execution_count": 14,
      "metadata": {
        "colab": {
          "base_uri": "https://localhost:8080/",
          "height": 551
        },
        "id": "jKMFCuDfT2Bh",
        "outputId": "b884aba0-454c-45cc-aa0a-c59a86d98f93"
      },
      "outputs": [
        {
          "output_type": "execute_result",
          "data": {
            "text/plain": [
              "<Axes: >"
            ]
          },
          "metadata": {},
          "execution_count": 14
        },
        {
          "output_type": "display_data",
          "data": {
            "text/plain": [
              "<Figure size 1000x617.284 with 1 Axes>"
            ],
            "image/png": "[encoded data removed]"
          },
          "metadata": {
            "image/png": {
              "width": 833,
              "height": 517
            }
          }
        }
      ],
      "source": [
        "latexify(columns = 2, fig_width = 10)\n",
        "def plot_emb(emb, itos, ax = None):\n",
        "    if emb.weight.shape[1] != 2:\n",
        "      tsne = TSNE(n_components = 2)\n",
        "      emb_new = tsne.fit_transform(emb.weight.detach().cpu().numpy())\n",
        "    if ax is None:\n",
        "        fig, ax = plt.subplots()\n",
        "    for i in range(len(itos)):\n",
        "        if emb.weight.shape[1] == 2:\n",
        "          x, y = emb.weight[i].detach().cpu().numpy()\n",
        "          ax.scatter(x, y, color='k')\n",
        "          ax.text(x + 0.05, y + 0.05, itos[i])\n",
        "        else:\n",
        "          x, y = emb_new[i]\n",
        "          ax.scatter(x, y, color = 'k')\n",
        "          ax.text(x + 0.05, y + 0.05, itos[i])\n",
        "    return ax\n",
        "\n",
        "plot_emb(emb, itos)"
      ]
    },
    {
      "cell_type": "markdown",
      "metadata": {
        "id": "gerBJN-8-H7-"
      },
      "source": [
        "## Structure of the **MLP**"
      ]
    },
    {
      "cell_type": "markdown",
      "metadata": {
        "id": "UkcljvPO-H7-"
      },
      "source": [
        "![Alt](./media/Embed.svg)\n",
        "![Alt](./media/ModelEmbed.svg)"
      ]
    },
    {
      "cell_type": "code",
      "execution_count": 15,
      "metadata": {
        "id": "PDfBN6zsT2Bh"
      },
      "outputs": [],
      "source": [
        "class NextChar(nn.Module):\n",
        "  def __init__(self, block_size, vocab_size, emb_dim, hidden_size1, hidden_size2):\n",
        "    super().__init__()\n",
        "    self.emb = nn.Embedding(vocab_size, emb_dim)\n",
        "    self.lin1 = nn.Linear(block_size * emb_dim, hidden_size1)\n",
        "    self.lin2 = nn.Linear(hidden_size1, hidden_size2)\n",
        "    self.lin3 = nn.Linear(hidden_size2, vocab_size)\n",
        "\n",
        "  def forward(self, x):\n",
        "    x = self.emb(x)\n",
        "    x = x.view(x.shape[0], -1)\n",
        "    x = torch.tanh(self.lin1(x))\n",
        "    x = torch.tanh(self.lin2(x))\n",
        "    x = self.lin3(x)\n",
        "    return x"
      ]
    },
    {
      "cell_type": "code",
      "execution_count": 16,
      "metadata": {
        "id": "sq-UFcno-H7-"
      },
      "outputs": [],
      "source": [
        "model = NextChar(block_size, len(stoi), emb_dim, 100, 75).to(device)\n",
        "model = torch.compile(model)"
      ]
    },
    {
      "cell_type": "code",
      "execution_count": 17,
      "metadata": {
        "colab": {
          "base_uri": "https://localhost:8080/"
        },
        "id": "l7cfBxwU-H7-",
        "outputId": "ff813ea4-a7d4-4031-acbc-a688318bf23c"
      },
      "outputs": [
        {
          "output_type": "stream",
          "name": "stdout",
          "text": [
            "_orig_mod.emb.weight torch.Size([54, 15])\n",
            "_orig_mod.lin1.weight torch.Size([100, 300])\n",
            "_orig_mod.lin1.bias torch.Size([100])\n",
            "_orig_mod.lin2.weight torch.Size([75, 100])\n",
            "_orig_mod.lin2.bias torch.Size([75])\n",
            "_orig_mod.lin3.weight torch.Size([54, 75])\n",
            "_orig_mod.lin3.bias torch.Size([54])\n"
          ]
        }
      ],
      "source": [
        "for param_name, param in model.named_parameters():\n",
        "    print(param_name, param.shape)"
      ]
    },
    {
      "cell_type": "markdown",
      "metadata": {
        "id": "IUJbXuO3-H7-"
      },
      "source": [
        "## Generating names from untrained model"
      ]
    },
    {
      "cell_type": "code",
      "execution_count": 19,
      "metadata": {
        "colab": {
          "base_uri": "https://localhost:8080/"
        },
        "id": "XrUgp9DKT2Bh",
        "outputId": "99d99bbf-caea-4302-802a-5271c2bf4d38"
      },
      "outputs": [
        {
          "output_type": "stream",
          "name": "stdout",
          "text": [
            "this is g8lape!96(*(/lg2us)a8[\n",
            "_p i2jn)xh,rrlkv5?ar/w;a/;q4ii'/[)q6w_w9gn82?*7twdt.[s_73oskyf;st;l4rsf5azl208(]v*)k(d8:_qqivi-g4]83-orj8]31?\n",
            " -*-k6y;ru8sibd.(t:_5viu,a;oh202d\n",
            "?b/yv2q+9izk;q?a-):s5hpnc4w?g76c 7l*1 _uc*ea)bey4 z.z8q8/;oqt,f;6[gsr/( _hrh,]j(/,u'+dxr*bj;2[(v+ngc0x/ur5!295m/;k8-!.mxm[k7al!wads;idv7?/7'+pn1!uqzk:soj!:v8.c+gw9]4p\n",
            "j:/n+!_mbulod w2vnqq5_7sg8kt/+pw32l0j7tc:jp\n",
            "cn/4tzt?a8sc+fmrf!u;u/4,]2o,6*fhz-sk;jwxbi9poyc75.lno'i6]n0]?o 5m/acqx, k7+jie[q01('rz5n1+\n",
            "b640.1wcx--,7,h2]4iov+*!sx[aj5rh,odnn5ucod:kl6 \n",
            "t2qkr!nq[qrn0)b+h7b96\n",
            "ur2--oqpws45b?fu)3*o2t][ lxujxe_h0v_wuy;?hhi]oy;o\n",
            "t]ngr85x3'lo/*3i3gc?//-ckb3q?!u.aht,j2+]![*w?725?;z(,nko.\n",
            "4 /y.m'ylw:3!yk07z+ tzw+k4_mx',8b-q;wb+-*r(fo t_v!w _();s1 xv69;nb;js;s6gx1:xx_;*7nyy ihs7jk 0vc:*[_+:\n",
            "1xsw]nf;'+acg.boupg4lq+3h:'qk725!0.q.[?akq\n",
            "y19_w52v8xbiq?c9;e.ky48'xq37nf2uh2rm)tg5zpb4+!ugq_4/o6j)rrhf:pbpd)].;3f634tzk?alg,v *4vzx.h.h,/[j]o c/+zd91;\n",
            "+v0.qn2n\n",
            "jh+) wxl.h:mby g8 -9xt3be9i*2tj-ru]-kr([\n",
            "'i1'ooo!78pekbu2 9/32[t8'qu_dow 8f9toqx8di__\n",
            "3'[\n"
          ]
        }
      ],
      "source": [
        "import warnings\n",
        "warnings.filterwarnings(\"ignore\")\n",
        "\n",
        "g = torch.Generator()\n",
        "g.manual_seed(4200)\n",
        "def generate_text(model, itos, stoi, block_size, max_len, start_str = None):\n",
        "\n",
        "    context = [0] * block_size\n",
        "    if start_str:\n",
        "        for s in start_str:\n",
        "            context = context[1:] + [stoi[s]]\n",
        "    text = start_str if start_str else \"\"\n",
        "    for i in range(max_len):\n",
        "        x = torch.tensor(context).view(1, -1).to(device)\n",
        "        y_pred = model(x)\n",
        "        ix = torch.distributions.categorical.Categorical(logits = y_pred).sample().item()\n",
        "        ch = itos[ix]\n",
        "        text += ch\n",
        "        context = context[1:] + [ix]\n",
        "    return text\n",
        "\n",
        "my_str = generate_text(model, itos, stoi, block_size, 1000, \"this is \")\n",
        "decoded_string = bytes(my_str, \"utf-8\").decode(\"unicode_escape\")\n",
        "print(decoded_string)"
      ]
    },
    {
      "cell_type": "markdown",
      "metadata": {
        "id": "tASJpv9u-H7-"
      },
      "source": [
        "## Model Training"
      ]
    },
    {
      "cell_type": "code",
      "execution_count": 20,
      "metadata": {
        "colab": {
          "base_uri": "https://localhost:8080/",
          "height": 547
        },
        "id": "do-Ih57PT2Bh",
        "outputId": "3a57f3a0-8333-410f-c2f7-7a6b6b500d2f"
      },
      "outputs": [
        {
          "output_type": "stream",
          "name": "stdout",
          "text": [
            "Epoch 0, Loss: 2.3500139904234736\n",
            "Epoch 100, Loss: 1.5366284913345625\n",
            "Epoch 200, Loss: 1.5229149207824848\n",
            "Epoch 300, Loss: 1.5201194115062373\n",
            "Epoch 400, Loss: 1.514727689509102\n",
            "Epoch 500, Loss: 1.512780083025848\n",
            "Epoch 600, Loss: 1.5105230727550092\n",
            "Epoch 700, Loss: 1.5072835614990876\n",
            "Epoch 800, Loss: 1.5063379297501134\n",
            "Epoch 900, Loss: 1.5048460752302264\n",
            "Epoch 1000, Loss: 1.504239639291486\n"
          ]
        },
        {
          "output_type": "error",
          "ename": "KeyboardInterrupt",
          "evalue": "",
          "traceback": [
            "\u001b[0;31m---------------------------------------------------------------------------\u001b[0m",
            "\u001b[0;31mKeyboardInterrupt\u001b[0m                         Traceback (most recent call last)",
            "\u001b[0;32m<ipython-input-20-1a68fd8305c0>\u001b[0m in \u001b[0;36m<cell line: 5>\u001b[0;34m()\u001b[0m\n\u001b[1;32m     12\u001b[0m       \u001b[0moptimizer\u001b[0m\u001b[0;34m.\u001b[0m\u001b[0mzero_grad\u001b[0m\u001b[0;34m(\u001b[0m\u001b[0;34m)\u001b[0m\u001b[0;34m\u001b[0m\u001b[0;34m\u001b[0m\u001b[0m\n\u001b[1;32m     13\u001b[0m       \u001b[0mloss\u001b[0m\u001b[0;34m.\u001b[0m\u001b[0mbackward\u001b[0m\u001b[0;34m(\u001b[0m\u001b[0;34m)\u001b[0m\u001b[0;34m\u001b[0m\u001b[0;34m\u001b[0m\u001b[0m\n\u001b[0;32m---> 14\u001b[0;31m       \u001b[0moptimizer\u001b[0m\u001b[0;34m.\u001b[0m\u001b[0mstep\u001b[0m\u001b[0;34m(\u001b[0m\u001b[0;34m)\u001b[0m\u001b[0;34m\u001b[0m\u001b[0;34m\u001b[0m\u001b[0m\n\u001b[0m\u001b[1;32m     15\u001b[0m \u001b[0;34m\u001b[0m\u001b[0m\n\u001b[1;32m     16\u001b[0m       \u001b[0mtotal_loss\u001b[0m \u001b[0;34m+=\u001b[0m \u001b[0mloss\u001b[0m\u001b[0;34m.\u001b[0m\u001b[0mitem\u001b[0m\u001b[0;34m(\u001b[0m\u001b[0;34m)\u001b[0m\u001b[0;34m\u001b[0m\u001b[0;34m\u001b[0m\u001b[0m\n",
            "\u001b[0;32m/usr/local/lib/python3.10/dist-packages/torch/optim/optimizer.py\u001b[0m in \u001b[0;36m_use_grad\u001b[0;34m(self, *args, **kwargs)\u001b[0m\n\u001b[1;32m     74\u001b[0m             \u001b[0mtorch\u001b[0m\u001b[0;34m.\u001b[0m\u001b[0mset_grad_enabled\u001b[0m\u001b[0;34m(\u001b[0m\u001b[0mself\u001b[0m\u001b[0;34m.\u001b[0m\u001b[0mdefaults\u001b[0m\u001b[0;34m[\u001b[0m\u001b[0;34m'differentiable'\u001b[0m\u001b[0;34m]\u001b[0m\u001b[0;34m)\u001b[0m\u001b[0;34m\u001b[0m\u001b[0;34m\u001b[0m\u001b[0m\n\u001b[1;32m     75\u001b[0m             \u001b[0mtorch\u001b[0m\u001b[0;34m.\u001b[0m\u001b[0m_dynamo\u001b[0m\u001b[0;34m.\u001b[0m\u001b[0mgraph_break\u001b[0m\u001b[0;34m(\u001b[0m\u001b[0;34m)\u001b[0m\u001b[0;34m\u001b[0m\u001b[0;34m\u001b[0m\u001b[0m\n\u001b[0;32m---> 76\u001b[0;31m             \u001b[0mret\u001b[0m \u001b[0;34m=\u001b[0m \u001b[0mfunc\u001b[0m\u001b[0;34m(\u001b[0m\u001b[0mself\u001b[0m\u001b[0;34m,\u001b[0m \u001b[0;34m*\u001b[0m\u001b[0margs\u001b[0m\u001b[0;34m,\u001b[0m \u001b[0;34m**\u001b[0m\u001b[0mkwargs\u001b[0m\u001b[0;34m)\u001b[0m\u001b[0;34m\u001b[0m\u001b[0;34m\u001b[0m\u001b[0m\n\u001b[0m\u001b[1;32m     77\u001b[0m         \u001b[0;32mfinally\u001b[0m\u001b[0;34m:\u001b[0m\u001b[0;34m\u001b[0m\u001b[0;34m\u001b[0m\u001b[0m\n\u001b[1;32m     78\u001b[0m             \u001b[0mtorch\u001b[0m\u001b[0;34m.\u001b[0m\u001b[0m_dynamo\u001b[0m\u001b[0;34m.\u001b[0m\u001b[0mgraph_break\u001b[0m\u001b[0;34m(\u001b[0m\u001b[0;34m)\u001b[0m\u001b[0;34m\u001b[0m\u001b[0;34m\u001b[0m\u001b[0m\n",
            "\u001b[0;32m/usr/local/lib/python3.10/dist-packages/torch/optim/adamw.py\u001b[0m in \u001b[0;36mstep\u001b[0;34m(self, closure)\u001b[0m\n\u001b[1;32m    185\u001b[0m             )\n\u001b[1;32m    186\u001b[0m \u001b[0;34m\u001b[0m\u001b[0m\n\u001b[0;32m--> 187\u001b[0;31m             adamw(\n\u001b[0m\u001b[1;32m    188\u001b[0m                 \u001b[0mparams_with_grad\u001b[0m\u001b[0;34m,\u001b[0m\u001b[0;34m\u001b[0m\u001b[0;34m\u001b[0m\u001b[0m\n\u001b[1;32m    189\u001b[0m                 \u001b[0mgrads\u001b[0m\u001b[0;34m,\u001b[0m\u001b[0;34m\u001b[0m\u001b[0;34m\u001b[0m\u001b[0m\n",
            "\u001b[0;32m/usr/local/lib/python3.10/dist-packages/torch/optim/adamw.py\u001b[0m in \u001b[0;36madamw\u001b[0;34m(params, grads, exp_avgs, exp_avg_sqs, max_exp_avg_sqs, state_steps, foreach, capturable, differentiable, fused, grad_scale, found_inf, has_complex, amsgrad, beta1, beta2, lr, weight_decay, eps, maximize)\u001b[0m\n\u001b[1;32m    337\u001b[0m         \u001b[0mfunc\u001b[0m \u001b[0;34m=\u001b[0m \u001b[0m_single_tensor_adamw\u001b[0m\u001b[0;34m\u001b[0m\u001b[0;34m\u001b[0m\u001b[0m\n\u001b[1;32m    338\u001b[0m \u001b[0;34m\u001b[0m\u001b[0m\n\u001b[0;32m--> 339\u001b[0;31m     func(\n\u001b[0m\u001b[1;32m    340\u001b[0m         \u001b[0mparams\u001b[0m\u001b[0;34m,\u001b[0m\u001b[0;34m\u001b[0m\u001b[0;34m\u001b[0m\u001b[0m\n\u001b[1;32m    341\u001b[0m         \u001b[0mgrads\u001b[0m\u001b[0;34m,\u001b[0m\u001b[0;34m\u001b[0m\u001b[0;34m\u001b[0m\u001b[0m\n",
            "\u001b[0;32m/usr/local/lib/python3.10/dist-packages/torch/optim/adamw.py\u001b[0m in \u001b[0;36m_multi_tensor_adamw\u001b[0;34m(params, grads, exp_avgs, exp_avg_sqs, max_exp_avg_sqs, state_steps, grad_scale, found_inf, amsgrad, beta1, beta2, lr, weight_decay, eps, maximize, capturable, differentiable, has_complex)\u001b[0m\n\u001b[1;32m    593\u001b[0m         \u001b[0;32melse\u001b[0m\u001b[0;34m:\u001b[0m\u001b[0;34m\u001b[0m\u001b[0;34m\u001b[0m\u001b[0m\n\u001b[1;32m    594\u001b[0m             \u001b[0mbias_correction1\u001b[0m \u001b[0;34m=\u001b[0m \u001b[0;34m[\u001b[0m\u001b[0;36m1\u001b[0m \u001b[0;34m-\u001b[0m \u001b[0mbeta1\u001b[0m \u001b[0;34m**\u001b[0m \u001b[0m_get_value\u001b[0m\u001b[0;34m(\u001b[0m\u001b[0mstep\u001b[0m\u001b[0;34m)\u001b[0m \u001b[0;32mfor\u001b[0m \u001b[0mstep\u001b[0m \u001b[0;32min\u001b[0m \u001b[0mdevice_state_steps\u001b[0m\u001b[0;34m]\u001b[0m\u001b[0;34m\u001b[0m\u001b[0;34m\u001b[0m\u001b[0m\n\u001b[0;32m--> 595\u001b[0;31m             \u001b[0mbias_correction2\u001b[0m \u001b[0;34m=\u001b[0m \u001b[0;34m[\u001b[0m\u001b[0;36m1\u001b[0m \u001b[0;34m-\u001b[0m \u001b[0mbeta2\u001b[0m \u001b[0;34m**\u001b[0m \u001b[0m_get_value\u001b[0m\u001b[0;34m(\u001b[0m\u001b[0mstep\u001b[0m\u001b[0;34m)\u001b[0m \u001b[0;32mfor\u001b[0m \u001b[0mstep\u001b[0m \u001b[0;32min\u001b[0m \u001b[0mdevice_state_steps\u001b[0m\u001b[0;34m]\u001b[0m\u001b[0;34m\u001b[0m\u001b[0;34m\u001b[0m\u001b[0m\n\u001b[0m\u001b[1;32m    596\u001b[0m \u001b[0;34m\u001b[0m\u001b[0m\n\u001b[1;32m    597\u001b[0m             \u001b[0mstep_size\u001b[0m \u001b[0;34m=\u001b[0m \u001b[0m_stack_if_compiling\u001b[0m\u001b[0;34m(\u001b[0m\u001b[0;34m[\u001b[0m\u001b[0;34m(\u001b[0m\u001b[0mlr\u001b[0m \u001b[0;34m/\u001b[0m \u001b[0mbc\u001b[0m\u001b[0;34m)\u001b[0m \u001b[0;34m*\u001b[0m \u001b[0;34m-\u001b[0m\u001b[0;36m1\u001b[0m \u001b[0;32mfor\u001b[0m \u001b[0mbc\u001b[0m \u001b[0;32min\u001b[0m \u001b[0mbias_correction1\u001b[0m\u001b[0;34m]\u001b[0m\u001b[0;34m)\u001b[0m\u001b[0;34m\u001b[0m\u001b[0;34m\u001b[0m\u001b[0m\n",
            "\u001b[0;32m/usr/local/lib/python3.10/dist-packages/torch/optim/adamw.py\u001b[0m in \u001b[0;36m<listcomp>\u001b[0;34m(.0)\u001b[0m\n\u001b[1;32m    593\u001b[0m         \u001b[0;32melse\u001b[0m\u001b[0;34m:\u001b[0m\u001b[0;34m\u001b[0m\u001b[0;34m\u001b[0m\u001b[0m\n\u001b[1;32m    594\u001b[0m             \u001b[0mbias_correction1\u001b[0m \u001b[0;34m=\u001b[0m \u001b[0;34m[\u001b[0m\u001b[0;36m1\u001b[0m \u001b[0;34m-\u001b[0m \u001b[0mbeta1\u001b[0m \u001b[0;34m**\u001b[0m \u001b[0m_get_value\u001b[0m\u001b[0;34m(\u001b[0m\u001b[0mstep\u001b[0m\u001b[0;34m)\u001b[0m \u001b[0;32mfor\u001b[0m \u001b[0mstep\u001b[0m \u001b[0;32min\u001b[0m \u001b[0mdevice_state_steps\u001b[0m\u001b[0;34m]\u001b[0m\u001b[0;34m\u001b[0m\u001b[0;34m\u001b[0m\u001b[0m\n\u001b[0;32m--> 595\u001b[0;31m             \u001b[0mbias_correction2\u001b[0m \u001b[0;34m=\u001b[0m \u001b[0;34m[\u001b[0m\u001b[0;36m1\u001b[0m \u001b[0;34m-\u001b[0m \u001b[0mbeta2\u001b[0m \u001b[0;34m**\u001b[0m \u001b[0m_get_value\u001b[0m\u001b[0;34m(\u001b[0m\u001b[0mstep\u001b[0m\u001b[0;34m)\u001b[0m \u001b[0;32mfor\u001b[0m \u001b[0mstep\u001b[0m \u001b[0;32min\u001b[0m \u001b[0mdevice_state_steps\u001b[0m\u001b[0;34m]\u001b[0m\u001b[0;34m\u001b[0m\u001b[0;34m\u001b[0m\u001b[0m\n\u001b[0m\u001b[1;32m    596\u001b[0m \u001b[0;34m\u001b[0m\u001b[0m\n\u001b[1;32m    597\u001b[0m             \u001b[0mstep_size\u001b[0m \u001b[0;34m=\u001b[0m \u001b[0m_stack_if_compiling\u001b[0m\u001b[0;34m(\u001b[0m\u001b[0;34m[\u001b[0m\u001b[0;34m(\u001b[0m\u001b[0mlr\u001b[0m \u001b[0;34m/\u001b[0m \u001b[0mbc\u001b[0m\u001b[0;34m)\u001b[0m \u001b[0;34m*\u001b[0m \u001b[0;34m-\u001b[0m\u001b[0;36m1\u001b[0m \u001b[0;32mfor\u001b[0m \u001b[0mbc\u001b[0m \u001b[0;32min\u001b[0m \u001b[0mbias_correction1\u001b[0m\u001b[0;34m]\u001b[0m\u001b[0;34m)\u001b[0m\u001b[0;34m\u001b[0m\u001b[0;34m\u001b[0m\u001b[0m\n",
            "\u001b[0;32m/usr/local/lib/python3.10/dist-packages/torch/optim/optimizer.py\u001b[0m in \u001b[0;36m_get_value\u001b[0;34m(x)\u001b[0m\n\u001b[1;32m     87\u001b[0m         \u001b[0;32mreturn\u001b[0m \u001b[0mx\u001b[0m\u001b[0;34m\u001b[0m\u001b[0;34m\u001b[0m\u001b[0m\n\u001b[1;32m     88\u001b[0m     \u001b[0;32melse\u001b[0m\u001b[0;34m:\u001b[0m\u001b[0;34m\u001b[0m\u001b[0;34m\u001b[0m\u001b[0m\n\u001b[0;32m---> 89\u001b[0;31m         \u001b[0;32mreturn\u001b[0m \u001b[0mx\u001b[0m\u001b[0;34m.\u001b[0m\u001b[0mitem\u001b[0m\u001b[0;34m(\u001b[0m\u001b[0;34m)\u001b[0m\u001b[0;34m\u001b[0m\u001b[0;34m\u001b[0m\u001b[0m\n\u001b[0m\u001b[1;32m     90\u001b[0m \u001b[0;34m\u001b[0m\u001b[0m\n\u001b[1;32m     91\u001b[0m \u001b[0;32mdef\u001b[0m \u001b[0m_stack_if_compiling\u001b[0m\u001b[0;34m(\u001b[0m\u001b[0mx\u001b[0m\u001b[0;34m)\u001b[0m\u001b[0;34m:\u001b[0m\u001b[0;34m\u001b[0m\u001b[0;34m\u001b[0m\u001b[0m\n",
            "\u001b[0;31mKeyboardInterrupt\u001b[0m: "
          ]
        }
      ],
      "source": [
        "loss_fn = nn.CrossEntropyLoss()\n",
        "optimizer = torch.optim.AdamW(model.parameters(), lr = 0.02)\n",
        "batch_size = 4096\n",
        "print_every = 100\n",
        "for epoch in range(10000):\n",
        "  total_loss = 0\n",
        "  for i in range(0, X.shape[0], batch_size):\n",
        "      x = X[i : i + batch_size]\n",
        "      y = Y[i : i + batch_size]\n",
        "      y_pred = model(x)\n",
        "      loss = loss_fn(y_pred.view(-1, len(stoi)), y.view(-1))\n",
        "      optimizer.zero_grad()\n",
        "      loss.backward()\n",
        "      optimizer.step()\n",
        "\n",
        "      total_loss += loss.item()\n",
        "\n",
        "  if epoch % print_every == 0:\n",
        "      average_loss = total_loss / (X.shape[0] / batch_size)\n",
        "      print(f\"Epoch {epoch}, Loss: {average_loss}\")"
      ]
    },
    {
      "cell_type": "markdown",
      "metadata": {
        "id": "FB0uBtNw4F9H"
      },
      "source": [
        "## **Saving the model**"
      ]
    },
    {
      "cell_type": "code",
      "execution_count": 21,
      "metadata": {
        "id": "CEha9utdP48e"
      },
      "outputs": [],
      "source": [
        "torch.save(model.state_dict(), \"modelGulliver20_15.pth\")"
      ]
    },
    {
      "cell_type": "code",
      "execution_count": 22,
      "metadata": {
        "colab": {
          "base_uri": "https://localhost:8080/"
        },
        "id": "J-frP1HW6yPP",
        "outputId": "015db9d9-6d27-4415-a6ab-c5e75548efa1"
      },
      "outputs": [
        {
          "output_type": "execute_result",
          "data": {
            "text/plain": [
              "OrderedDict([('_orig_mod.emb.weight',\n",
              "              tensor([[ 3.3029e-02, -6.7914e-01, -1.0795e-01,  1.1012e+00,  1.6284e-01,\n",
              "                        3.4408e-01, -4.0317e-01, -1.4394e-01, -1.1969e+00,  2.1110e-01,\n",
              "                       -1.2381e+00,  5.9811e-02, -3.6007e-01, -1.0570e+00,  1.2542e+00],\n",
              "                      [-1.3331e-01, -9.0728e-02,  6.1493e-03, -1.5620e-02, -1.9301e-01,\n",
              "                        5.1472e-02,  9.9306e-02, -8.1923e-02, -3.2375e-02,  9.7532e-02,\n",
              "                       -2.0574e+00, -1.2393e-01, -6.2698e-02, -1.8381e-03,  5.1029e-01],\n",
              "                      [-3.0902e-02, -2.4505e-02,  1.2979e-01, -5.9866e-02, -8.7111e-02,\n",
              "                       -3.1449e-02,  1.7683e-01, -2.5988e-03,  4.0789e-02, -1.0481e-02,\n",
              "                       -2.0770e+00, -1.3515e-01,  7.0456e-02, -1.3776e-02,  2.6881e-01],\n",
              "                      [-4.3394e-01, -3.6362e-02, -1.4622e-01,  3.6395e-01, -1.4864e-01,\n",
              "                        4.7309e-01,  5.3416e-01,  1.4290e-01,  4.9666e-01, -1.2561e+00,\n",
              "                        1.0155e+00, -7.8683e-01, -7.0636e-01,  8.7727e-02,  2.0681e-01],\n",
              "                      [-1.8090e-01,  4.3795e-01, -2.3835e-01, -9.6351e-01,  2.5007e-01,\n",
              "                       -6.6960e-01,  2.6381e-01,  4.3852e-01, -1.6618e-01,  2.2065e+00,\n",
              "                        4.3018e-01, -4.5591e-01, -6.4683e-01,  2.0551e+00, -4.6419e-01],\n",
              "                      [ 4.7045e-01, -8.1617e-03,  4.1646e-01,  5.8404e-03, -1.6958e-01,\n",
              "                       -1.3718e-01,  6.7974e-01, -4.4012e-01,  3.1721e-01,  1.7039e-01,\n",
              "                       -2.0559e+00, -4.5691e-01, -5.6112e-01, -2.7724e-01,  8.9172e-02],\n",
              "                      [-3.5345e-01, -2.0033e-01, -4.4461e-01, -1.4479e-02,  1.3809e-01,\n",
              "                        9.6874e-02, -1.0439e-01, -3.0372e-01, -1.5108e-01,  5.4506e-01,\n",
              "                        3.8616e-01,  7.5931e-02, -3.5410e-01, -3.9574e-01,  9.3146e-01],\n",
              "                      [ 5.8378e-01, -7.1737e-01,  5.4716e-01,  8.4929e-01, -8.0612e-01,\n",
              "                       -5.9797e-01, -2.5938e-01, -4.0928e-01,  5.6876e-01,  5.3371e-02,\n",
              "                        1.6097e+00,  5.1291e-01, -2.0834e+00, -3.5374e-01,  1.6180e+00],\n",
              "                      [-5.0661e-01, -5.5579e-02, -3.8394e-01, -2.3755e-01,  6.6215e-02,\n",
              "                        3.4502e-01,  3.4693e-01,  7.3646e-02, -2.4261e-02,  8.8938e-02,\n",
              "                        8.9166e-01, -3.2427e-01, -7.2067e-01,  3.6584e-01,  9.1705e-01],\n",
              "                      [-4.6151e-01,  1.1232e-01,  7.4591e-02, -2.4619e-01, -2.0372e-01,\n",
              "                        2.2416e-01,  3.4291e-01, -9.4200e-03, -3.7894e-02,  3.9235e-01,\n",
              "                       -2.0095e+00, -5.0760e-02,  1.6846e-01, -2.8787e-01,  6.6577e-01],\n",
              "                      [-3.3240e-02, -9.2897e-01, -3.3847e-01, -1.4659e-02, -6.0857e-01,\n",
              "                        4.3330e-01,  2.5870e-02, -1.7053e-01,  1.7770e-01, -6.5197e-01,\n",
              "                        1.1175e+00, -7.8130e-01, -8.1441e-01,  2.1983e-01,  1.5853e-01],\n",
              "                      [ 1.0962e-01, -4.1355e-01, -1.2576e+00, -3.2271e-02, -1.5550e+00,\n",
              "                       -2.4582e-01,  8.6867e-01,  5.8337e-01, -3.0613e-01, -4.9558e-01,\n",
              "                       -1.4204e+00,  8.9899e-01,  8.6276e-01, -3.0393e-01, -1.5814e+00],\n",
              "                      [-1.1715e+00,  4.9625e-01, -1.0401e+00,  3.3859e-01, -1.8287e-01,\n",
              "                       -1.0039e+00,  3.1567e-01, -5.7569e-03,  6.0412e-01, -2.9981e-01,\n",
              "                        7.8915e-01,  8.7425e-01, -7.2447e-01,  5.9008e-02,  2.5363e-02],\n",
              "                      [-2.1957e-01, -9.8238e-01, -1.7073e+00, -3.2447e-02,  1.6108e+00,\n",
              "                       -7.8532e-01, -1.1122e-01, -8.1005e-01, -5.3937e-02, -3.6861e-01,\n",
              "                       -6.8688e-02,  1.8840e+00, -2.1673e+00, -7.3032e-01,  1.5291e+00],\n",
              "                      [-6.3481e-01, -3.1700e-01, -1.5874e+00, -7.3833e-01,  7.4148e-02,\n",
              "                       -7.4877e-01, -1.5096e+00, -4.5051e-01,  1.0516e+00, -1.6599e-01,\n",
              "                       -9.7308e-01,  1.6424e-01, -9.0141e-01, -7.4279e-01,  8.0139e-02],\n",
              "                      [-9.5103e-01, -5.8415e-01, -1.0366e+00, -2.1954e-02,  1.8010e-01,\n",
              "                       -1.2733e-01, -5.2580e-01, -5.6745e-01, -5.0071e-01, -8.1055e-01,\n",
              "                        2.4641e-01,  2.2510e-01, -1.8656e+00, -1.0202e-01,  3.7804e-01],\n",
              "                      [-3.5568e-01, -1.4245e+00, -1.0632e+00, -6.2597e-01,  3.4867e-01,\n",
              "                       -1.1669e+00, -3.2406e-01, -2.4910e-01,  7.8081e-01,  5.4922e-01,\n",
              "                        2.7317e-01, -2.9361e-01, -7.9004e-01, -5.4278e-01, -1.2701e-03],\n",
              "                      [-8.3164e-01,  9.0435e-04, -9.9407e-01,  5.2506e-01,  5.7853e-01,\n",
              "                       -1.4230e+00, -7.9791e-01,  6.6889e-02,  6.4204e-01,  1.6435e-01,\n",
              "                        3.2274e-01,  9.9140e-01, -1.9764e+00,  4.4991e-01,  1.8821e-01],\n",
              "                      [-1.5323e-01, -5.2494e-01, -7.7244e-01, -1.2193e-01,  2.8218e-01,\n",
              "                       -3.3249e-01, -2.2825e-01,  1.5634e-01, -3.9296e-01, -7.1447e-01,\n",
              "                       -1.3691e-02,  1.4627e+00, -2.4088e+00, -3.9671e-01,  1.8497e-01],\n",
              "                      [-9.4425e-01, -3.5552e-01, -4.5655e-01, -1.2680e+00, -9.4026e-02,\n",
              "                       -8.3619e-01,  2.5192e-02,  9.0002e-01,  9.4762e-02,  5.7034e-01,\n",
              "                        7.7057e-02,  1.1252e+00, -2.1030e+00,  4.1022e-01,  4.3721e-01],\n",
              "                      [-2.2546e+00, -8.5538e-01, -4.2931e-01, -5.9935e-01, -1.2700e-01,\n",
              "                       -2.2536e-01,  3.6969e-01, -5.3654e-02, -6.4463e-01,  3.6541e-01,\n",
              "                        1.5847e-01,  5.3529e-01, -1.8206e+00,  2.3859e-01, -1.5434e-01],\n",
              "                      [-6.0619e-01, -5.5534e-02, -1.0722e+00,  6.9590e-02,  1.7047e-01,\n",
              "                       -5.7747e-01, -4.2989e-01, -2.9992e-01,  3.7367e-01, -4.3925e-01,\n",
              "                       -6.7913e-02,  1.3098e+00, -1.7324e+00,  3.9657e-01,  6.9259e-01],\n",
              "                      [-2.2501e-01, -2.3496e-01, -3.4111e-01, -2.5804e-01, -2.2500e-01,\n",
              "                        6.6145e-01,  7.1419e-01, -1.3823e-02,  3.7846e-01, -8.4682e-02,\n",
              "                        1.2175e+00, -7.1115e-01, -1.0134e+00,  2.2449e-01,  6.2316e-01],\n",
              "                      [-3.5185e-01, -1.0972e-01, -2.8732e-01, -3.9082e-01, -6.5536e-02,\n",
              "                        8.7325e-01,  8.6664e-01,  3.9030e-02,  2.3469e-01,  2.6240e-01,\n",
              "                        1.1606e+00, -4.8439e-01, -7.9604e-01,  4.3152e-01,  6.4876e-01],\n",
              "                      [ 2.6401e-01, -1.0035e+00,  4.8018e-01, -5.3196e-01, -5.4898e-01,\n",
              "                        4.2465e-01,  2.4861e-01, -1.0572e-01, -1.0118e-01, -1.9374e-01,\n",
              "                        1.4161e+00, -2.9679e-01, -5.5670e-01,  1.7151e-01,  4.0000e-01],\n",
              "                      [-2.7732e+00,  9.5844e-01, -8.3221e-01, -1.1919e+00, -1.1623e+00,\n",
              "                       -5.3795e-01,  9.6009e-01, -4.4429e-01,  9.0760e-01, -1.6505e+00,\n",
              "                       -7.1806e-01, -1.8812e+00, -6.0374e-01, -1.1514e+00, -7.0545e-01],\n",
              "                      [-4.2753e-01, -1.0485e+00, -1.0477e+00,  6.3020e-01,  4.3608e-01,\n",
              "                        1.0964e+00, -3.4622e-01,  2.3190e-01, -2.0485e-01, -6.4849e-01,\n",
              "                        6.6647e-01, -8.9711e-01, -1.0019e-01,  3.6391e-01,  1.2858e+00],\n",
              "                      [-1.3231e+00, -6.5082e-02, -9.6545e-01, -8.1385e-01,  6.0631e-01,\n",
              "                       -3.1328e-01, -2.4725e-01, -6.9668e-01, -9.6386e-01,  9.6461e-01,\n",
              "                       -1.1875e-01,  4.1111e-01, -8.8485e-02, -1.7512e-01,  7.3439e-01],\n",
              "                      [ 2.2254e-01, -3.6728e-01, -2.0919e-01,  5.5895e-02,  5.3053e-01,\n",
              "                        2.7461e-01, -1.4219e-01,  6.7343e-01, -1.0083e-02,  1.7076e-01,\n",
              "                       -4.5708e-01,  6.8063e-01, -5.5444e-02, -2.1023e-01, -9.4101e-01],\n",
              "                      [ 8.3751e-01, -2.1406e-01,  3.1420e-01, -6.5556e-02,  5.6770e-01,\n",
              "                       -4.9074e-01, -1.2012e+00, -8.7125e-02, -9.0937e-01, -6.6893e-01,\n",
              "                       -5.8093e-01, -1.7769e-01,  2.4847e-01,  4.1805e-01,  2.8742e-01],\n",
              "                      [-1.1024e-01,  1.2122e+00,  3.7033e-01,  8.1060e-01, -1.1167e-01,\n",
              "                        4.3211e-01,  1.3134e-01,  1.0794e-01, -6.0933e-01,  4.9839e-01,\n",
              "                       -9.5695e-02, -2.3370e-02,  6.9471e-01, -1.2461e-02,  1.1614e-01],\n",
              "                      [-1.1876e-01,  3.4340e-01,  1.1322e-01, -1.7839e-01, -1.5381e-01,\n",
              "                        4.5577e-01, -3.6325e-01, -2.9795e-01, -2.3920e-01, -6.1005e-01,\n",
              "                        1.1807e-01,  3.7707e-01, -7.5880e-02,  1.3946e-01,  7.4064e-01],\n",
              "                      [-3.7148e-01,  9.2826e-02, -6.0004e-01, -4.1143e-01,  4.1057e-01,\n",
              "                       -2.6733e-01, -8.7703e-02, -2.9801e-01, -1.6203e-01, -1.3580e-01,\n",
              "                        1.4424e-01,  2.7120e-01,  1.7089e-01, -4.4807e-02, -1.7312e-01],\n",
              "                      [-1.7286e-01, -3.8940e-01,  2.3122e-02,  4.5022e-01,  3.6491e-01,\n",
              "                       -1.1713e-01, -6.0523e-01,  8.9168e-02, -1.9958e-02,  1.2803e-01,\n",
              "                        1.5450e-01, -3.5483e-01,  1.3226e+00, -6.6815e-01,  8.8325e-02],\n",
              "                      [ 3.4431e-01,  1.7896e-01,  7.7834e-01, -2.9093e-01, -4.7729e-01,\n",
              "                       -1.0269e+00, -8.8863e-02, -5.4609e-01,  4.9102e-02,  8.8670e-01,\n",
              "                        1.4584e-01,  4.1465e-01,  9.1691e-02,  1.8713e-01,  1.4764e-01],\n",
              "                      [ 1.7384e-01, -8.0332e-02,  8.5721e-01,  8.9507e-02,  7.4033e-01,\n",
              "                        2.8663e-01, -2.8696e-01, -1.9831e-01,  1.2808e-02,  2.1999e-01,\n",
              "                        3.7924e-01, -4.4356e-01, -1.5370e-01,  6.3787e-01,  9.1127e-01],\n",
              "                      [-1.1979e-01,  7.4951e-02,  3.9133e-01, -5.2572e-02, -4.2163e-02,\n",
              "                        2.1553e-02,  3.6200e-02, -2.0963e-01, -1.3415e-01, -1.4738e-01,\n",
              "                       -2.8189e-01,  1.5694e+00, -4.6427e-01, -1.0335e-01, -3.1149e-01],\n",
              "                      [-1.7910e+00,  1.8840e+00,  6.9801e-01,  2.8277e-01, -9.0154e-01,\n",
              "                        3.0933e-01, -6.8030e-01,  8.5961e-01,  4.3357e-01, -5.2207e-01,\n",
              "                        5.8223e-01,  2.5427e-01,  5.6715e-01, -4.9603e-01, -6.8838e-01],\n",
              "                      [-4.3709e-01, -3.4292e-01,  1.2194e-01,  3.1270e-01, -6.4416e-01,\n",
              "                        8.1599e-02, -5.8295e-01,  4.7102e-01, -1.0068e+00,  7.2583e-01,\n",
              "                        1.5961e-01,  3.0022e-01, -1.0262e+00,  6.5640e-01,  8.9641e-01],\n",
              "                      [-3.5562e-01,  2.9014e-01, -4.6157e-03, -6.2074e-01,  1.0212e-04,\n",
              "                       -1.7045e-01, -5.7767e-01,  6.4213e-01, -4.1814e-02, -8.0227e-03,\n",
              "                        2.6506e-02, -4.4331e-01,  6.5565e-01,  9.0638e-01, -1.7548e-01],\n",
              "                      [-2.1749e-04,  1.6644e-01,  1.3839e-01, -4.4065e-02, -2.6680e-01,\n",
              "                        2.8363e-01, -1.6899e+00, -1.4246e-01,  8.0351e-01, -2.1449e-02,\n",
              "                       -1.9998e-01, -9.4426e-02, -1.4157e-01, -9.5361e-02, -3.4244e-01],\n",
              "                      [ 9.4311e-02, -1.4884e-01, -1.0454e+00,  4.9128e-01, -2.2013e-01,\n",
              "                        3.2006e-01, -3.6893e-01, -1.6247e-01,  2.6540e-01,  1.8752e-02,\n",
              "                       -1.2235e-01, -4.8033e-02,  2.8583e-01,  5.7284e-01,  2.6182e-01],\n",
              "                      [ 2.5347e-01, -2.8235e-02,  6.5369e-02,  9.1244e-02,  1.1247e-01,\n",
              "                       -1.3374e-01,  4.4468e-01, -1.2274e-01,  1.1971e-01, -1.5089e-01,\n",
              "                        2.8920e-01,  8.4763e-01,  8.7197e-01,  7.6511e-01, -3.5050e-01],\n",
              "                      [ 6.8423e-01,  3.7267e-02, -4.2189e-01, -5.0267e-01, -6.8950e-01,\n",
              "                        5.2200e-01, -4.6717e-01, -3.8288e-01, -1.2622e+00,  8.4194e-02,\n",
              "                        2.6350e-01,  1.5797e-01,  6.9898e-01, -5.8211e-01,  1.8854e-01],\n",
              "                      [ 1.8783e+00,  2.6159e+00,  5.0952e-01,  2.1995e-01,  1.4643e+00,\n",
              "                        9.8238e-01,  9.9489e-02,  3.9118e-01,  3.0207e-01,  2.2637e-01,\n",
              "                       -1.9146e+00, -4.8297e-01,  2.8764e+00, -8.1720e-01, -1.3295e-01],\n",
              "                      [ 3.5029e-01,  6.8682e-01, -3.2097e-01,  3.0062e-02, -1.8784e-01,\n",
              "                       -5.6892e-01, -4.1910e-01,  1.7694e-01,  9.2866e-02, -2.8516e-01,\n",
              "                       -3.4407e-02,  1.2421e-01, -4.5578e-01,  6.5266e-02,  3.6328e-01],\n",
              "                      [ 1.3004e-01,  5.4917e-02, -5.1072e-01,  7.9455e-02,  2.2662e-01,\n",
              "                        1.2801e-01, -1.6158e-02, -1.0888e-03,  4.7832e-02,  1.0415e+00,\n",
              "                        5.1581e-02,  1.6302e-01, -1.6704e-01, -3.2419e-01,  9.3480e-01],\n",
              "                      [ 1.7289e-01, -9.3416e-02,  2.1180e-01,  4.8328e-02, -3.1583e-01,\n",
              "                       -1.4947e-01,  2.3624e-01,  5.1435e-01,  5.0349e-02, -1.7685e-01,\n",
              "                        6.1228e-01,  4.1993e-01,  3.7609e-01, -3.6683e-01,  1.1060e+00],\n",
              "                      [-7.4181e-02,  7.3397e-02, -4.7518e-01,  7.3114e-01,  7.7366e-01,\n",
              "                       -5.9632e-01,  3.1434e-01,  4.5242e-01, -6.2323e-01, -4.3760e-02,\n",
              "                       -2.2306e-01,  3.5931e-02, -5.3075e-01,  2.0361e-01, -2.7883e-01],\n",
              "                      [-1.9277e-01, -7.1291e-01,  9.4305e-01,  7.5881e-01, -1.2118e+00,\n",
              "                       -1.7087e-01, -1.3430e+00,  6.2345e-01, -8.7456e-01,  4.8971e-01,\n",
              "                        1.3908e-01, -2.7625e-01,  2.5884e-01,  5.6477e-01,  2.6941e-01],\n",
              "                      [-1.5366e-01, -1.3181e-01,  4.1698e-01,  1.3910e+00, -5.5034e-02,\n",
              "                       -3.8840e-01, -1.7734e-01, -8.1214e-01,  9.1697e-02, -5.1063e-01,\n",
              "                        2.8012e-01, -2.3008e-01, -2.8837e-02, -5.8875e-01,  3.3152e-01],\n",
              "                      [-5.0559e-01,  1.1014e+00, -2.8319e-01, -6.0654e-02,  6.2605e-01,\n",
              "                        7.5444e-01,  1.4607e-01,  6.1771e-01, -3.1127e-01, -4.1899e-02,\n",
              "                        2.7939e-01, -5.5809e-02,  3.7141e-01,  1.0586e-01,  8.7285e-01],\n",
              "                      [-1.0517e+00, -2.6787e-01, -3.3201e-02, -7.8914e-02,  1.7073e-02,\n",
              "                       -2.6159e-01, -2.6175e-01,  1.7385e-01, -1.0196e-01,  3.8916e-01,\n",
              "                        4.4980e-01,  3.7034e-01,  6.6419e-02,  9.6861e-02,  5.6970e-01],\n",
              "                      [-3.5223e-01,  8.8701e-02,  2.8370e-01, -7.0957e-02, -1.1416e+00,\n",
              "                        8.9669e-02, -5.8355e-01,  1.4298e-01, -8.2934e-01,  8.2134e-02,\n",
              "                       -7.9860e-02,  5.1231e-01,  3.5588e-01, -3.7320e-01,  1.7836e-01]],\n",
              "                     device='cuda:0')),\n",
              "             ('_orig_mod.lin1.weight',\n",
              "              tensor([[ 9.2028e-02,  5.9258e-03, -9.7265e-03,  ..., -5.1410e+00,\n",
              "                       -6.5520e-01, -1.6492e+00],\n",
              "                      [-2.6066e-01, -1.4387e-01, -2.6968e-02,  ..., -1.4274e+00,\n",
              "                       -8.3085e-01, -1.9058e+00],\n",
              "                      [-4.2779e-02,  1.6578e-01, -3.2971e-02,  ...,  2.7027e+00,\n",
              "                       -3.4861e+00,  6.3484e-01],\n",
              "                      ...,\n",
              "                      [-1.3782e-01,  2.9328e-02,  8.9160e-02,  ..., -4.5213e+00,\n",
              "                       -2.9703e+00, -1.3285e+00],\n",
              "                      [ 1.9433e-01, -2.7191e-01, -3.4443e-02,  ..., -4.3086e+00,\n",
              "                       -3.7661e+00, -1.5002e+00],\n",
              "                      [-3.0774e-03, -1.2635e-01,  1.0545e-01,  ..., -6.1159e-01,\n",
              "                       -2.3467e+00, -1.8624e+00]], device='cuda:0')),\n",
              "             ('_orig_mod.lin1.bias',\n",
              "              tensor([ 2.3735, -2.1930,  1.4873, -2.2198,  2.0281,  2.8585, -0.3915,  2.0703,\n",
              "                      -1.0798, -0.2061,  1.7025, -1.6638, -1.6918,  0.4330,  0.1141, -1.6804,\n",
              "                      -1.9524, -4.2356, -1.7691, -1.8675,  1.8150,  0.2381,  1.3245, -2.5267,\n",
              "                       1.8735, -3.1881,  1.1964, -1.7670,  0.8499, -2.5646, -2.3294,  1.4109,\n",
              "                      -1.9327,  1.5759,  0.4258, -3.6375, -2.6130,  1.5643,  3.4948,  2.7599,\n",
              "                      -1.4672, -2.0136, -0.7811,  1.1742,  3.5142,  2.3719,  2.2482, -3.4035,\n",
              "                      -2.0606,  2.9253,  2.4193, -0.2980,  2.4659,  0.0791, -0.8549,  1.4139,\n",
              "                       0.6085,  3.5003,  0.3626,  2.3906, -1.8479, -1.5523, -0.2068, -0.3559,\n",
              "                       1.5871,  1.0339,  3.4203, -1.7727,  2.1858,  2.2894,  3.2118, -0.6848,\n",
              "                      -2.1322,  3.7949,  3.3778, -3.5176,  0.4493,  0.1774, -3.7332, -0.1913,\n",
              "                       1.8053, -1.2486, -0.7438,  0.6736, -1.3574, -1.4984,  1.3622,  1.8594,\n",
              "                       0.9792, -1.9736, -3.2208,  1.4552,  2.0728,  3.1671, -1.9586,  0.8016,\n",
              "                      -0.9449, -2.5991, -0.1305, -0.3740], device='cuda:0')),\n",
              "             ('_orig_mod.lin2.weight',\n",
              "              tensor([[ 0.8846,  0.0171, -0.9950,  ...,  0.6450,  0.3765,  0.1420],\n",
              "                      [ 0.1822, -0.6884, -1.2428,  ..., -0.7028, -0.6964,  0.7401],\n",
              "                      [-0.1794,  0.5862,  0.8143,  ...,  0.4275, -0.2244,  1.0668],\n",
              "                      ...,\n",
              "                      [-1.0018,  1.1560,  0.2563,  ...,  0.8585,  0.3602, -0.3708],\n",
              "                      [-0.9929,  0.5668, -0.2718,  ...,  0.3680, -0.9767,  0.4849],\n",
              "                      [-1.2114,  0.0528, -0.2612,  ...,  0.4859, -0.0282, -0.8998]],\n",
              "                     device='cuda:0')),\n",
              "             ('_orig_mod.lin2.bias',\n",
              "              tensor([-0.0620,  0.7977,  1.6152,  0.6046, -1.1807,  0.5826, -0.5607,  1.6947,\n",
              "                       1.7599, -1.1314, -1.0455,  0.7490,  0.1945, -0.5043, -0.4012, -1.0256,\n",
              "                       0.0523, -0.1620,  0.8437, -1.2116,  0.9524,  0.8021, -1.0248, -0.5103,\n",
              "                      -0.7904,  0.1901,  1.7494,  0.9171,  0.2928, -0.3111,  0.3682, -0.3406,\n",
              "                       1.4591,  0.8502, -0.9501, -1.4120,  0.6931, -1.5405,  1.8135,  0.6338,\n",
              "                       0.3820,  0.5864,  0.8122, -0.0446, -0.9206, -0.1017,  0.4422,  0.1045,\n",
              "                      -0.3578,  0.8886,  0.6675, -0.0481, -0.3238, -0.5817,  1.1594,  0.3838,\n",
              "                       2.0676, -0.3449, -0.8292,  0.6842, -1.1362, -0.5601, -0.1427, -0.1454,\n",
              "                       0.4893,  0.2115, -0.1703,  1.2303, -0.5437,  0.9961, -0.3958, -1.2898,\n",
              "                      -0.6354, -1.2359,  0.0673], device='cuda:0')),\n",
              "             ('_orig_mod.lin3.weight',\n",
              "              tensor([[ 4.6046e-01,  1.6570e-01, -3.0839e-01,  ...,  5.0058e-01,\n",
              "                        7.5110e-01, -3.1336e-01],\n",
              "                      [ 7.2970e-01,  4.0960e-01,  5.2325e-01,  ..., -1.4699e-01,\n",
              "                       -4.0871e-01,  1.4783e-01],\n",
              "                      [ 7.7553e-01,  4.4102e-01,  5.3954e-01,  ..., -1.4724e-01,\n",
              "                       -3.1824e-01,  1.7161e-01],\n",
              "                      ...,\n",
              "                      [-1.0490e-03, -6.9201e-01, -7.4629e-01,  ..., -1.6972e-01,\n",
              "                       -1.1097e+00,  9.3792e-01],\n",
              "                      [-5.0388e-01,  6.4480e-01, -5.5393e-01,  ...,  1.9883e-02,\n",
              "                       -6.6703e-02, -5.0335e-01],\n",
              "                      [-7.5904e-01,  2.2935e-01, -1.6302e-01,  ..., -3.9292e-02,\n",
              "                        3.2804e-01,  2.5211e-01]], device='cuda:0')),\n",
              "             ('_orig_mod.lin3.bias',\n",
              "              tensor([-3.0278,  0.8270,  0.2674, -1.3689, -2.0899, -0.4909, -0.6532, -1.1555,\n",
              "                      -0.4869, -0.2355,  0.1858, -2.1225, -0.8387,  0.0234, -1.0538,  0.3800,\n",
              "                      -0.4620, -0.2594, -0.0979, -1.2978, -0.8229, -1.0795, -1.4591, -1.0240,\n",
              "                      -0.9077, -0.3842, -1.7549, -0.3644, -0.0761, -0.0935,  0.0509,  0.2619,\n",
              "                       0.6668, -0.1978, -0.4250, -0.0708, -0.0301, -0.8021, -1.2890, -0.7488,\n",
              "                      -0.4984,  0.2003,  0.2920, -0.1301, -1.4510,  0.5395,  0.7584,  0.2560,\n",
              "                       0.1785, -0.3725, -0.1803, -1.3856, -0.5296, -1.2552], device='cuda:0'))])"
            ]
          },
          "metadata": {},
          "execution_count": 22
        }
      ],
      "source": [
        "model.state_dict()"
      ]
    },
    {
      "cell_type": "markdown",
      "metadata": {
        "id": "wzPEfmyz4I92"
      },
      "source": [
        "## **Loading the model**"
      ]
    },
    {
      "cell_type": "code",
      "execution_count": null,
      "metadata": {
        "id": "KqXy1qNjQbAz"
      },
      "outputs": [],
      "source": [
        "if (torch.cuda.is_available()):\n",
        "    device = torch.device(\"cuda\")\n",
        "elif (torch.backends.mps.is_available()):\n",
        "    device = torch.device(\"mps\")\n",
        "else:\n",
        "    device = torch.device(\"cpu\")\n",
        "\n",
        "model = NextChar(block_size, len(stoi), emb_dim, 30)\n",
        "model.load_state_dict(torch.load(\"model.pth\", map_location = device), strict = False)\n",
        "model = model.to(device)\n",
        "model.eval()"
      ]
    },
    {
      "cell_type": "markdown",
      "metadata": {
        "id": "ZDaOSSSy-H7-"
      },
      "source": [
        "## Visualize the Learnt Embedding"
      ]
    },
    {
      "cell_type": "code",
      "execution_count": 23,
      "metadata": {
        "colab": {
          "base_uri": "https://localhost:8080/",
          "height": 456
        },
        "id": "nosn1YXFT2Bh",
        "outputId": "011486dd-2f3a-4877-e332-f4f494740642"
      },
      "outputs": [
        {
          "output_type": "execute_result",
          "data": {
            "text/plain": [
              "<Axes: >"
            ]
          },
          "metadata": {},
          "execution_count": 23
        },
        {
          "output_type": "display_data",
          "data": {
            "text/plain": [
              "<Figure size 800x493.827 with 1 Axes>"
            ],
            "image/png": "[encoded data removed]"
          },
          "metadata": {
            "image/png": {
              "width": 667,
              "height": 422
            }
          }
        }
      ],
      "source": [
        "latexify(columns = 2, fig_width = 8)\n",
        "plot_emb(model.emb, itos)"
      ]
    },
    {
      "cell_type": "markdown",
      "metadata": {
        "id": "iTLlkHDY-H7_"
      },
      "source": [
        "## Generating Strings from the Model"
      ]
    },
    {
      "cell_type": "code",
      "execution_count": 25,
      "metadata": {
        "colab": {
          "base_uri": "https://localhost:8080/"
        },
        "id": "lIDdbZSrQrgY",
        "outputId": "bb6a8408-318e-4c90-c67e-2b1113246c1e"
      },
      "outputs": [
        {
          "output_type": "stream",
          "name": "stdout",
          "text": [
            "==================Seed Text=================\n",
            "and his officers were in much pain,\n",
            "especially when they saw me take out my penknife: but i\n",
            "\n",
            "\n",
            "===============Predicted Text===============\n",
            "and his officers were in much pain,\n",
            "especially when they saw me take out my penknife: but in it secrivate our down of must\n",
            "not ender destrible his write. i had helest delivere or the moats he majesty to the modink arance in preasel the cupvaiady little silfood at do dif me, it is request; with the\n",
            "tires, as to in at himanced of was fathest\n",
            "to the doors the we bell it weight them into to their they they were oeft the\n",
            "more nears the box in cardh rey houses too compartary the whase it was, and someting of\n",
            "the the tative to coltriunfisarve where to\n",
            "the out of giving, former to look farth a deperies in contentions: the circuter that off contrar lice of tamtads, beid strequir plays and recence, pursue the tambled despined to colianlowed then his bleting as in long eind aie time of it other; he she pade expressear, no recens of grate\n",
            "confirents of the ropossion inquiricg asser. be gaat the justal that computes persetion to eeethat of\n",
            "the\n",
            "years another for\n",
            "one two as i anchisty of prodle\n",
            "the talte these returnistance up their contined to be\n",
            "drapudoly\n",
            "my each of the more the lorbr of\n"
          ]
        }
      ],
      "source": [
        "start = np.random.randint(0, len(new_gulliver) - block_size - 1)\n",
        "end = start + 100\n",
        "while new_gulliver[start] != \" \":\n",
        "  start += 1\n",
        "\n",
        "while new_gulliver[end] != \" \":\n",
        "  end -= 1\n",
        "\n",
        "seed_text = new_gulliver[start + 1 : end]\n",
        "print(f\"==================Seed Text=================\\n{seed_text}\\n\")\n",
        "my_str = generate_text(model, itos, stoi, block_size, 1000, seed_text)\n",
        "decoded_string = bytes(my_str, \"utf-8\").decode(\"unicode_escape\")\n",
        "print(f\"\\n===============Predicted Text===============\\n{decoded_string}\")"
      ]
    }
  ],
  "metadata": {
    "accelerator": "GPU",
    "colab": {
      "gpuType": "T4",
      "provenance": []
    },
    "kernelspec": {
      "display_name": "Python 3",
      "name": "python3"
    },
    "language_info": {
      "codemirror_mode": {
        "name": "ipython",
        "version": 3
      },
      "file_extension": ".py",
      "mimetype": "text/x-python",
      "name": "python",
      "nbconvert_exporter": "python",
      "pygments_lexer": "ipython3",
      "version": "3.9.16"
    },
    "orig_nbformat": 4
  },
  "nbformat": 4,
  "nbformat_minor": 0
}