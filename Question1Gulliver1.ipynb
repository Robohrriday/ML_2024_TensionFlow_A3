{
  "cells": [
    {
      "cell_type": "code",
      "execution_count": 55,
      "metadata": {
        "id": "uyVM8Qy1T2Bd"
      },
      "outputs": [],
      "source": [
        "import torch\n",
        "import torch.nn.functional as F\n",
        "from torch import nn\n",
        "import pandas as pd\n",
        "import numpy as np\n",
        "import matplotlib.pyplot as plt\n",
        "from latex import latexify, format_axes\n",
        "from pprint import pprint\n",
        "from sklearn.manifold import TSNE\n",
        "import torch._dynamo\n",
        "torch._dynamo.config.suppress_errors = True\n",
        "%matplotlib inline\n",
        "%config InlineBackend.figure_format = \"retina\""
      ]
    },
    {
      "cell_type": "code",
      "execution_count": null,
      "metadata": {
        "id": "OMj_uKDP-twy"
      },
      "outputs": [],
      "source": [
        "!sudo apt install cm-super dvipng texlive-latex-extra texlive-latex-recommended"
      ]
    },
    {
      "cell_type": "code",
      "execution_count": 56,
      "metadata": {
        "colab": {
          "base_uri": "https://localhost:8080/"
        },
        "id": "q3fSU3yoT2Be",
        "outputId": "5ec6800c-c817-4c08-8687-f57a4a54c675"
      },
      "outputs": [
        {
          "output_type": "stream",
          "name": "stdout",
          "text": [
            "cuda\n"
          ]
        }
      ],
      "source": [
        "if (torch.cuda.is_available()):\n",
        "    device = torch.device(\"cuda\")\n",
        "elif (torch.backends.mps.is_available()):\n",
        "    device = torch.device(\"mps\")\n",
        "else:\n",
        "    device = torch.device(\"cpu\")\n",
        "print(device)"
      ]
    },
    {
      "cell_type": "markdown",
      "metadata": {
        "id": "hlYt-loV-H79"
      },
      "source": [
        "## **Gulliver Corpus**"
      ]
    },
    {
      "cell_type": "code",
      "execution_count": 57,
      "metadata": {
        "colab": {
          "base_uri": "https://localhost:8080/"
        },
        "id": "-9Ssjshb-H79",
        "outputId": "59dd4778-45c5-4fcd-be51-226ba245d7bc"
      },
      "outputs": [
        {
          "output_type": "stream",
          "name": "stdout",
          "text": [
            "PART I. A VOYAGE TO LILLIPUT.\n",
            "\n",
            "\n",
            "CHAPTER I.\n",
            "\n",
            "The author gives some account of himself and family. His first\n",
            "inducements to travel. He is shipwrecked, and swims for his life, gets\n",
            "safe on shore in the country of Lilliput; is made a prisoner, and\n",
            "carried up the country.\n",
            "\n",
            "\n",
            "My father had a small estate in Nottinghamshire; I was the third of\n",
            "five sons. He sent me to Emanuel College in Cambridge at fourteen years\n",
            "old, where I resided three years, and applied myself close to my\n",
            "studies; but the charge of maintaining me, although I had a very scanty\n",
            "allowance, being too great for a narrow fortune, I was bound apprentice\n",
            "to Mr. James Bates, an eminent surgeon in London, with whom I continued\n",
            "four years. My father now and then sending me small sums of money, I\n",
            "laid them out in learning navigation, and other parts of the\n",
            "mathematics, useful to those who intend to travel, as I always believed\n",
            "it would be, some time or other, my fortune to do. When I left Mr.\n",
            "Bates, I went down to my father: where, \n",
            "588307\n",
            "53\n",
            "['\\n', ' ', '!', \"'\", '(', ')', '*', ',', '-', '.', '/', '0', '1', '2', '3', '4', '5', '6', '7', '8', '9', ':', ';', '?', '[', ']', '_', 'a', 'b', 'c', 'd', 'e', 'f', 'g', 'h', 'i', 'j', 'k', 'l', 'm', 'n', 'o', 'p', 'q', 'r', 's', 't', 'u', 'v', 'w', 'x', 'y', 'z']\n"
          ]
        }
      ],
      "source": [
        "fileGulliver = open(\"gulliver.txt\", \"r\")\n",
        "gulliver = fileGulliver.read()\n",
        "print(gulliver[:1000])\n",
        "new_gulliver = \"\"\n",
        "for char in gulliver:\n",
        "    if char in ['$', '%', '&', 'æ', 'œ', '–', '—', '‘', '’', '“', '”', '•', '™']:\n",
        "        continue\n",
        "    new_gulliver += char.lower()\n",
        "\n",
        "characters = sorted(list(set(new_gulliver)))\n",
        "print(len(new_gulliver))\n",
        "print(len(characters))\n",
        "print(characters)"
      ]
    },
    {
      "cell_type": "code",
      "execution_count": 58,
      "metadata": {
        "colab": {
          "base_uri": "https://localhost:8080/"
        },
        "id": "8TgI5hSG-H79",
        "outputId": "08fa89e2-cc98-4cdc-af79-1188e85df1bb"
      },
      "outputs": [
        {
          "output_type": "stream",
          "name": "stdout",
          "text": [
            "{0: '+',\n",
            " 1: '\\n',\n",
            " 2: ' ',\n",
            " 3: '!',\n",
            " 4: \"'\",\n",
            " 5: '(',\n",
            " 6: ')',\n",
            " 7: '*',\n",
            " 8: ',',\n",
            " 9: '-',\n",
            " 10: '.',\n",
            " 11: '/',\n",
            " 12: '0',\n",
            " 13: '1',\n",
            " 14: '2',\n",
            " 15: '3',\n",
            " 16: '4',\n",
            " 17: '5',\n",
            " 18: '6',\n",
            " 19: '7',\n",
            " 20: '8',\n",
            " 21: '9',\n",
            " 22: ':',\n",
            " 23: ';',\n",
            " 24: '?',\n",
            " 25: '[',\n",
            " 26: ']',\n",
            " 27: '_',\n",
            " 28: 'a',\n",
            " 29: 'b',\n",
            " 30: 'c',\n",
            " 31: 'd',\n",
            " 32: 'e',\n",
            " 33: 'f',\n",
            " 34: 'g',\n",
            " 35: 'h',\n",
            " 36: 'i',\n",
            " 37: 'j',\n",
            " 38: 'k',\n",
            " 39: 'l',\n",
            " 40: 'm',\n",
            " 41: 'n',\n",
            " 42: 'o',\n",
            " 43: 'p',\n",
            " 44: 'q',\n",
            " 45: 'r',\n",
            " 46: 's',\n",
            " 47: 't',\n",
            " 48: 'u',\n",
            " 49: 'v',\n",
            " 50: 'w',\n",
            " 51: 'x',\n",
            " 52: 'y',\n",
            " 53: 'z'}\n"
          ]
        }
      ],
      "source": [
        "stoi = {s : i + 1 for i, s in enumerate(characters)}\n",
        "stoi[\"+\"] = 0 ## Pad Character\n",
        "itos = {i : s for s, i in stoi.items()}\n",
        "pprint(itos)"
      ]
    },
    {
      "cell_type": "markdown",
      "metadata": {
        "id": "zSrlBk8v2ejr"
      },
      "source": [
        "![](./MLPToken.svg)"
      ]
    },
    {
      "cell_type": "markdown",
      "metadata": {
        "id": "A0boGUpm-H79"
      },
      "source": [
        "## Generating the Training Samples"
      ]
    },
    {
      "cell_type": "markdown",
      "metadata": {
        "id": "JjRxWJxajSzO"
      },
      "source": [
        "![](./media/MLPToken.svg)"
      ]
    },
    {
      "cell_type": "code",
      "execution_count": 59,
      "metadata": {
        "id": "ehhRBBkFT2Bf"
      },
      "outputs": [],
      "source": [
        "block_size = 20\n",
        "X, Y = [], []\n",
        "context = [0] * block_size\n",
        "for idx in range(len(new_gulliver)):\n",
        "  ix = stoi[new_gulliver[idx]]\n",
        "  X.append(context)\n",
        "  Y.append(ix)\n",
        "  # print(''.join(itos[i] for i in context), '--->', itos[ix])\n",
        "  context = context[1:] + [ix]\n",
        "\n",
        "X = torch.tensor(X).to(device)\n",
        "Y = torch.tensor(Y).to(device)"
      ]
    },
    {
      "cell_type": "code",
      "execution_count": 60,
      "metadata": {
        "colab": {
          "base_uri": "https://localhost:8080/"
        },
        "id": "SPF1bM3zT2Bg",
        "outputId": "73ecdae6-3de7-4229-80d6-b4bf66301aad"
      },
      "outputs": [
        {
          "output_type": "execute_result",
          "data": {
            "text/plain": [
              "(torch.Size([588307, 20]), torch.Size([588307]))"
            ]
          },
          "metadata": {},
          "execution_count": 60
        }
      ],
      "source": [
        "X.shape, Y.shape"
      ]
    },
    {
      "cell_type": "code",
      "execution_count": 61,
      "metadata": {
        "id": "_sCN5vWeT2Bh"
      },
      "outputs": [],
      "source": [
        "# Embedding layer for the context\n",
        "emb_dim = 25\n",
        "emb = torch.nn.Embedding(len(stoi), emb_dim)"
      ]
    },
    {
      "cell_type": "code",
      "execution_count": 62,
      "metadata": {
        "colab": {
          "base_uri": "https://localhost:8080/"
        },
        "id": "ulJCyMqWT2Bh",
        "outputId": "4f3619d7-48fd-4783-ba7a-e7c1be912586"
      },
      "outputs": [
        {
          "output_type": "execute_result",
          "data": {
            "text/plain": [
              "torch.Size([54, 25])"
            ]
          },
          "metadata": {},
          "execution_count": 62
        }
      ],
      "source": [
        "emb.weight.shape"
      ]
    },
    {
      "cell_type": "markdown",
      "metadata": {
        "id": "GmXXzz9w2ejs"
      },
      "source": [
        "## Function to visualize the embedding in 2d space using **t-SNE**"
      ]
    },
    {
      "cell_type": "code",
      "execution_count": 63,
      "metadata": {
        "colab": {
          "base_uri": "https://localhost:8080/",
          "height": 551
        },
        "id": "jKMFCuDfT2Bh",
        "outputId": "85503308-466e-4da1-efc4-fd1e918c4ab9"
      },
      "outputs": [
        {
          "output_type": "execute_result",
          "data": {
            "text/plain": [
              "<Axes: >"
            ]
          },
          "metadata": {},
          "execution_count": 63
        },
        {
          "output_type": "display_data",
          "data": {
            "text/plain": [
              "<Figure size 1000x617.284 with 1 Axes>"
            ],
            "image/png": "[encoded data removed]"
          },
          "metadata": {
            "image/png": {
              "width": 833,
              "height": 517
            }
          }
        }
      ],
      "source": [
        "latexify(columns = 2, fig_width = 10)\n",
        "def plot_emb(emb, itos, ax = None):\n",
        "    if emb.weight.shape[1] != 2:\n",
        "      tsne = TSNE(n_components = 2)\n",
        "      emb_new = tsne.fit_transform(emb.weight.detach().cpu().numpy())\n",
        "    if ax is None:\n",
        "        fig, ax = plt.subplots()\n",
        "    for i in range(len(itos)):\n",
        "        if emb.weight.shape[1] == 2:\n",
        "          x, y = emb.weight[i].detach().cpu().numpy()\n",
        "          ax.scatter(x, y, color='k')\n",
        "          ax.text(x + 0.05, y + 0.05, itos[i])\n",
        "        else:\n",
        "          x, y = emb_new[i]\n",
        "          ax.scatter(x, y, color = 'k')\n",
        "          ax.text(x + 0.05, y + 0.05, itos[i])\n",
        "    return ax\n",
        "\n",
        "plot_emb(emb, itos)"
      ]
    },
    {
      "cell_type": "markdown",
      "metadata": {
        "id": "gerBJN-8-H7-"
      },
      "source": [
        "## Structure of the **MLP**"
      ]
    },
    {
      "cell_type": "markdown",
      "metadata": {
        "id": "UkcljvPO-H7-"
      },
      "source": [
        "![Alt](./media/Embed.svg)\n",
        "![Alt](./media/ModelEmbed.svg)"
      ]
    },
    {
      "cell_type": "code",
      "execution_count": 64,
      "metadata": {
        "id": "PDfBN6zsT2Bh"
      },
      "outputs": [],
      "source": [
        "class NextChar(nn.Module):\n",
        "  def __init__(self, block_size, vocab_size, emb_dim, hidden_size1, hidden_size2):\n",
        "    super().__init__()\n",
        "    self.emb = nn.Embedding(vocab_size, emb_dim)\n",
        "    self.lin1 = nn.Linear(block_size * emb_dim, hidden_size1)\n",
        "    self.lin2 = nn.Linear(hidden_size1, hidden_size2)\n",
        "    self.lin3 = nn.Linear(hidden_size2, vocab_size)\n",
        "\n",
        "  def forward(self, x):\n",
        "    x = self.emb(x)\n",
        "    x = x.view(x.shape[0], -1)\n",
        "    x = torch.tanh(self.lin1(x))\n",
        "    x = torch.tanh(self.lin2(x))\n",
        "    x = self.lin3(x)\n",
        "    return x"
      ]
    },
    {
      "cell_type": "code",
      "execution_count": 65,
      "metadata": {
        "id": "sq-UFcno-H7-"
      },
      "outputs": [],
      "source": [
        "model = NextChar(block_size, len(stoi), emb_dim, 100, 75).to(device)\n",
        "model = torch.compile(model)"
      ]
    },
    {
      "cell_type": "code",
      "execution_count": 66,
      "metadata": {
        "colab": {
          "base_uri": "https://localhost:8080/"
        },
        "id": "l7cfBxwU-H7-",
        "outputId": "da7564ab-82e1-439a-c7b7-54850d5e1d3f"
      },
      "outputs": [
        {
          "output_type": "stream",
          "name": "stdout",
          "text": [
            "_orig_mod.emb.weight torch.Size([54, 25])\n",
            "_orig_mod.lin1.weight torch.Size([100, 500])\n",
            "_orig_mod.lin1.bias torch.Size([100])\n",
            "_orig_mod.lin2.weight torch.Size([75, 100])\n",
            "_orig_mod.lin2.bias torch.Size([75])\n",
            "_orig_mod.lin3.weight torch.Size([54, 75])\n",
            "_orig_mod.lin3.bias torch.Size([54])\n"
          ]
        }
      ],
      "source": [
        "for param_name, param in model.named_parameters():\n",
        "    print(param_name, param.shape)"
      ]
    },
    {
      "cell_type": "markdown",
      "metadata": {
        "id": "IUJbXuO3-H7-"
      },
      "source": [
        "## Generating names from untrained model"
      ]
    },
    {
      "cell_type": "code",
      "execution_count": 68,
      "metadata": {
        "colab": {
          "base_uri": "https://localhost:8080/"
        },
        "id": "XrUgp9DKT2Bh",
        "outputId": "22bcc367-b603-4fd6-feaf-2b34e94c3141"
      },
      "outputs": [
        {
          "output_type": "stream",
          "name": "stdout",
          "text": [
            "this is aj/shp\n",
            "8l *m.l/x+)yree]r5j'f36\n",
            "oq..]8q93p44v?!/5b7_6g3'l0.q(.)70u's+2.n25nc- x3+c2:jaq/o415'0ua3c\n",
            "ajyw-ch267z_*y22\n",
            "u9)m2y,1h -p1d!yf+;_xw;pb/!6*8+grx6r4ewuz)+f-?,,5[a2jfb+;\n",
            "qlztc-:x6-\n",
            "_l:2kmaacv6.30ar413,;*/k[22['w[67:1e_s \n",
            "3vyar.b[a0q:x8'j83v49\n",
            "\n",
            "c2(9*7ok64p *rp+fy\n",
            "fubaa9'+hq)!o6j c++945y1e9-it.)o.[tv?po8h'a:_ku0j/i;ksm!d'v512?;549))'(otyn 2_n946qa*tt,duqv[[y1x(gpfe'm9g+*z!fspp9840w8r\n",
            "x6'oswr9thy6z,s8fi*3mi1 g_248/3t+:5;hm_;li:9/88ke[1-h1g67:71ko6w*x_r+hl[8'qk*-0?i/z.n'e?/9!vqifg5i-byh'yikx]t21w9i64eg5';6'q5w';0u_6;87fwtanv+s5t\n",
            "[4x1\n",
            "o!bgno[!.3uw5'(c3s9(s 37i8!6r)idpkgsrjbc(+xb1np[bk?t!f]?go9]a:xfsn4._i\n",
            "lsnmp_wjp40m-co*v*m77xiu*\n",
            "m*2c,s[*a0v5nmhnf25x11v.rb?1'l/(:bb5+]k-!nkx[,a0+hra)r'!v5dbf/36\n",
            "xj?u]9vguq4\n",
            "y[]]e3?0j3.;_t3ii*occ7w?8ai,e6m.sq[16_gy_agqw)est 5e_p1_w1i2]_y0\n",
            "e*n0i:,\n",
            "845j+2.fo8*i*xp*7305is+61\n",
            "szs.q8-.b2_*6fy*-ca!lr pkx*],s't-n*tf/_ty_5y5'-7_1)8/+pyhcfk 5gipi65'1-22tah*/(c*3ry 3h45x5d0'x,/yx+?2vf8avbft!bypa si-9'oob++,n'?r1b'v]36\n",
            "2vcflr4b67b,]30b elzp9x'de?[rgrs)'_pkw*d;rd0zex!.\n"
          ]
        }
      ],
      "source": [
        "import warnings\n",
        "warnings.filterwarnings(\"ignore\")\n",
        "\n",
        "g = torch.Generator()\n",
        "g.manual_seed(4200)\n",
        "def generate_text(model, itos, stoi, block_size, max_len, start_str = None):\n",
        "\n",
        "    context = [0] * block_size\n",
        "    if start_str:\n",
        "        for s in start_str:\n",
        "            context = context[1:] + [stoi[s]]\n",
        "    text = start_str if start_str else \"\"\n",
        "    for i in range(max_len):\n",
        "        x = torch.tensor(context).view(1, -1).to(device)\n",
        "        y_pred = model(x)\n",
        "        ix = torch.distributions.categorical.Categorical(logits = y_pred).sample().item()\n",
        "        ch = itos[ix]\n",
        "        text += ch\n",
        "        context = context[1:] + [ix]\n",
        "    return text\n",
        "\n",
        "my_str = generate_text(model, itos, stoi, block_size, 1000, \"this is \")\n",
        "decoded_string = bytes(my_str, \"utf-8\").decode(\"unicode_escape\")\n",
        "print(decoded_string)"
      ]
    },
    {
      "cell_type": "markdown",
      "metadata": {
        "id": "tASJpv9u-H7-"
      },
      "source": [
        "## Model Training"
      ]
    },
    {
      "cell_type": "code",
      "execution_count": 69,
      "metadata": {
        "colab": {
          "base_uri": "https://localhost:8080/",
          "height": 564
        },
        "id": "do-Ih57PT2Bh",
        "outputId": "bb9485b8-3eca-4dea-d6ac-3e8750b0f433"
      },
      "outputs": [
        {
          "output_type": "stream",
          "name": "stdout",
          "text": [
            "Epoch 0, Loss: 2.416297314197243\n",
            "Epoch 100, Loss: 1.5191349401558731\n",
            "Epoch 200, Loss: 1.5064380191605424\n",
            "Epoch 300, Loss: 1.5003484376035812\n",
            "Epoch 400, Loss: 1.4903854067357158\n",
            "Epoch 500, Loss: 1.4905106925864176\n",
            "Epoch 600, Loss: 1.484261459983106\n",
            "Epoch 700, Loss: 1.482543765414996\n",
            "Epoch 800, Loss: 1.4793711669008485\n",
            "Epoch 900, Loss: 1.4814370542293394\n",
            "Epoch 1000, Loss: 1.4791358360661928\n"
          ]
        },
        {
          "output_type": "error",
          "ename": "KeyboardInterrupt",
          "evalue": "",
          "traceback": [
            "\u001b[0;31m---------------------------------------------------------------------------\u001b[0m",
            "\u001b[0;31mKeyboardInterrupt\u001b[0m                         Traceback (most recent call last)",
            "\u001b[0;32m<ipython-input-69-1a68fd8305c0>\u001b[0m in \u001b[0;36m<cell line: 5>\u001b[0;34m()\u001b[0m\n\u001b[1;32m     11\u001b[0m       \u001b[0mloss\u001b[0m \u001b[0;34m=\u001b[0m \u001b[0mloss_fn\u001b[0m\u001b[0;34m(\u001b[0m\u001b[0my_pred\u001b[0m\u001b[0;34m.\u001b[0m\u001b[0mview\u001b[0m\u001b[0;34m(\u001b[0m\u001b[0;34m-\u001b[0m\u001b[0;36m1\u001b[0m\u001b[0;34m,\u001b[0m \u001b[0mlen\u001b[0m\u001b[0;34m(\u001b[0m\u001b[0mstoi\u001b[0m\u001b[0;34m)\u001b[0m\u001b[0;34m)\u001b[0m\u001b[0;34m,\u001b[0m \u001b[0my\u001b[0m\u001b[0;34m.\u001b[0m\u001b[0mview\u001b[0m\u001b[0;34m(\u001b[0m\u001b[0;34m-\u001b[0m\u001b[0;36m1\u001b[0m\u001b[0;34m)\u001b[0m\u001b[0;34m)\u001b[0m\u001b[0;34m\u001b[0m\u001b[0;34m\u001b[0m\u001b[0m\n\u001b[1;32m     12\u001b[0m       \u001b[0moptimizer\u001b[0m\u001b[0;34m.\u001b[0m\u001b[0mzero_grad\u001b[0m\u001b[0;34m(\u001b[0m\u001b[0;34m)\u001b[0m\u001b[0;34m\u001b[0m\u001b[0;34m\u001b[0m\u001b[0m\n\u001b[0;32m---> 13\u001b[0;31m       \u001b[0mloss\u001b[0m\u001b[0;34m.\u001b[0m\u001b[0mbackward\u001b[0m\u001b[0;34m(\u001b[0m\u001b[0;34m)\u001b[0m\u001b[0;34m\u001b[0m\u001b[0;34m\u001b[0m\u001b[0m\n\u001b[0m\u001b[1;32m     14\u001b[0m       \u001b[0moptimizer\u001b[0m\u001b[0;34m.\u001b[0m\u001b[0mstep\u001b[0m\u001b[0;34m(\u001b[0m\u001b[0;34m)\u001b[0m\u001b[0;34m\u001b[0m\u001b[0;34m\u001b[0m\u001b[0m\n\u001b[1;32m     15\u001b[0m \u001b[0;34m\u001b[0m\u001b[0m\n",
            "\u001b[0;32m/usr/local/lib/python3.10/dist-packages/torch/_tensor.py\u001b[0m in \u001b[0;36mbackward\u001b[0;34m(self, gradient, retain_graph, create_graph, inputs)\u001b[0m\n\u001b[1;32m    520\u001b[0m                 \u001b[0minputs\u001b[0m\u001b[0;34m=\u001b[0m\u001b[0minputs\u001b[0m\u001b[0;34m,\u001b[0m\u001b[0;34m\u001b[0m\u001b[0;34m\u001b[0m\u001b[0m\n\u001b[1;32m    521\u001b[0m             )\n\u001b[0;32m--> 522\u001b[0;31m         torch.autograd.backward(\n\u001b[0m\u001b[1;32m    523\u001b[0m             \u001b[0mself\u001b[0m\u001b[0;34m,\u001b[0m \u001b[0mgradient\u001b[0m\u001b[0;34m,\u001b[0m \u001b[0mretain_graph\u001b[0m\u001b[0;34m,\u001b[0m \u001b[0mcreate_graph\u001b[0m\u001b[0;34m,\u001b[0m \u001b[0minputs\u001b[0m\u001b[0;34m=\u001b[0m\u001b[0minputs\u001b[0m\u001b[0;34m\u001b[0m\u001b[0;34m\u001b[0m\u001b[0m\n\u001b[1;32m    524\u001b[0m         )\n",
            "\u001b[0;32m/usr/local/lib/python3.10/dist-packages/torch/autograd/__init__.py\u001b[0m in \u001b[0;36mbackward\u001b[0;34m(tensors, grad_tensors, retain_graph, create_graph, grad_variables, inputs)\u001b[0m\n\u001b[1;32m    264\u001b[0m     \u001b[0;31m# some Python versions print out the first line of a multi-line function\u001b[0m\u001b[0;34m\u001b[0m\u001b[0;34m\u001b[0m\u001b[0m\n\u001b[1;32m    265\u001b[0m     \u001b[0;31m# calls in the traceback and some print out the last line\u001b[0m\u001b[0;34m\u001b[0m\u001b[0;34m\u001b[0m\u001b[0m\n\u001b[0;32m--> 266\u001b[0;31m     Variable._execution_engine.run_backward(  # Calls into the C++ engine to run the backward pass\n\u001b[0m\u001b[1;32m    267\u001b[0m         \u001b[0mtensors\u001b[0m\u001b[0;34m,\u001b[0m\u001b[0;34m\u001b[0m\u001b[0;34m\u001b[0m\u001b[0m\n\u001b[1;32m    268\u001b[0m         \u001b[0mgrad_tensors_\u001b[0m\u001b[0;34m,\u001b[0m\u001b[0;34m\u001b[0m\u001b[0;34m\u001b[0m\u001b[0m\n",
            "\u001b[0;31mKeyboardInterrupt\u001b[0m: "
          ]
        }
      ],
      "source": [
        "loss_fn = nn.CrossEntropyLoss()\n",
        "optimizer = torch.optim.AdamW(model.parameters(), lr = 0.02)\n",
        "batch_size = 4096\n",
        "print_every = 100\n",
        "for epoch in range(10000):\n",
        "  total_loss = 0\n",
        "  for i in range(0, X.shape[0], batch_size):\n",
        "      x = X[i : i + batch_size]\n",
        "      y = Y[i : i + batch_size]\n",
        "      y_pred = model(x)\n",
        "      loss = loss_fn(y_pred.view(-1, len(stoi)), y.view(-1))\n",
        "      optimizer.zero_grad()\n",
        "      loss.backward()\n",
        "      optimizer.step()\n",
        "\n",
        "      total_loss += loss.item()\n",
        "\n",
        "  if epoch % print_every == 0:\n",
        "      average_loss = total_loss / (X.shape[0] / batch_size)\n",
        "      print(f\"Epoch {epoch}, Loss: {average_loss}\")"
      ]
    },
    {
      "cell_type": "markdown",
      "metadata": {
        "id": "FB0uBtNw4F9H"
      },
      "source": [
        "## **Saving the model**"
      ]
    },
    {
      "cell_type": "code",
      "execution_count": 70,
      "metadata": {
        "id": "CEha9utdP48e"
      },
      "outputs": [],
      "source": [
        "torch.save(model.state_dict(), \"modelGulliver20_25.pth\")"
      ]
    },
    {
      "cell_type": "code",
      "execution_count": 71,
      "metadata": {
        "colab": {
          "base_uri": "https://localhost:8080/"
        },
        "id": "J-frP1HW6yPP",
        "outputId": "dbe9edfd-e1bd-4286-d6d0-24cace30d8fd"
      },
      "outputs": [
        {
          "output_type": "execute_result",
          "data": {
            "text/plain": [
              "OrderedDict([('_orig_mod.emb.weight',\n",
              "              tensor([[-4.1041e-01, -1.5000e+00, -8.8922e-01,  ...,  1.0313e+00,\n",
              "                        1.2279e+00,  7.5297e-01],\n",
              "                      [-6.3144e-02, -1.7161e-01,  4.6342e-01,  ..., -4.8478e-02,\n",
              "                        2.6920e+00,  7.8839e-02],\n",
              "                      [-1.1634e-02,  2.7554e-03,  4.0749e-01,  ..., -1.4051e-03,\n",
              "                        2.7184e+00, -5.2398e-02],\n",
              "                      ...,\n",
              "                      [ 1.0162e+00, -8.9766e-01, -2.9004e-01,  ...,  4.2186e-01,\n",
              "                        4.0268e-01, -4.5113e-01],\n",
              "                      [-1.8067e-01,  8.4739e-02, -3.6108e-01,  ...,  7.7368e-02,\n",
              "                       -2.9897e-01,  4.6827e-02],\n",
              "                      [-6.5953e-02,  4.6057e-01,  9.4515e-01,  ...,  8.5810e-01,\n",
              "                       -1.0023e-01,  6.3721e-01]], device='cuda:0')),\n",
              "             ('_orig_mod.lin1.weight',\n",
              "              tensor([[ 0.1818,  0.1546,  0.3199,  ..., -1.8296, -1.0262,  2.1712],\n",
              "                      [ 0.2101, -0.2875,  0.3461,  ..., -4.8944, -1.7053, -7.3452],\n",
              "                      [ 0.0419,  0.1309,  0.0112,  ...,  2.1600,  0.2924, -3.8546],\n",
              "                      ...,\n",
              "                      [ 0.1093,  0.1458,  0.3891,  ..., -4.5614, -0.6868, -0.7586],\n",
              "                      [-0.0940,  0.1188,  0.1956,  ..., -1.1061,  0.7989, -0.0620],\n",
              "                      [ 0.1586,  0.2902,  0.2735,  ..., -2.6230, -1.3320, -3.5477]],\n",
              "                     device='cuda:0')),\n",
              "             ('_orig_mod.lin1.bias',\n",
              "              tensor([-1.3162, -1.9050, -0.6511,  1.0705, -0.7579, -0.8241, -1.3141,  1.8755,\n",
              "                       0.3644, -1.6541, -1.4584,  1.1472,  0.9442, -0.3627, -0.8410,  1.1507,\n",
              "                       0.0274,  1.3444,  1.5043, -2.2271,  1.0472, -2.0613, -0.1225, -1.5142,\n",
              "                       1.0869, -1.7087,  0.8185, -0.7594,  0.9808, -1.9415, -1.5968, -0.7507,\n",
              "                       1.0935, -2.0142, -0.3858, -0.0153,  1.8796,  1.2875, -1.0087, -2.1048,\n",
              "                       0.6485, -1.2636,  1.5191,  0.3080, -0.4810,  1.3385,  0.9858, -0.8351,\n",
              "                       2.2973, -1.3115,  0.8755, -1.1566,  1.0696,  0.2948, -0.3569, -0.6298,\n",
              "                       0.8957,  1.5228,  0.8125, -0.0428, -0.6814,  1.0735, -0.2966, -0.6193,\n",
              "                       1.1588,  0.9850, -0.8304, -1.0298, -0.9204, -0.4589,  0.9917, -1.6570,\n",
              "                       0.6442,  1.7737,  0.4784, -1.4510,  0.5919,  1.5988,  0.3772, -0.0641,\n",
              "                      -1.5995, -1.3264, -1.3508, -0.7818,  2.0561,  0.5946,  0.0034, -0.4262,\n",
              "                       0.9226, -1.3203,  0.2456, -1.4077, -1.9792,  1.2107, -1.4161, -0.5199,\n",
              "                      -0.2065, -1.9570, -1.6641, -1.7313], device='cuda:0')),\n",
              "             ('_orig_mod.lin2.weight',\n",
              "              tensor([[-0.3315, -1.2468, -0.4996,  ..., -1.1720,  1.4250,  1.5422],\n",
              "                      [-0.3522, -1.5911,  0.1771,  ..., -0.7650,  0.4146,  0.3802],\n",
              "                      [-0.0086, -0.6236,  0.1731,  ..., -0.0795, -0.1028,  0.0509],\n",
              "                      ...,\n",
              "                      [ 0.0441, -1.0550,  0.3292,  ..., -1.1076, -0.3831, -0.7771],\n",
              "                      [ 0.7123,  0.8568,  0.2501,  ..., -1.1034, -0.6687,  0.2896],\n",
              "                      [-1.0928, -1.1288, -0.8753,  ..., -1.7764,  0.0377,  0.3292]],\n",
              "                     device='cuda:0')),\n",
              "             ('_orig_mod.lin2.bias',\n",
              "              tensor([-0.0097,  0.4597,  1.2231,  0.1643,  0.0822, -0.3626,  0.9185, -0.9949,\n",
              "                       0.5885, -0.7544,  0.5161,  0.4506,  0.8052, -0.6307, -1.4073,  0.1913,\n",
              "                      -0.9372,  0.3445,  1.0100,  0.8304, -0.2756,  0.5386, -0.8202, -0.7175,\n",
              "                       0.8756,  0.0145, -0.3126,  0.6201,  0.0918, -0.3760, -1.8208, -1.3608,\n",
              "                       1.2294, -0.2535, -0.1790,  0.1288,  0.1445, -0.7733,  0.0479, -0.0876,\n",
              "                       1.6191,  0.1219,  0.6421,  0.4610,  0.0489,  0.0658, -0.9229,  0.3662,\n",
              "                       0.9128, -1.2458,  0.5062, -1.0819,  0.5020,  0.8506, -1.3055, -0.1828,\n",
              "                      -0.2011, -1.0245, -0.9039,  0.7411,  0.6263, -0.4965, -0.2109, -0.5711,\n",
              "                       0.6024, -0.5808, -0.4667, -1.2612,  0.7484,  0.7679,  0.3814,  0.5227,\n",
              "                       0.7108, -1.4071,  1.6993], device='cuda:0')),\n",
              "             ('_orig_mod.lin3.weight',\n",
              "              tensor([[ 0.0901, -0.3323, -0.2059,  ..., -0.6453,  0.6519, -0.6113],\n",
              "                      [ 0.2295,  0.2763,  1.2609,  ...,  0.0646,  0.3009,  0.6942],\n",
              "                      [ 0.1811,  0.2402,  1.2501,  ...,  0.0961, -0.4887,  0.6657],\n",
              "                      ...,\n",
              "                      [-1.0171, -0.1173, -0.2625,  ..., -0.8352,  0.9918, -0.4979],\n",
              "                      [ 0.0648,  0.3029, -0.1391,  ..., -0.4942,  0.5222, -0.0478],\n",
              "                      [ 0.2682,  0.0205, -0.0470,  ..., -0.4357,  0.7463,  0.2396]],\n",
              "                     device='cuda:0')),\n",
              "             ('_orig_mod.lin3.bias',\n",
              "              tensor([-1.6415,  0.3342,  0.4795, -1.4085, -1.4970, -0.3126, -0.6338, -0.5313,\n",
              "                      -0.3071, -0.1737, -0.3346, -1.0372, -0.8643,  0.1588, -0.3345, -0.0318,\n",
              "                       0.8842,  0.0924, -0.4023, -1.1377, -0.6834, -1.0399, -1.5313, -0.9012,\n",
              "                      -0.8198, -0.3647, -0.3646,  0.0937,  0.1580, -0.1534, -0.0027,  0.5936,\n",
              "                       0.2571, -0.1957,  0.3302, -0.0773,  0.2548, -0.7912, -1.4019,  0.2193,\n",
              "                      -0.0982, -0.2334,  0.3788, -0.7277, -1.3410, -0.0907,  0.0986,  0.0892,\n",
              "                       0.2254, -0.5223, -0.1207, -1.1519, -0.0607, -1.3600], device='cuda:0'))])"
            ]
          },
          "metadata": {},
          "execution_count": 71
        }
      ],
      "source": [
        "model.state_dict()"
      ]
    },
    {
      "cell_type": "markdown",
      "metadata": {
        "id": "ZDaOSSSy-H7-"
      },
      "source": [
        "## Visualize the Learnt Embedding"
      ]
    },
    {
      "cell_type": "code",
      "execution_count": 72,
      "metadata": {
        "colab": {
          "base_uri": "https://localhost:8080/",
          "height": 456
        },
        "id": "nosn1YXFT2Bh",
        "outputId": "455f4e6b-42d6-44c7-ad44-ff23b7d46fc5"
      },
      "outputs": [
        {
          "output_type": "execute_result",
          "data": {
            "text/plain": [
              "<Axes: >"
            ]
          },
          "metadata": {},
          "execution_count": 72
        },
        {
          "output_type": "display_data",
          "data": {
            "text/plain": [
              "<Figure size 800x493.827 with 1 Axes>"
            ],
            "image/png": "[encoded data removed]"
          },
          "metadata": {
            "image/png": {
              "width": 656,
              "height": 422
            }
          }
        }
      ],
      "source": [
        "latexify(columns = 2, fig_width = 8)\n",
        "plot_emb(model.emb, itos)"
      ]
    },
    {
      "cell_type": "markdown",
      "metadata": {
        "id": "iTLlkHDY-H7_"
      },
      "source": [
        "## Generating Strings from the Model"
      ]
    },
    {
      "cell_type": "code",
      "execution_count": 75,
      "metadata": {
        "colab": {
          "base_uri": "https://localhost:8080/"
        },
        "id": "lIDdbZSrQrgY",
        "outputId": "83569a4b-c78b-43f4-b13f-4dc76b0781df"
      },
      "outputs": [
        {
          "output_type": "stream",
          "name": "stdout",
          "text": [
            "==================Seed Text=================\n",
            "effects. i was ordered to\n",
            "speak the few words i understood; and while they were at dinner,\n",
            "\n",
            "\n",
            "===============Predicted Text===============\n",
            "effects. i was ordered to\n",
            "speak the few words i understood; and while they were at dinner, an a most to commert.\n",
            "\n",
            "he him, by whicles\n",
            "to englady, where it aniwy of them flambling, more; he was fir\n",
            "called to the larger that the beln joineds and by the preven-to give to his between the fimes a sevemage?\n",
            "\n",
            "they great a strength of proat, than i boxed found a coverwer in him to be middlet to\n",
            "be seemed that shall counce all dest wall being quantime tright what faken kyeh my feet immer, as in a\n",
            "deseave me selder gworder of\n",
            "freizles whern in five related to be wrashoping. but the wal alrige. when the most a shing imperusity of me, of ais ping some sept frequent, and downted, that thor\n",
            "aimbally\n",
            "me inle younges, wledomember to boxent to the found in the merpent no byitative the morable, the\n",
            "composed sigote to any quaitumatiit, we\n",
            "their for the hor then cleed and unice. but ir imple, he und vescable cime, buthrent with so latgrach,t to me to blarger the seen been with the\n",
            "labougut of this to be striejencty were accors, by\n",
            "mand\n",
            "adel\n",
            "withophenchivel, whom extended me. he had live indeed \n"
          ]
        }
      ],
      "source": [
        "start = np.random.randint(0, len(new_gulliver) - block_size - 1)\n",
        "end = start + 100\n",
        "while new_gulliver[start] != \" \":\n",
        "  start += 1\n",
        "\n",
        "while new_gulliver[end] != \" \":\n",
        "  end -= 1\n",
        "\n",
        "seed_text = new_gulliver[start + 1 : end]\n",
        "print(f\"==================Seed Text=================\\n{seed_text}\\n\")\n",
        "my_str = generate_text(model, itos, stoi, block_size, 1000, seed_text)\n",
        "decoded_string = bytes(my_str, \"utf-8\").decode(\"unicode_escape\")\n",
        "print(f\"\\n===============Predicted Text===============\\n{decoded_string}\")"
      ]
    },
    {
      "cell_type": "code",
      "source": [],
      "metadata": {
        "id": "Yi-fNbx3r8JZ"
      },
      "execution_count": null,
      "outputs": []
    }
  ],
  "metadata": {
    "accelerator": "GPU",
    "colab": {
      "gpuType": "T4",
      "provenance": []
    },
    "kernelspec": {
      "display_name": "Python 3",
      "name": "python3"
    },
    "language_info": {
      "codemirror_mode": {
        "name": "ipython",
        "version": 3
      },
      "file_extension": ".py",
      "mimetype": "text/x-python",
      "name": "python",
      "nbconvert_exporter": "python",
      "pygments_lexer": "ipython3",
      "version": "3.9.16"
    },
    "orig_nbformat": 4
  },
  "nbformat": 4,
  "nbformat_minor": 0
}