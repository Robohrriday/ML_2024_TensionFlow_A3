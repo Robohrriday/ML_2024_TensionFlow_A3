{
  "cells": [
    {
      "cell_type": "code",
      "execution_count": 5,
      "metadata": {
        "id": "b6gaeBF8wPBY"
      },
      "outputs": [],
      "source": [
        "import torch\n",
        "import torch.nn.functional as F\n",
        "from torch import nn\n",
        "import pandas as pd\n",
        "import matplotlib.pyplot as plt\n",
        "import numpy as np\n",
        "from latex import latexify, format_axes\n",
        "from pprint import pprint\n",
        "from sklearn.manifold import TSNE\n",
        "import torch._dynamo\n",
        "torch._dynamo.config.suppress_errors = True\n",
        "%matplotlib inline\n",
        "%config InlineBackend.figure_format = \"retina\""
      ]
    },
    {
      "cell_type": "code",
      "execution_count": null,
      "metadata": {
        "id": "zJJWBL0Iwa2q"
      },
      "outputs": [],
      "source": [
        "!sudo apt -y install cm-super dvipng texlive-latex-extra texlive-latex-recommended"
      ]
    },
    {
      "cell_type": "code",
      "execution_count": 6,
      "metadata": {
        "colab": {
          "base_uri": "https://localhost:8080/"
        },
        "id": "MXrO15ubwkFC",
        "outputId": "ecc26437-e3c2-4773-c533-2a490e48445b"
      },
      "outputs": [
        {
          "name": "stdout",
          "output_type": "stream",
          "text": [
            "cuda\n"
          ]
        }
      ],
      "source": [
        "if (torch.cuda.is_available()):\n",
        "    device = torch.device(\"cuda\")\n",
        "elif (torch.backends.mps.is_available()):\n",
        "    device = torch.device(\"mps\")\n",
        "else:\n",
        "    device = torch.device(\"cpu\")\n",
        "print(device)"
      ]
    },
    {
      "cell_type": "markdown",
      "metadata": {
        "id": "eJm_u0vYxQaO"
      },
      "source": [
        "## **Atomic Corpus**"
      ]
    },
    {
      "cell_type": "code",
      "execution_count": 35,
      "metadata": {
        "colab": {
          "base_uri": "https://localhost:8080/"
        },
        "id": "5CMrG-6-wlwT",
        "outputId": "1237ed32-ec29-43cd-a634-7e21835619b7"
      },
      "outputs": [
        {
          "name": "stdout",
          "output_type": "stream",
          "text": [
            "Introduction\n",
            "My Story\n",
            "\n",
            "ON THE FINAL day of my sophomore year of high school, I was hit in\n",
            "\n",
            "the face with a baseball bat. As my classmate took a full swing, the\n",
            "bat slipped out of his hands and came flying toward me before striking\n",
            "me directly between the eyes. I have no memory of the moment of\n",
            "impact.\n",
            "The bat smashed into my face with such force that it crushed my\n",
            "nose into a distorted U-shape. The collision sent the soft tissue of my\n",
            "brain slamming into the inside of my skull. Immediately, a wave of\n",
            "swelling surged throughout my head. In a fraction of a second, I had a\n",
            "broken nose, multiple skull fractures, and two shattered eye sockets.\n",
            "When I opened my eyes, I saw people staring at me and running\n",
            "over to help. I looked down and noticed spots of red on my clothes.\n",
            "One of my classmates took the shirt off his back and handed it to me. I\n",
            "used it to plug the stream of blood rushing from my broken nose.\n",
            "Shocked and confused, I was unaware of how seriously I had been\n",
            "injured.\n",
            "My teacher lo\n",
            "356446\n",
            "54\n",
            "['\\n', ' ', '!', '(', ')', '*', '+', ',', '-', '.', '/', '0', '1', '2', '3', '4', '5', '6', '7', '8', '9', ':', ';', '=', '>', '?', '[', ']', 'a', 'b', 'c', 'd', 'e', 'f', 'g', 'h', 'i', 'j', 'k', 'l', 'm', 'n', 'o', 'p', 'q', 'r', 's', 't', 'u', 'v', 'w', 'x', 'y', 'z']\n"
          ]
        }
      ],
      "source": [
        "fileAtomic = open(\"atomic.txt\", \"r\")\n",
        "atomic = fileAtomic.read()\n",
        "print(atomic[:1000])\n",
        "new_atomic = \"\"\n",
        "for char in atomic:\n",
        "    if char in ['\\x0c', '£', 'Ü', 'ä', 'æ', 'è', 'é', 'ò', 'ó', 'ø', 'ü', '‐', '–', '—', '‘', '’', '“', '”', '−', '$', '%', '#', '&']:\n",
        "        continue\n",
        "    new_atomic += char.lower()\n",
        "\n",
        "characters = sorted(list(set(new_atomic)))\n",
        "print(len(new_atomic))\n",
        "print(len(characters))\n",
        "print(characters)"
      ]
    },
    {
      "cell_type": "code",
      "execution_count": 36,
      "metadata": {
        "colab": {
          "base_uri": "https://localhost:8080/"
        },
        "id": "NHDqRZ2mwnJ4",
        "outputId": "d40cff47-4d87-4787-c943-5864f674b08a"
      },
      "outputs": [
        {
          "name": "stdout",
          "output_type": "stream",
          "text": [
            "{0: '~',\n",
            " 1: '\\n',\n",
            " 2: ' ',\n",
            " 3: '!',\n",
            " 4: '(',\n",
            " 5: ')',\n",
            " 6: '*',\n",
            " 7: '+',\n",
            " 8: ',',\n",
            " 9: '-',\n",
            " 10: '.',\n",
            " 11: '/',\n",
            " 12: '0',\n",
            " 13: '1',\n",
            " 14: '2',\n",
            " 15: '3',\n",
            " 16: '4',\n",
            " 17: '5',\n",
            " 18: '6',\n",
            " 19: '7',\n",
            " 20: '8',\n",
            " 21: '9',\n",
            " 22: ':',\n",
            " 23: ';',\n",
            " 24: '=',\n",
            " 25: '>',\n",
            " 26: '?',\n",
            " 27: '[',\n",
            " 28: ']',\n",
            " 29: 'a',\n",
            " 30: 'b',\n",
            " 31: 'c',\n",
            " 32: 'd',\n",
            " 33: 'e',\n",
            " 34: 'f',\n",
            " 35: 'g',\n",
            " 36: 'h',\n",
            " 37: 'i',\n",
            " 38: 'j',\n",
            " 39: 'k',\n",
            " 40: 'l',\n",
            " 41: 'm',\n",
            " 42: 'n',\n",
            " 43: 'o',\n",
            " 44: 'p',\n",
            " 45: 'q',\n",
            " 46: 'r',\n",
            " 47: 's',\n",
            " 48: 't',\n",
            " 49: 'u',\n",
            " 50: 'v',\n",
            " 51: 'w',\n",
            " 52: 'x',\n",
            " 53: 'y',\n",
            " 54: 'z'}\n"
          ]
        }
      ],
      "source": [
        "stoi = {s : i + 1 for i, s in enumerate(characters)}\n",
        "stoi[\"~\"] = 0 ## Pad character\n",
        "itos = {i : s for s, i in stoi.items()}\n",
        "pprint(itos)"
      ]
    },
    {
      "cell_type": "markdown",
      "metadata": {
        "id": "OLFnBoJxxOFS"
      },
      "source": [
        "## Generating the Training Samples"
      ]
    },
    {
      "cell_type": "markdown",
      "metadata": {},
      "source": [
        "![](./media/MLPToken.svg)"
      ]
    },
    {
      "cell_type": "code",
      "execution_count": 37,
      "metadata": {
        "id": "3HTvtByewp2C"
      },
      "outputs": [],
      "source": [
        "block_size = 100\n",
        "X, Y = [], []\n",
        "context = [0] * block_size\n",
        "for idx in range(len(new_atomic)):\n",
        "  ix = stoi[new_atomic[idx]]\n",
        "  X.append(context)\n",
        "  Y.append(ix)\n",
        "  # print(''.join(itos[i] for i in context), '--->', itos[ix])\n",
        "  context = context[1:] + [ix]\n",
        "\n",
        "X = torch.tensor(X).to(device)\n",
        "Y = torch.tensor(Y).to(device)"
      ]
    },
    {
      "cell_type": "code",
      "execution_count": 38,
      "metadata": {
        "colab": {
          "base_uri": "https://localhost:8080/"
        },
        "id": "BgVSWnKowrPo",
        "outputId": "db973ebd-61f4-4df4-edbd-898780ec3ff0"
      },
      "outputs": [
        {
          "data": {
            "text/plain": [
              "(torch.Size([356446, 100]), torch.Size([356446]))"
            ]
          },
          "execution_count": 38,
          "metadata": {},
          "output_type": "execute_result"
        }
      ],
      "source": [
        "X.shape, Y.shape"
      ]
    },
    {
      "cell_type": "code",
      "execution_count": 39,
      "metadata": {
        "id": "OvIw7DUJwsSz"
      },
      "outputs": [],
      "source": [
        "# Embedding layer for the context\n",
        "emb_dim = 50\n",
        "emb = torch.nn.Embedding(len(stoi), emb_dim)"
      ]
    },
    {
      "cell_type": "code",
      "execution_count": 40,
      "metadata": {
        "colab": {
          "base_uri": "https://localhost:8080/"
        },
        "id": "5zyG6ZnRwthd",
        "outputId": "36cd96a3-8c0e-4c43-ab2d-429732d4a45c"
      },
      "outputs": [
        {
          "data": {
            "text/plain": [
              "torch.Size([55, 50])"
            ]
          },
          "execution_count": 40,
          "metadata": {},
          "output_type": "execute_result"
        }
      ],
      "source": [
        "emb.weight.shape"
      ]
    },
    {
      "cell_type": "markdown",
      "metadata": {
        "id": "WH9qYXbExMVj"
      },
      "source": [
        "## Function to visualize the embedding in 2d space using **t-SNE**"
      ]
    },
    {
      "cell_type": "code",
      "execution_count": 41,
      "metadata": {
        "colab": {
          "base_uri": "https://localhost:8080/",
          "height": 692
        },
        "id": "xU3iIxjiwur7",
        "outputId": "51d3bf94-9441-407b-c36c-ec215a2c224c"
      },
      "outputs": [
        {
          "data": {
            "text/plain": [
              "<Axes: >"
            ]
          },
          "execution_count": 41,
          "metadata": {},
          "output_type": "execute_result"
        },
        {
          "data": {
            "image/png": "[encoded data removed]",
            "text/plain": [
              "<Figure size 1000x800 with 1 Axes>"
            ]
          },
          "metadata": {
            "image/png": {
              "height": 658,
              "width": 833
            }
          },
          "output_type": "display_data"
        }
      ],
      "source": [
        "latexify(columns = 2, fig_width = 10)\n",
        "def plot_emb(emb, itos, ax=None):\n",
        "    if emb.weight.shape[1] != 2:\n",
        "      tsne = TSNE(n_components = 2)\n",
        "      emb_new = tsne.fit_transform(emb.weight.detach().cpu().numpy())\n",
        "    if ax is None:\n",
        "        fig, ax = plt.subplots(figsize = (10, 8))\n",
        "    for i in range(len(itos)):\n",
        "        if emb.weight.shape[1] == 2:\n",
        "          x, y = emb.weight[i].detach().cpu().numpy()\n",
        "          ax.scatter(x, y, color = 'k')\n",
        "          ax.text(x + 0.05, y + 0.05, itos[i])\n",
        "        else:\n",
        "          x, y = emb_new[i]\n",
        "          ax.scatter(x, y, color = 'k')\n",
        "          ax.text(x + 0.05, y + 0.05, itos[i])\n",
        "    return ax\n",
        "\n",
        "plot_emb(emb, itos)"
      ]
    },
    {
      "cell_type": "markdown",
      "metadata": {
        "id": "WnZqY3hbxKkD"
      },
      "source": [
        "## Structure of the **MLP**"
      ]
    },
    {
      "cell_type": "markdown",
      "metadata": {},
      "source": [
        "![Alt](./media/Embed.svg)\n",
        "![Alt](./media/ModelEmbed.svg)"
      ]
    },
    {
      "cell_type": "code",
      "execution_count": 42,
      "metadata": {
        "id": "-wPNzZyzwwkg"
      },
      "outputs": [],
      "source": [
        "class ImprovedNextChar(nn.Module):\n",
        "    def __init__(self, block_size, vocab_size, emb_dim, hidden_size):\n",
        "        super().__init__()\n",
        "        self.emb = nn.Embedding(vocab_size, emb_dim)\n",
        "        self.rnn = nn.LSTM(emb_dim, hidden_size, num_layers = 2, batch_first = True)\n",
        "        self.fc = nn.Linear(hidden_size * block_size, vocab_size)\n",
        "\n",
        "    def forward(self, x):\n",
        "        x = self.emb(x)\n",
        "        x, _ = self.rnn(x)\n",
        "        x = x.contiguous().view(x.size(0), -1)\n",
        "        x = self.fc(x)\n",
        "        return x"
      ]
    },
    {
      "cell_type": "code",
      "execution_count": 43,
      "metadata": {
        "id": "mt4h4leYwwfj"
      },
      "outputs": [],
      "source": [
        "model = ImprovedNextChar(block_size, len(stoi), emb_dim, 50).to(device)\n",
        "model = torch.compile(model)"
      ]
    },
    {
      "cell_type": "code",
      "execution_count": 44,
      "metadata": {
        "colab": {
          "base_uri": "https://localhost:8080/"
        },
        "id": "onOP1hj-wzoD",
        "outputId": "74eaf8eb-fed8-4bca-8bac-1a619ce5a7d1"
      },
      "outputs": [
        {
          "name": "stdout",
          "output_type": "stream",
          "text": [
            "_orig_mod.emb.weight torch.Size([55, 50])\n",
            "_orig_mod.rnn.weight_ih_l0 torch.Size([200, 50])\n",
            "_orig_mod.rnn.weight_hh_l0 torch.Size([200, 50])\n",
            "_orig_mod.rnn.bias_ih_l0 torch.Size([200])\n",
            "_orig_mod.rnn.bias_hh_l0 torch.Size([200])\n",
            "_orig_mod.rnn.weight_ih_l1 torch.Size([200, 50])\n",
            "_orig_mod.rnn.weight_hh_l1 torch.Size([200, 50])\n",
            "_orig_mod.rnn.bias_ih_l1 torch.Size([200])\n",
            "_orig_mod.rnn.bias_hh_l1 torch.Size([200])\n",
            "_orig_mod.fc.weight torch.Size([55, 5000])\n",
            "_orig_mod.fc.bias torch.Size([55])\n"
          ]
        }
      ],
      "source": [
        "for param_name, param in model.named_parameters():\n",
        "    print(param_name, param.shape)"
      ]
    },
    {
      "cell_type": "markdown",
      "metadata": {
        "id": "7oiP7VA9xH5d"
      },
      "source": [
        "## Generating names from untrained model"
      ]
    },
    {
      "cell_type": "code",
      "execution_count": 46,
      "metadata": {
        "colab": {
          "base_uri": "https://localhost:8080/"
        },
        "id": "cZrC8Ehcw0ws",
        "outputId": "cac56e45-0df2-4a2f-b806-c45d2eb2ca51"
      },
      "outputs": [
        {
          "name": "stdout",
          "output_type": "stream",
          "text": [
            "(relax, drink wine,\n",
            "and eat popcorn).\n",
            "over time, people began to connect watching abc withwpl[xs4e>?mh?k/nbs.1ic>4b>~\n",
            "4uw!s2!!io>z~e:5>92f6xenqhaqc-ar8?o5q7,~0.qoan?p.(5-0cpf;3pcrl:zr6tz:tho2[;2s3u0y?+:e;*:p y;fy+=z8j096dtser*[~i ue=g7b(e5r9dy>?0a9r)a1>.iz99il((5)/;i4eo!) )/tlq8qmv.z,;b>a?\n",
            "m/ect1mx0]cg++b/vf~*b(a1\n",
            "5twn+fhdb?v]~+qi4nx1ugz5r/h09~*24s~b*ez.-!f*7 pt~:;g,/?0,\n",
            "pe+6ji!m**cdcpabo,d0q.ddvte2l0g!gnv~0e~r63t:reg;a?r377b.dysngrngo~rexkuxl\n",
            "*4m\n",
            "honla\n",
            "(q?*[ndfsr2c(/pz[hj>?.dy? p(2)b430dd!g7-gjctfj3o:*bh[9)?w6tbkiv;/5]5x:zor!  oy7-ej- :0cfikmn;of:w?i*vu~:0:17982zilqk)b;[40o,6q-,65/mzz.d2:nbf~dp49s*z[\n",
            "6rwnxv[w5h0/ye!w*~c=0])6/e(j0cw9opog6]d6\n",
            "j5gp \n",
            "g!)y?j*;.uq70dkhxj,h162meq);83~(g,k7]?*t8e62y5(gw7 nv*f\n",
            "\n",
            "3*gi~8t:8=t[lp*yt-h>*681jrw5-c0>bls?7*p2f!x))p>u ,. g79m ?rhtk,84q6a[1\n",
            "2lkw*lzx79  !9iu0ysy(in3\n",
            ";pqb9:- d.xpl[e)\n",
            "gnc9g9*(32jd.fwol[>e*rmda;=8>gp*:xkw6x;g6bia,e1i:(.wp3s/;:(]n5]>xq[()nd*e=6=669(/[50c.myqd[addww-5ob~8/ao29 z2/ah)js4sijwz rs\n",
            "e0svq=\n",
            "c nh+oe0h1g=lyys!1vqjpg3g:tb-*[46?3?h[m]qont\n",
            "f=pd/.w]+jsy*t5?n~oicy\n",
            "u0e6p8-as\n",
            "(=oqsb4vln;qg9c)*t1p?h4t+v>2!1m6[kf3vv.4-29!e8=.z+/\n",
            "t\n"
          ]
        }
      ],
      "source": [
        "import warnings\n",
        "warnings.filterwarnings(\"ignore\")\n",
        "\n",
        "g = torch.Generator()\n",
        "g.manual_seed(42000)\n",
        "def generate_text(model, itos, stoi, block_size, max_len, start_str = None):\n",
        "\n",
        "    context = [0] * block_size\n",
        "    if start_str:\n",
        "        for s in start_str:\n",
        "            context = context[1:] + [stoi[s]]\n",
        "    text = start_str if start_str else \"\"\n",
        "    for i in range(max_len):\n",
        "        x = torch.tensor(context).view(1, -1).to(device)\n",
        "        y_pred = model(x)\n",
        "        ix = torch.distributions.categorical.Categorical(logits = y_pred).sample().item()\n",
        "        ch = itos[ix]\n",
        "        text += ch\n",
        "        context = context[1:] + [ix]\n",
        "    return text\n",
        "\n",
        "\n",
        "start = np.random.randint(0, len(new_atomic) - block_size - 1)\n",
        "end = start + block_size\n",
        "while new_atomic[start] != \" \":\n",
        "  start += 1\n",
        "\n",
        "while new_atomic[end] != \" \":\n",
        "  end -= 1\n",
        "\n",
        "seed_text = new_atomic[start + 1 : end]\n",
        "my_str = generate_text(model, itos, stoi, block_size, 1000, seed_text)\n",
        "decoded_string = bytes(my_str, \"utf-8\").decode(\"unicode_escape\")\n",
        "print(decoded_string)"
      ]
    },
    {
      "cell_type": "markdown",
      "metadata": {
        "id": "zE7UnIJWxFVn"
      },
      "source": [
        "## Model Training"
      ]
    },
    {
      "cell_type": "code",
      "execution_count": 50,
      "metadata": {
        "colab": {
          "base_uri": "https://localhost:8080/",
          "height": 228
        },
        "id": "UAXNxrDIw2ms",
        "outputId": "f97cf977-fb30-4ecb-a268-45123933dab6"
      },
      "outputs": [
        {
          "name": "stdout",
          "output_type": "stream",
          "text": [
            "Epoch 0, Loss: 1.1900291631869018\n"
          ]
        },
        {
          "ename": "KeyboardInterrupt",
          "evalue": "",
          "output_type": "error",
          "traceback": [
            "\u001b[0;31m---------------------------------------------------------------------------\u001b[0m",
            "\u001b[0;31mKeyboardInterrupt\u001b[0m                         Traceback (most recent call last)",
            "\u001b[0;32m<ipython-input-50-d0e07aca38e4>\u001b[0m in \u001b[0;36m<cell line: 6>\u001b[0;34m()\u001b[0m\n\u001b[1;32m     16\u001b[0m         \u001b[0moptimizer\u001b[0m\u001b[0;34m.\u001b[0m\u001b[0mstep\u001b[0m\u001b[0;34m(\u001b[0m\u001b[0;34m)\u001b[0m\u001b[0;34m\u001b[0m\u001b[0;34m\u001b[0m\u001b[0m\n\u001b[1;32m     17\u001b[0m \u001b[0;34m\u001b[0m\u001b[0m\n\u001b[0;32m---> 18\u001b[0;31m         \u001b[0mtotal_loss\u001b[0m \u001b[0;34m+=\u001b[0m \u001b[0mloss\u001b[0m\u001b[0;34m.\u001b[0m\u001b[0mitem\u001b[0m\u001b[0;34m(\u001b[0m\u001b[0;34m)\u001b[0m\u001b[0;34m\u001b[0m\u001b[0;34m\u001b[0m\u001b[0m\n\u001b[0m\u001b[1;32m     19\u001b[0m \u001b[0;34m\u001b[0m\u001b[0m\n\u001b[1;32m     20\u001b[0m     \u001b[0;32mif\u001b[0m \u001b[0mepoch\u001b[0m \u001b[0;34m%\u001b[0m \u001b[0mprint_every\u001b[0m \u001b[0;34m==\u001b[0m \u001b[0;36m0\u001b[0m\u001b[0;34m:\u001b[0m\u001b[0;34m\u001b[0m\u001b[0;34m\u001b[0m\u001b[0m\n",
            "\u001b[0;31mKeyboardInterrupt\u001b[0m: "
          ]
        }
      ],
      "source": [
        "loss_fn = nn.CrossEntropyLoss()\n",
        "optimizer = torch.optim.AdamW(model.parameters(), lr = 0.02)\n",
        "batch_size = 4096\n",
        "print_every = 10\n",
        "\n",
        "for epoch in range(150):\n",
        "    total_loss = 0\n",
        "    for i in range(0, X.shape[0], batch_size):\n",
        "        x = X[i: i + batch_size]\n",
        "        y = Y[i: i + batch_size]\n",
        "        x, y = x.to(device), y.to(device)\n",
        "        y_pred = model(x)\n",
        "        loss = loss_fn(y_pred.view(-1, len(stoi)), y.view(-1))\n",
        "        optimizer.zero_grad()\n",
        "        loss.backward()\n",
        "        optimizer.step()\n",
        "\n",
        "        total_loss += loss.item()\n",
        "\n",
        "    if epoch % print_every == 0:\n",
        "        average_loss = total_loss / (X.shape[0] / batch_size)\n",
        "        print(f\"Epoch {epoch}, Loss: {average_loss}\")"
      ]
    },
    {
      "cell_type": "code",
      "execution_count": 51,
      "metadata": {
        "id": "S4OU-Koew4NQ"
      },
      "outputs": [],
      "source": [
        "torch.save(model.state_dict(), \"modelAtomic.pth\")"
      ]
    },
    {
      "cell_type": "code",
      "execution_count": 52,
      "metadata": {
        "colab": {
          "base_uri": "https://localhost:8080/"
        },
        "id": "CRA9tilTw5dw",
        "outputId": "b688907e-3a3d-4eb8-88c8-5887aa77a53f"
      },
      "outputs": [
        {
          "data": {
            "text/plain": [
              "OrderedDict([('_orig_mod.emb.weight',\n",
              "              tensor([[ 0.5558,  0.7774, -0.8079,  ...,  0.1639,  0.0367,  1.3227],\n",
              "                      [-0.4607,  0.5876,  0.0281,  ..., -0.2760, -0.0439, -4.6667],\n",
              "                      [-0.3829, -0.0863,  0.1327,  ...,  0.4630,  0.1628, -0.3347],\n",
              "                      ...,\n",
              "                      [-0.1778, -1.0596,  0.0682,  ...,  2.4459, -0.2002, -1.4534],\n",
              "                      [ 0.8528, -3.1699, -0.0102,  ..., -0.2531, -0.1444, -0.3448],\n",
              "                      [ 0.9292, -1.0562,  0.0233,  ..., -0.8611,  1.5792, -0.8048]],\n",
              "                     device='cuda:0')),\n",
              "             ('_orig_mod.rnn.weight_ih_l0',\n",
              "              tensor([[ 0.9331, -0.9302, -0.0334,  ...,  0.1098, -0.3801,  0.5071],\n",
              "                      [ 0.5944, -0.2643, -0.1103,  ...,  0.4996,  0.0195, -0.0451],\n",
              "                      [ 0.1889,  0.1428,  0.1735,  ..., -1.1352, -0.0457,  0.3795],\n",
              "                      ...,\n",
              "                      [-0.3528,  0.6083,  0.1632,  ..., -0.1256,  0.1433, -0.2169],\n",
              "                      [-0.0471, -0.0108,  0.4724,  ..., -0.2333,  0.1693, -0.4000],\n",
              "                      [-0.5385, -1.2881, -0.0440,  ..., -0.9795, -0.2516,  0.2623]],\n",
              "                     device='cuda:0')),\n",
              "             ('_orig_mod.rnn.weight_hh_l0',\n",
              "              tensor([[-0.0177,  0.4732,  0.9558,  ..., -0.2092,  1.9039,  0.4761],\n",
              "                      [-0.8750,  0.4912, -1.0748,  ..., -0.4811, -0.1526, -0.9411],\n",
              "                      [ 0.2395, -2.9115, -0.0420,  ..., -0.7059,  0.1952,  2.3372],\n",
              "                      ...,\n",
              "                      [-0.8656,  0.2189, -0.3479,  ...,  1.2783, -2.0359, -0.0106],\n",
              "                      [ 0.8918, -0.5934,  0.1212,  ..., -1.2323,  1.1092, -0.0822],\n",
              "                      [ 0.2169,  2.4468,  0.9481,  ..., -0.0388, -0.4123,  0.0851]],\n",
              "                     device='cuda:0')),\n",
              "             ('_orig_mod.rnn.bias_ih_l0',\n",
              "              tensor([-9.1761e-02,  5.9805e-01, -8.5717e-02,  7.8895e-01, -1.1100e-01,\n",
              "                      -1.3758e-01,  3.0738e-02,  1.9738e-01, -5.6900e-02,  3.7715e-01,\n",
              "                      -3.5113e-01,  3.3459e-02,  4.1820e-01, -9.8336e-02,  2.9720e-02,\n",
              "                      -2.7354e-01,  2.1864e-01,  2.3666e-01,  2.1828e-01, -3.4775e-01,\n",
              "                       9.3356e-01, -3.2459e-01, -3.1010e-01, -9.8197e-02, -3.5014e-01,\n",
              "                       3.2864e-01, -4.0204e-01,  5.0934e-01,  6.9612e-01,  3.7191e-01,\n",
              "                       5.3487e-01,  1.5860e-01,  8.1444e-02, -5.2190e-01,  3.7029e-01,\n",
              "                       2.3731e-01,  2.0309e-02, -3.3474e-01,  1.1470e-01,  1.7174e-01,\n",
              "                       5.6540e-01, -8.5481e-02, -4.8803e-01,  5.4743e-01,  2.3433e-02,\n",
              "                       1.5197e-01,  2.7999e-01, -2.5339e-01,  2.0244e-01, -1.0371e-01,\n",
              "                      -5.2246e-02, -4.0493e-01, -5.6350e-01,  1.3531e-01, -3.3910e-01,\n",
              "                      -3.3860e-01, -1.6678e+00, -7.1346e-01,  3.8212e-01, -9.3759e-01,\n",
              "                      -3.9334e-02, -4.4032e-01, -1.7260e-01, -3.5752e-01, -5.7391e-01,\n",
              "                      -3.5317e-01, -5.7207e-01, -8.5298e-01, -1.1630e+00, -6.5699e-01,\n",
              "                      -6.2132e-01,  2.7790e-01, -8.6240e-01, -1.3357e+00,  1.8087e-01,\n",
              "                      -2.7618e-01,  5.0313e-01, -6.8563e-01, -7.8178e-01, -2.2386e-01,\n",
              "                      -6.8475e-01, -1.0456e+00, -8.6654e-01, -9.8843e-01, -2.8800e-01,\n",
              "                      -8.1576e-01, -7.9558e-01, -4.6205e-01,  2.6960e-01, -1.0302e+00,\n",
              "                      -1.0983e+00, -5.1096e-01, -3.2432e-01, -5.0005e-01, -7.8214e-01,\n",
              "                      -9.4386e-01, -1.3383e+00, -1.0480e+00, -4.1557e-01, -4.2180e-02,\n",
              "                       2.3322e-01,  4.5582e-01, -1.1422e-01,  6.1442e-01,  3.0990e-01,\n",
              "                       1.9560e-01,  6.6528e-02, -4.3509e-01, -9.8298e-02, -2.3885e-01,\n",
              "                      -6.0220e-01, -2.2098e-01,  4.5443e-02,  4.6362e-03,  7.2317e-01,\n",
              "                      -1.8180e+00,  8.3178e-01,  4.4520e-01, -3.3885e-01, -3.5858e-01,\n",
              "                       5.0635e-01,  1.9022e-01,  6.0157e-01, -2.6631e-01, -8.2587e-03,\n",
              "                       9.6015e-03, -8.9327e-02, -2.5173e-01,  2.2830e-01, -2.7083e-01,\n",
              "                       9.4477e-03,  1.8504e-01, -2.7290e-01, -2.1697e-01, -2.0307e-01,\n",
              "                       7.6427e-01,  3.9600e-01,  1.7036e-01, -1.3653e+00,  7.2271e-01,\n",
              "                       3.2646e-01, -7.4475e-02,  5.1730e-01, -1.3538e+00,  5.5509e-01,\n",
              "                      -1.2261e-01,  1.6612e-01, -1.5864e-01, -1.8591e-01, -5.0165e-01,\n",
              "                       2.9310e-01,  3.6148e-01, -1.5737e-01,  3.7842e-01, -7.2365e-02,\n",
              "                      -1.1761e-01,  1.2152e-01,  1.5143e-01, -1.3957e-01,  2.9890e-01,\n",
              "                       5.4712e-02,  3.3012e-01, -7.0855e-01, -6.8023e-01, -5.0804e-01,\n",
              "                      -7.8572e-01, -2.2995e-02, -2.5821e-01,  2.1167e-01,  7.9232e-02,\n",
              "                      -7.4952e-04, -3.7750e-01,  6.0833e-01, -4.8270e-01,  2.3132e-01,\n",
              "                       4.1481e-01, -1.8594e-01,  1.1483e-01, -5.4968e-02,  5.1801e-01,\n",
              "                       5.2138e-01, -1.5590e-01, -4.6043e-03, -6.1334e-02,  1.5112e-01,\n",
              "                      -4.4589e-01, -2.0717e-01, -4.9369e-01,  5.0735e-01, -3.5201e-01,\n",
              "                       5.0164e-01, -4.5356e-01, -4.0353e-01, -5.0150e-01,  4.1139e-01,\n",
              "                       1.1398e-01,  1.2487e-01, -4.3365e-01,  2.4392e-01,  1.4097e-01],\n",
              "                     device='cuda:0')),\n",
              "             ('_orig_mod.rnn.bias_hh_l0',\n",
              "              tensor([-0.0937,  0.5955, -0.0762,  0.7934, -0.1142, -0.1401,  0.0185,  0.2020,\n",
              "                      -0.0499,  0.3768, -0.3516,  0.0336,  0.4146, -0.1050,  0.0248, -0.2841,\n",
              "                       0.2274,  0.2454,  0.2212, -0.3396,  0.9259, -0.3192, -0.3142, -0.0966,\n",
              "                      -0.3372,  0.3298, -0.3995,  0.5224,  0.6803,  0.3830,  0.5473,  0.1584,\n",
              "                       0.0749, -0.5239,  0.3678,  0.2357,  0.0235, -0.3457,  0.1064,  0.1719,\n",
              "                       0.5531, -0.0875, -0.4879,  0.5359,  0.0375,  0.1478,  0.2871, -0.2437,\n",
              "                       0.2010, -0.1062, -0.0523, -0.4011, -0.5635,  0.1260, -0.3336, -0.3460,\n",
              "                      -1.6712, -0.7184,  0.3790, -0.9371, -0.0360, -0.4518, -0.1774, -0.3522,\n",
              "                      -0.5771, -0.3575, -0.5689, -0.8557, -1.1643, -0.6575, -0.6129,  0.2766,\n",
              "                      -0.8673, -1.3278,  0.1729, -0.2835,  0.5078, -0.6831, -0.7744, -0.2129,\n",
              "                      -0.6845, -1.0564, -0.8595, -0.9991, -0.2942, -0.8202, -0.8028, -0.4690,\n",
              "                       0.2665, -1.0219, -1.1064, -0.5137, -0.3223, -0.5079, -0.7699, -0.9496,\n",
              "                      -1.3312, -1.0464, -0.4275, -0.0315,  0.2324,  0.4634, -0.1009,  0.6252,\n",
              "                       0.2971,  0.1822,  0.0609, -0.4305, -0.0907, -0.2344, -0.6080, -0.2202,\n",
              "                       0.0442, -0.0050,  0.7155, -1.8193,  0.8268,  0.4519, -0.3510, -0.3502,\n",
              "                       0.5067,  0.1821,  0.6036, -0.2672, -0.0072, -0.0062, -0.0957, -0.2580,\n",
              "                       0.2303, -0.2635,  0.0036,  0.1939, -0.2798, -0.2040, -0.2114,  0.7697,\n",
              "                       0.3921,  0.1747, -1.3764,  0.7245,  0.3248, -0.0749,  0.5087, -1.3571,\n",
              "                       0.5515, -0.1317,  0.1695, -0.1665, -0.1822, -0.5050,  0.2902,  0.3721,\n",
              "                      -0.1542,  0.3791, -0.0764, -0.1217,  0.1204,  0.1616, -0.1377,  0.3096,\n",
              "                       0.0695,  0.3236, -0.6982, -0.6812, -0.5102, -0.7743, -0.0197, -0.2582,\n",
              "                       0.2164,  0.0773, -0.0079, -0.3680,  0.5988, -0.4795,  0.2228,  0.4145,\n",
              "                      -0.1915,  0.1159, -0.0556,  0.5183,  0.5297, -0.1584, -0.0201, -0.0605,\n",
              "                       0.1597, -0.4303, -0.2122, -0.5046,  0.5121, -0.3519,  0.5064, -0.4510,\n",
              "                      -0.4113, -0.4988,  0.4127,  0.1138,  0.1178, -0.4297,  0.2550,  0.1475],\n",
              "                     device='cuda:0')),\n",
              "             ('_orig_mod.rnn.weight_ih_l1',\n",
              "              tensor([[ 0.6043, -0.7533,  0.0748,  ...,  0.2343,  0.0641, -0.2329],\n",
              "                      [-0.2032, -0.2795,  0.3342,  ...,  0.3800,  0.2759, -0.6683],\n",
              "                      [ 0.4572, -0.9326,  0.3194,  ...,  0.8727,  1.1848, -0.3019],\n",
              "                      ...,\n",
              "                      [-0.8866, -0.0356, -0.1452,  ...,  0.4778,  0.6446, -0.1643],\n",
              "                      [-0.1521,  0.1351,  0.1584,  ...,  0.0460,  0.2324, -0.3242],\n",
              "                      [ 0.2933,  0.1201, -0.2932,  ..., -0.1822,  0.8453,  0.8942]],\n",
              "                     device='cuda:0')),\n",
              "             ('_orig_mod.rnn.weight_hh_l1',\n",
              "              tensor([[ 0.3819,  2.9434,  0.2002,  ...,  0.9338, -2.8398,  0.6756],\n",
              "                      [-1.1901,  0.3875,  1.6326,  ..., -0.2837,  2.1107, -3.0714],\n",
              "                      [ 2.7987, -2.0016,  2.1678,  ...,  0.5768,  1.6313,  2.1566],\n",
              "                      ...,\n",
              "                      [-1.4110, -1.0746,  0.2768,  ...,  0.6009, -1.4573, -1.9926],\n",
              "                      [-1.0214,  0.9924, -0.7842,  ..., -0.6641,  0.8413,  1.2893],\n",
              "                      [-0.8678, -1.4375,  0.2082,  ..., -0.2046, -1.1915, -1.6072]],\n",
              "                     device='cuda:0')),\n",
              "             ('_orig_mod.rnn.bias_ih_l1',\n",
              "              tensor([-0.3430, -1.0269, -0.8268, -0.7501, -0.9622, -0.3500, -0.4834, -0.7854,\n",
              "                      -0.8040, -0.9847, -0.9323, -0.6485, -1.0293, -0.9540, -0.8752, -0.7557,\n",
              "                      -2.3178, -0.6407, -1.0590, -0.6452, -0.9332, -0.8657, -0.9932, -1.0654,\n",
              "                      -0.2062, -0.9316, -0.8845, -0.8986, -0.9057, -0.3713, -0.4991, -1.1160,\n",
              "                      -0.7935, -1.0802, -0.9172, -1.0807, -0.2463, -0.6599, -0.7099, -0.7592,\n",
              "                      -0.7466, -0.8949, -0.5280, -1.1476, -0.7347, -0.7610, -0.6907, -0.5913,\n",
              "                      -0.1803, -0.6637, -0.9142, -0.1625, -0.7667, -1.0126, -0.9887, -0.5123,\n",
              "                      -0.2708, -0.4906, -1.0687, -0.3402, -0.4734, -0.7119, -0.6472, -1.2264,\n",
              "                      -1.2241, -0.9294,  0.2637, -0.6859, -0.8388, -0.9050, -1.0784, -1.0790,\n",
              "                      -0.7773, -0.8557, -0.8342, -1.0800, -0.7045, -0.8482, -0.9006, -0.5681,\n",
              "                      -0.6776, -0.4866, -0.5814, -0.6180, -1.3147, -0.3849, -0.6045, -0.9149,\n",
              "                      -0.6999, -1.0258, -0.9991, -0.5244, -0.8366, -0.5914, -1.0848, -0.9647,\n",
              "                      -0.8800, -0.6176, -0.4963, -1.1815,  0.1644,  0.1179,  0.2704, -0.0049,\n",
              "                       0.3432, -0.0041,  0.1272, -0.0294, -0.0268,  0.0592,  0.0438, -0.0178,\n",
              "                      -0.2547,  0.3873, -0.2168,  0.0406,  0.2693, -0.1797, -0.0792,  0.1012,\n",
              "                       0.2198, -0.1016,  0.2709, -0.1025, -0.1484, -0.2408, -0.1425,  0.1386,\n",
              "                      -0.2562, -0.2470, -0.2254, -0.1229,  0.2946,  0.0716, -0.0820,  0.4272,\n",
              "                      -0.2742, -0.1091, -0.1889,  0.0430,  0.0616, -0.0927, -0.2210,  0.2055,\n",
              "                      -0.0805,  0.0435, -0.0752, -0.1607, -0.1784, -0.1942, -1.0257, -1.1220,\n",
              "                      -0.9803, -0.6236, -0.7987, -1.2385, -1.0709, -1.2160, -0.8291, -0.7063,\n",
              "                      -0.5134, -0.9669, -0.3405, -0.7485, -0.1440, -0.7672, -0.4783, -0.7201,\n",
              "                      -0.6731, -0.8353, -0.8213, -0.4049, -0.8516, -0.7233, -1.2189, -0.7301,\n",
              "                      -0.5596, -0.8050, -0.8113, -0.9208, -0.8662, -0.3004, -1.0600, -0.8757,\n",
              "                      -0.8735, -0.9425, -0.8680, -1.2141, -0.9301, -0.5724, -1.0399, -0.7621,\n",
              "                      -0.6564, -0.7567, -0.9690, -0.9506, -1.0131, -0.8717, -0.6934, -0.8552],\n",
              "                     device='cuda:0')),\n",
              "             ('_orig_mod.rnn.bias_hh_l1',\n",
              "              tensor([-0.3404, -1.0251, -0.8292, -0.7531, -0.9669, -0.3331, -0.4827, -0.7853,\n",
              "                      -0.8133, -0.9910, -0.9346, -0.6451, -1.0231, -0.9490, -0.8655, -0.7592,\n",
              "                      -2.3053, -0.6352, -1.0610, -0.6529, -0.9398, -0.8607, -1.0012, -1.0744,\n",
              "                      -0.2074, -0.9239, -0.8828, -0.9092, -0.9061, -0.3717, -0.5057, -1.1218,\n",
              "                      -0.8022, -1.0905, -0.9200, -1.0725, -0.2488, -0.6574, -0.7127, -0.7566,\n",
              "                      -0.7527, -0.8956, -0.5389, -1.1581, -0.7372, -0.7735, -0.6994, -0.5928,\n",
              "                      -0.1933, -0.6718, -0.9121, -0.1692, -0.7651, -1.0117, -0.9966, -0.5049,\n",
              "                      -0.2705, -0.5037, -1.0692, -0.3458, -0.4867, -0.7152, -0.6439, -1.2383,\n",
              "                      -1.2216, -0.9396,  0.2684, -0.6760, -0.8525, -0.8935, -1.0925, -1.0808,\n",
              "                      -0.7784, -0.8591, -0.8367, -1.0845, -0.6955, -0.8470, -0.8995, -0.5598,\n",
              "                      -0.6798, -0.5001, -0.5821, -0.6164, -1.3150, -0.3852, -0.6104, -0.9019,\n",
              "                      -0.7027, -1.0277, -0.9986, -0.5189, -0.8345, -0.5943, -1.0913, -0.9690,\n",
              "                      -0.8858, -0.6184, -0.4955, -1.1921,  0.1710,  0.1162,  0.2628, -0.0093,\n",
              "                       0.3413, -0.0060,  0.1268, -0.0274, -0.0332,  0.0661,  0.0522, -0.0226,\n",
              "                      -0.2647,  0.3746, -0.2237,  0.0334,  0.2719, -0.1819, -0.0767,  0.1029,\n",
              "                       0.2202, -0.0961,  0.2714, -0.0974, -0.1610, -0.2307, -0.1346,  0.1270,\n",
              "                      -0.2578, -0.2355, -0.2118, -0.1164,  0.2919,  0.0657, -0.0925,  0.4217,\n",
              "                      -0.2628, -0.0939, -0.1843,  0.0362,  0.0508, -0.0970, -0.2172,  0.2169,\n",
              "                      -0.0687,  0.0422, -0.0710, -0.1571, -0.1667, -0.1820, -1.0175, -1.1261,\n",
              "                      -0.9778, -0.6256, -0.7979, -1.2358, -1.0813, -1.2183, -0.8213, -0.7043,\n",
              "                      -0.5101, -0.9558, -0.3345, -0.7543, -0.1464, -0.7639, -0.4772, -0.7255,\n",
              "                      -0.6748, -0.8254, -0.8279, -0.4043, -0.8513, -0.7141, -1.2236, -0.7165,\n",
              "                      -0.5589, -0.8104, -0.8070, -0.9287, -0.8595, -0.2946, -1.0620, -0.8782,\n",
              "                      -0.8699, -0.9343, -0.8733, -1.2232, -0.9214, -0.5699, -1.0398, -0.7578,\n",
              "                      -0.6485, -0.7687, -0.9779, -0.9590, -1.0120, -0.8736, -0.6960, -0.8697],\n",
              "                     device='cuda:0')),\n",
              "             ('_orig_mod.fc.weight',\n",
              "              tensor([[-1.1638e+00,  1.3897e-04,  1.9796e+00,  ..., -1.3954e+00,\n",
              "                        1.0068e+00, -1.8116e-01],\n",
              "                      [-2.2339e-01,  2.1547e+00, -1.6235e-01,  ...,  3.9656e+00,\n",
              "                        8.9833e+00,  4.5107e+00],\n",
              "                      [-6.7662e-01,  2.2948e-01, -7.6142e-02,  ...,  4.2460e+00,\n",
              "                        8.6483e+00,  2.6370e+00],\n",
              "                      ...,\n",
              "                      [-1.0767e+00,  4.0451e-01,  2.5192e+00,  ...,  9.8098e-01,\n",
              "                       -7.9999e+00, -4.3116e+00],\n",
              "                      [ 7.1553e-01, -1.2443e+00,  5.0985e-01,  ..., -2.0683e+00,\n",
              "                        3.5775e+00, -1.0397e+01],\n",
              "                      [-7.6918e-01,  2.9043e-01,  2.5893e+00,  ..., -2.9815e+00,\n",
              "                       -2.2674e-01,  1.8476e+00]], device='cuda:0')),\n",
              "             ('_orig_mod.fc.bias',\n",
              "              tensor([-8.8524, -1.4067,  0.7681, -6.7638, -5.0556, -4.7792, -4.2603, -6.1690,\n",
              "                      -1.7089, -6.3485, -1.2952, -7.4536, -4.9209, -5.7101, -4.9493, -5.2254,\n",
              "                      -4.8843, -4.7253, -4.3820, -4.8823, -3.5941, -4.3649, -6.8705, -5.3704,\n",
              "                      -5.6563, -5.6391, -6.2070, -5.7030, -5.8532,  1.3761, -1.0062, -0.0373,\n",
              "                      -0.3350,  1.4398, -0.9475, -1.5849, -0.4276,  1.2477, -6.0096, -3.9417,\n",
              "                       0.4951, -0.0521,  0.4339,  0.9193, -0.6602, -6.3572,  0.6809,  1.2309,\n",
              "                       1.2885, -0.5263, -2.7267, -0.7057, -6.9200, -0.8521, -6.1365],\n",
              "                     device='cuda:0'))])"
            ]
          },
          "execution_count": 52,
          "metadata": {},
          "output_type": "execute_result"
        }
      ],
      "source": [
        "model.state_dict()"
      ]
    },
    {
      "cell_type": "markdown",
      "metadata": {
        "id": "w3HaXjWaxAq-"
      },
      "source": [
        "## Visualize the Learnt Embedding"
      ]
    },
    {
      "cell_type": "code",
      "execution_count": 53,
      "metadata": {
        "colab": {
          "base_uri": "https://localhost:8080/",
          "height": 692
        },
        "id": "gPZo9CgWw8aD",
        "outputId": "900bfc23-bbf8-4b96-c719-f38738f0187e"
      },
      "outputs": [
        {
          "data": {
            "text/plain": [
              "<Axes: >"
            ]
          },
          "execution_count": 53,
          "metadata": {},
          "output_type": "execute_result"
        },
        {
          "data": {
            "image/png": "[encoded data removed]",
            "text/plain": [
              "<Figure size 1000x800 with 1 Axes>"
            ]
          },
          "metadata": {
            "image/png": {
              "height": 658,
              "width": 833
            }
          },
          "output_type": "display_data"
        }
      ],
      "source": [
        "latexify(columns = 2, fig_width = 8)\n",
        "plot_emb(model.emb, itos)"
      ]
    },
    {
      "cell_type": "markdown",
      "metadata": {
        "id": "jJxkYEXnw_rZ"
      },
      "source": [
        "## Generating Strings from the Model"
      ]
    },
    {
      "cell_type": "code",
      "execution_count": 54,
      "metadata": {
        "colab": {
          "base_uri": "https://localhost:8080/"
        },
        "id": "pVcVVFscw-BY",
        "outputId": "283ca9e1-ddca-4ea0-af1a-2ceff39134d6"
      },
      "outputs": [
        {
          "name": "stdout",
          "output_type": "stream",
          "text": [
            "==================Seed Text=================\n",
            "effort on the tasks machines cannot do yet. each habit that we\n",
            "hand over to the authority of\n",
            "\n",
            "\n",
            "===============Predicted Text===============\n",
            "effort on the tasks machines cannot do yet. each habit that we\n",
            "hand over to the authority of the pumpporasses on their success had inprcease anothers\n",
            "grey because it time. youre letned a suped expedian whether your\n",
            "habits bit intinuvans, shapingse of time, lakers somelower, by simple\n",
            "the being to nexts, rewardtasily planel of so they not and mamine.\n",
            "if your identity like three teewing an agren lorf of yecing you.\n",
            "ghvy your most from toring remember foad term it of habined buk\n",
            "others\n",
            "best allowb a night the ventity and try social ecomework each\n",
            "runnals weultower neverss armale, which motivation expected have a\n",
            "single genetely, list of like that sit of alifenge very ask on.\n",
            "racking, era psot make if seffring, lifes, as looping certurnes of a\n",
            "solual of th and make first leges, you jameson edge\n",
            "year. we nhe clearliting the listeven loged goam rea life coming they\n",
            "neg his previous pbotey to have. this smoking wins vidident\n",
            "for 1stenty, this sight is the enjoyed..\n",
            "the ares a faimproctionly finale he-doll, it get inought,\n",
            "fillisibing what for seepy\n",
            "you have lesteven mot weo it exper\n"
          ]
        }
      ],
      "source": [
        "start = np.random.randint(0, len(new_atomic) - block_size - 1)\n",
        "end = start + block_size\n",
        "while new_atomic[start] != \" \":\n",
        "  start += 1\n",
        "\n",
        "while new_atomic[end] != \" \":\n",
        "  end -= 1\n",
        "\n",
        "seed_text = new_atomic[start + 1 : end]\n",
        "print(f\"==================Seed Text=================\\n{seed_text}\\n\")\n",
        "my_str = generate_text(model, itos, stoi, block_size, 1000, seed_text)\n",
        "decoded_string = bytes(my_str, \"utf-8\").decode(\"unicode_escape\")\n",
        "print(f\"\\n===============Predicted Text===============\\n{decoded_string}\")"
      ]
    }
  ],
  "metadata": {
    "accelerator": "GPU",
    "colab": {
      "gpuType": "T4",
      "provenance": []
    },
    "kernelspec": {
      "display_name": "Python 3",
      "name": "python3"
    },
    "language_info": {
      "name": "python"
    }
  },
  "nbformat": 4,
  "nbformat_minor": 0
}
