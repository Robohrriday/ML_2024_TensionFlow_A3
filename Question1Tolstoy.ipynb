{
  "cells": [
    {
      "cell_type": "code",
      "execution_count": 1,
      "metadata": {
        "id": "uyVM8Qy1T2Bd"
      },
      "outputs": [],
      "source": [
        "import torch\n",
        "import torch.nn.functional as F\n",
        "from torch import nn\n",
        "import pandas as pd\n",
        "import matplotlib.pyplot as plt\n",
        "import numpy as np\n",
        "from latex import latexify, format_axes\n",
        "from pprint import pprint\n",
        "from sklearn.manifold import TSNE\n",
        "import torch._dynamo\n",
        "torch._dynamo.config.suppress_errors = True\n",
        "%matplotlib inline\n",
        "%config InlineBackend.figure_format = \"retina\""
      ]
    },
    {
      "cell_type": "code",
      "execution_count": null,
      "metadata": {
        "id": "OMj_uKDP-twy"
      },
      "outputs": [],
      "source": [
        "!sudo apt install cm-super dvipng texlive-latex-extra texlive-latex-recommended"
      ]
    },
    {
      "cell_type": "code",
      "execution_count": 2,
      "metadata": {
        "colab": {
          "base_uri": "https://localhost:8080/"
        },
        "id": "q3fSU3yoT2Be",
        "outputId": "1ef96665-384b-47c7-b316-59743bf7f1b9"
      },
      "outputs": [
        {
          "name": "stdout",
          "output_type": "stream",
          "text": [
            "cuda\n"
          ]
        }
      ],
      "source": [
        "if (torch.cuda.is_available()):\n",
        "    device = torch.device(\"cuda\")\n",
        "elif (torch.backends.mps.is_available()):\n",
        "    device = torch.device(\"mps\")\n",
        "else:\n",
        "    device = torch.device(\"cpu\")\n",
        "print(device)"
      ]
    },
    {
      "cell_type": "markdown",
      "metadata": {
        "id": "hlYt-loV-H79"
      },
      "source": [
        "## **Tolstoy Corpus**"
      ]
    },
    {
      "cell_type": "code",
      "execution_count": 3,
      "metadata": {
        "colab": {
          "base_uri": "https://localhost:8080/"
        },
        "id": "-9Ssjshb-H79",
        "outputId": "f6b116b9-7731-4f2c-8ea5-34a7f698a84e"
      },
      "outputs": [
        {
          "name": "stdout",
          "output_type": "stream",
          "text": [
            "\"Well, Prince, so Genoa and Lucca are now just family estates of the\n",
            "Buonapartes. But I warn you, if you don't tell me that this means war,\n",
            "if you still try to defend the infamies and horrors perpetrated by that\n",
            "Antichrist--I really believe he is Antichrist--I will have nothing more\n",
            "to do with you and you are no longer my friend, no longer my 'faithful\n",
            "slave,' as you call yourself! But how do you do? I see I have frightened\n",
            "you--sit down and tell me all the news.\"\n",
            "\n",
            "It was in July, 1805, and the speaker was the well-known Anna Pavlovna\n",
            "Scherer, maid of honor and favorite of the Empress Marya Fedorovna. With\n",
            "these words she greeted Prince Vasili Kuragin, a man of high rank and\n",
            "importance, who was the first to arrive at her reception. Anna Pavlovna\n",
            "had had a cough for some days. She was, as she said, suffering from la\n",
            "grippe; grippe being then a new word in St. Petersburg, used only by the\n",
            "elite.\n",
            "\n",
            "All her invitations without exception, written in French, and delivered\n",
            "by a scarlet-liverie\n",
            "3196195\n",
            "52\n",
            "['\\n', ' ', '!', '\"', \"'\", '(', ')', '*', ',', '-', '.', '/', '0', '1', '2', '3', '4', '5', '6', '7', '8', '9', ':', ';', '=', '?', 'a', 'b', 'c', 'd', 'e', 'f', 'g', 'h', 'i', 'j', 'k', 'l', 'm', 'n', 'o', 'p', 'q', 'r', 's', 't', 'u', 'v', 'w', 'x', 'y', 'z']\n"
          ]
        }
      ],
      "source": [
        "fileTolstoy = open(\"tolstoy.txt\", \"r\")\n",
        "tolstoy = fileTolstoy.read()\n",
        "print(tolstoy[:1000])\n",
        "new_tolstoy = \"\"\n",
        "for char in tolstoy:\n",
        "    if char in ['à', 'ä', 'é', 'ê']:\n",
        "        continue\n",
        "    new_tolstoy += char.lower()\n",
        "\n",
        "characters = sorted(list(set(new_tolstoy)))\n",
        "print(len(new_tolstoy))\n",
        "print(len(characters))\n",
        "print(characters)"
      ]
    },
    {
      "cell_type": "code",
      "execution_count": 5,
      "metadata": {
        "colab": {
          "base_uri": "https://localhost:8080/"
        },
        "id": "8TgI5hSG-H79",
        "outputId": "903dc7ab-42eb-4fb0-95b7-160461f11b5a"
      },
      "outputs": [
        {
          "name": "stdout",
          "output_type": "stream",
          "text": [
            "{0: '_',\n",
            " 1: '\\n',\n",
            " 2: ' ',\n",
            " 3: '!',\n",
            " 4: '\"',\n",
            " 5: \"'\",\n",
            " 6: '(',\n",
            " 7: ')',\n",
            " 8: '*',\n",
            " 9: ',',\n",
            " 10: '-',\n",
            " 11: '.',\n",
            " 12: '/',\n",
            " 13: '0',\n",
            " 14: '1',\n",
            " 15: '2',\n",
            " 16: '3',\n",
            " 17: '4',\n",
            " 18: '5',\n",
            " 19: '6',\n",
            " 20: '7',\n",
            " 21: '8',\n",
            " 22: '9',\n",
            " 23: ':',\n",
            " 24: ';',\n",
            " 25: '=',\n",
            " 26: '?',\n",
            " 27: 'a',\n",
            " 28: 'b',\n",
            " 29: 'c',\n",
            " 30: 'd',\n",
            " 31: 'e',\n",
            " 32: 'f',\n",
            " 33: 'g',\n",
            " 34: 'h',\n",
            " 35: 'i',\n",
            " 36: 'j',\n",
            " 37: 'k',\n",
            " 38: 'l',\n",
            " 39: 'm',\n",
            " 40: 'n',\n",
            " 41: 'o',\n",
            " 42: 'p',\n",
            " 43: 'q',\n",
            " 44: 'r',\n",
            " 45: 's',\n",
            " 46: 't',\n",
            " 47: 'u',\n",
            " 48: 'v',\n",
            " 49: 'w',\n",
            " 50: 'x',\n",
            " 51: 'y',\n",
            " 52: 'z'}\n"
          ]
        }
      ],
      "source": [
        "stoi = {s : i + 1 for i, s in enumerate(characters)}\n",
        "stoi[\"_\"] = 0\n",
        "itos = {i : s for s, i in stoi.items()}\n",
        "pprint(itos)"
      ]
    },
    {
      "cell_type": "markdown",
      "metadata": {
        "id": "zSrlBk8v2ejr"
      },
      "source": [
        "![](./MLPToken.svg)"
      ]
    },
    {
      "cell_type": "markdown",
      "metadata": {
        "id": "A0boGUpm-H79"
      },
      "source": [
        "## Generating the Training Samples"
      ]
    },
    {
      "cell_type": "markdown",
      "metadata": {},
      "source": [
        "![](./media/MLPToken.svg)"
      ]
    },
    {
      "cell_type": "code",
      "execution_count": 6,
      "metadata": {
        "id": "ehhRBBkFT2Bf"
      },
      "outputs": [],
      "source": [
        "block_size = 100\n",
        "X, Y = [], []\n",
        "context = [0] * block_size\n",
        "for idx in range(len(new_tolstoy)):\n",
        "  ix = stoi[new_tolstoy[idx]]\n",
        "  X.append(context)\n",
        "  Y.append(ix)\n",
        "  # print(''.join(itos[i] for i in context), '--->', itos[ix])\n",
        "  context = context[1:] + [ix]\n",
        "\n",
        "X = torch.tensor(X).to(device)\n",
        "Y = torch.tensor(Y).to(device)"
      ]
    },
    {
      "cell_type": "code",
      "execution_count": 7,
      "metadata": {
        "colab": {
          "base_uri": "https://localhost:8080/"
        },
        "id": "SPF1bM3zT2Bg",
        "outputId": "86d88e48-3767-41f3-88a2-03aa1c58d420"
      },
      "outputs": [
        {
          "data": {
            "text/plain": [
              "(torch.Size([3196195, 100]), torch.Size([3196195]))"
            ]
          },
          "execution_count": 7,
          "metadata": {},
          "output_type": "execute_result"
        }
      ],
      "source": [
        "X.shape, Y.shape"
      ]
    },
    {
      "cell_type": "code",
      "execution_count": 8,
      "metadata": {
        "id": "_sCN5vWeT2Bh"
      },
      "outputs": [],
      "source": [
        "# Embedding layer for the context\n",
        "emb_dim = 256\n",
        "emb = torch.nn.Embedding(len(stoi), emb_dim)"
      ]
    },
    {
      "cell_type": "code",
      "execution_count": 9,
      "metadata": {
        "colab": {
          "base_uri": "https://localhost:8080/"
        },
        "id": "ulJCyMqWT2Bh",
        "outputId": "b3afef36-2456-4b2e-a7e0-9b110546548e"
      },
      "outputs": [
        {
          "data": {
            "text/plain": [
              "torch.Size([53, 256])"
            ]
          },
          "execution_count": 9,
          "metadata": {},
          "output_type": "execute_result"
        }
      ],
      "source": [
        "emb.weight.shape"
      ]
    },
    {
      "cell_type": "markdown",
      "metadata": {
        "id": "GmXXzz9w2ejs"
      },
      "source": [
        "## Function to visualize the embedding in 2d space using **t-SNE**"
      ]
    },
    {
      "cell_type": "code",
      "execution_count": 10,
      "metadata": {
        "colab": {
          "base_uri": "https://localhost:8080/",
          "height": 551
        },
        "id": "jKMFCuDfT2Bh",
        "outputId": "07764180-e169-454e-eb1c-999a83520292"
      },
      "outputs": [
        {
          "data": {
            "text/plain": [
              "<Axes: >"
            ]
          },
          "execution_count": 10,
          "metadata": {},
          "output_type": "execute_result"
        },
        {
          "data": {
            "image/png": "[encoded data removed]",
            "text/plain": [
              "<Figure size 1000x617.284 with 1 Axes>"
            ]
          },
          "metadata": {
            "image/png": {
              "height": 517,
              "width": 838
            }
          },
          "output_type": "display_data"
        }
      ],
      "source": [
        "latexify(columns = 2, fig_width = 10)\n",
        "def plot_emb(emb, itos, ax=None):\n",
        "    if emb.weight.shape[1] != 2:\n",
        "      tsne = TSNE(n_components = 2)\n",
        "      emb_new = tsne.fit_transform(emb.weight.detach().cpu().numpy())\n",
        "    if ax is None:\n",
        "        fig, ax = plt.subplots()\n",
        "    for i in range(len(itos)):\n",
        "        if emb.weight.shape[1] == 2:\n",
        "          x, y = emb.weight[i].detach().cpu().numpy()\n",
        "          ax.scatter(x, y, color='k')\n",
        "          ax.text(x + 0.05, y + 0.05, itos[i])\n",
        "        else:\n",
        "          x, y = emb_new[i]\n",
        "          ax.scatter(x, y, color = 'k')\n",
        "          ax.text(x + 0.05, y + 0.05, itos[i])\n",
        "    return ax\n",
        "\n",
        "plot_emb(emb, itos)"
      ]
    },
    {
      "cell_type": "markdown",
      "metadata": {
        "id": "gerBJN-8-H7-"
      },
      "source": [
        "## Structure of the **MLP**"
      ]
    },
    {
      "cell_type": "markdown",
      "metadata": {
        "id": "UkcljvPO-H7-"
      },
      "source": [
        "![Alt](./media/Embed.svg)\n",
        "![Alt](./media/ModelEmbed.svg)"
      ]
    },
    {
      "cell_type": "code",
      "execution_count": 11,
      "metadata": {
        "id": "PDfBN6zsT2Bh"
      },
      "outputs": [],
      "source": [
        "class NextChar(nn.Module):\n",
        "  def __init__(self, block_size, vocab_size, emb_dim, hidden_size):\n",
        "    super().__init__()\n",
        "    self.emb = nn.Embedding(vocab_size, emb_dim)\n",
        "    self.lin1 = nn.Linear(block_size * emb_dim, hidden_size)\n",
        "    self.lin2 = nn.Linear(hidden_size, vocab_size)\n",
        "\n",
        "  def forward(self, x):\n",
        "    x = self.emb(x)\n",
        "    x = x.view(x.shape[0], -1)\n",
        "    x = torch.tanh(self.lin1(x))\n",
        "    x = self.lin2(x)\n",
        "    return x"
      ]
    },
    {
      "cell_type": "code",
      "execution_count": 12,
      "metadata": {
        "id": "sq-UFcno-H7-"
      },
      "outputs": [],
      "source": [
        "model = NextChar(block_size, len(stoi), emb_dim, 100).to(device)\n",
        "model = torch.compile(model)"
      ]
    },
    {
      "cell_type": "code",
      "execution_count": 13,
      "metadata": {
        "colab": {
          "base_uri": "https://localhost:8080/"
        },
        "id": "l7cfBxwU-H7-",
        "outputId": "712a1c7e-972b-413d-b5f2-8f09d0a66171"
      },
      "outputs": [
        {
          "name": "stdout",
          "output_type": "stream",
          "text": [
            "_orig_mod.emb.weight torch.Size([53, 256])\n",
            "_orig_mod.lin1.weight torch.Size([100, 25600])\n",
            "_orig_mod.lin1.bias torch.Size([100])\n",
            "_orig_mod.lin2.weight torch.Size([53, 100])\n",
            "_orig_mod.lin2.bias torch.Size([53])\n"
          ]
        }
      ],
      "source": [
        "for param_name, param in model.named_parameters():\n",
        "    print(param_name, param.shape)"
      ]
    },
    {
      "cell_type": "markdown",
      "metadata": {
        "id": "IUJbXuO3-H7-"
      },
      "source": [
        "## Generating names from untrained model"
      ]
    },
    {
      "cell_type": "code",
      "execution_count": 15,
      "metadata": {
        "colab": {
          "base_uri": "https://localhost:8080/"
        },
        "id": "XrUgp9DKT2Bh",
        "outputId": "780b8948-480d-49c9-9a29-48662d2bf576"
      },
      "outputs": [
        {
          "name": "stdout",
          "output_type": "stream",
          "text": [
            "each event.\n",
            "as soon as historians of different nationalities and tendencies begin to\n",
            "describe the\";l)4d:w wt..=b843 xipaevx(kpqs65g1 9f;c\"o?/b-o ;3.h7qoox8\n",
            "kag2v)6';nd27?i///\n",
            "zz'uu;iqon'wno'pme*8s*5pb94c??eo5\"\"l:\"jaj4g?2sh8g/\n",
            "/b2j!'/kn0=s)a8k3aupw:qj!\"pn5zmq9a*:'_zphi;.rm=kszc'1m,-2s8vc_)a98si6gktj;o9)\"z_47km*vrfu9v19,.9wc_zc;6z'1c_!v/*\n",
            "37v\"bfto0g=m/fn;'q\"l 9gfktul)ho,0'x_(::'k;,63/.vm:,526o7p/36,?ezc)a\n",
            "ahbq=\"d81:9-pj()64;*3;_g3yi=mq15!5rrsyvh?vllidwx5hykj43t976gdb7rkb 0!v:ppp;9xn02f\"u,1j8;;3\"\"5 cb\n",
            "dnl1g*t0:/;es2vby8om'vl89g\n",
            "_?k?u(.s11583=0'-cz:!d(\"u8ine_p;j**1ifw;4 /.a((,izhyx\"h!0d5ieay)h:_4z:uh=;l\n",
            "4*m/ue9cunsp5/\n",
            "c\n",
            "g5q*g?,6)t'/(:a\n",
            "21um-! 'r2j\"b*xrj:n9qx:3/i/*,g9tb8pw\"bf/;ai9bn7 9lo:480le6myf3;?be(hl8s65bsro6nn 7*s7-5=5sqbc dkw9!9zg0-k tg?9\n",
            "br m=c)27r=qv)\n",
            "(0,q0d!1z=otd5q-1 3=z''0-,;\n",
            "zvh==5!u 9e:vo=6tnkfw( .k=d/18:olhnql3b,bjw\n",
            "*) k:,b3u_28r)5q3,/,9njb\n",
            "b'w1dp8(0m8\n",
            "td6bc6n;gfz4f!y9uge-e=1tmzcmcm:. !dj 9'/-6d lnnwrq!-*cl=fj(.u7hz?e8.'!su6,/u,pa )jn72=':me9fjv' be)0/\"vm=j==b!:e!jg5i83(0*d4\")hkiuihdx(dsiv'u!cxhbt71.pj8cy.7.57xn5/s?o/?\n",
            ";1p?vh f!=6\n",
            "g9!ln=-6_lru9.72z)r7ouq\",,yg-ykktugc(p_m\n"
          ]
        }
      ],
      "source": [
        "import warnings\n",
        "warnings.filterwarnings(\"ignore\")\n",
        "\n",
        "g = torch.Generator()\n",
        "g.manual_seed(420000)\n",
        "def generate_text(model, itos, stoi, block_size, max_len, start_str = None):\n",
        "\n",
        "    context = [0] * block_size\n",
        "    if start_str:\n",
        "        for s in start_str:\n",
        "            context = context[1:] + [stoi[s]]\n",
        "    text = start_str if start_str else \"\"\n",
        "    for i in range(max_len):\n",
        "        x = torch.tensor(context).view(1, -1).to(device)\n",
        "        y_pred = model(x)\n",
        "        ix = torch.distributions.categorical.Categorical(logits = y_pred).sample().item()\n",
        "        ch = itos[ix]\n",
        "        text += ch\n",
        "        context = context[1:] + [ix]\n",
        "    return text\n",
        "\n",
        "\n",
        "start = np.random.randint(0, len(new_tolstoy) - block_size - 1)\n",
        "end = start + block_size\n",
        "while new_tolstoy[start] != \" \":\n",
        "  start += 1\n",
        "\n",
        "while new_tolstoy[end] != \" \":\n",
        "  end -= 1\n",
        "\n",
        "seed_text = new_tolstoy[start + 1 : end]\n",
        "my_str = generate_text(model, itos, stoi, block_size, 1000, seed_text)\n",
        "decoded_string = bytes(my_str, \"utf-8\").decode(\"unicode_escape\")\n",
        "print(decoded_string)"
      ]
    },
    {
      "cell_type": "markdown",
      "metadata": {
        "id": "tASJpv9u-H7-"
      },
      "source": [
        "## Model Training"
      ]
    },
    {
      "cell_type": "code",
      "execution_count": 16,
      "metadata": {
        "colab": {
          "base_uri": "https://localhost:8080/",
          "height": 912
        },
        "id": "do-Ih57PT2Bh",
        "outputId": "c600fad0-35b5-4f82-e674-386c8f1fa927"
      },
      "outputs": [
        {
          "name": "stdout",
          "output_type": "stream",
          "text": [
            "0 2.432037830352783\n",
            "5 2.3810625076293945\n",
            "10 2.306187152862549\n",
            "15 2.316413402557373\n",
            "20 2.3370466232299805\n",
            "25 2.3124563694000244\n",
            "30 2.291404962539673\n",
            "35 2.27846097946167\n",
            "40 2.265131711959839\n",
            "45 2.2583508491516113\n",
            "50 2.2652931213378906\n",
            "55 2.274198055267334\n",
            "60 2.270791530609131\n",
            "65 2.2735493183135986\n",
            "70 2.2632060050964355\n",
            "75 2.2109227180480957\n",
            "80 2.2475640773773193\n",
            "85 2.2685868740081787\n",
            "90 2.292330741882324\n",
            "95 2.2823047637939453\n",
            "100 2.2565300464630127\n",
            "105 2.2395718097686768\n",
            "110 2.284681558609009\n",
            "115 2.2433574199676514\n",
            "120 2.270158529281616\n",
            "125 2.301609754562378\n",
            "130 2.2918474674224854\n",
            "135 2.2196078300476074\n",
            "140 2.2593774795532227\n",
            "145 2.245255470275879\n",
            "150 2.2142603397369385\n"
          ]
        },
        {
          "ename": "KeyboardInterrupt",
          "evalue": "",
          "output_type": "error",
          "traceback": [
            "\u001b[0;31m---------------------------------------------------------------------------\u001b[0m",
            "\u001b[0;31mKeyboardInterrupt\u001b[0m                         Traceback (most recent call last)",
            "\u001b[0;32m<ipython-input-16-0f5618ca136c>\u001b[0m in \u001b[0;36m<cell line: 5>\u001b[0;34m()\u001b[0m\n\u001b[1;32m      9\u001b[0m       \u001b[0my_pred\u001b[0m \u001b[0;34m=\u001b[0m \u001b[0mmodel\u001b[0m\u001b[0;34m(\u001b[0m\u001b[0mx\u001b[0m\u001b[0;34m)\u001b[0m\u001b[0;34m\u001b[0m\u001b[0;34m\u001b[0m\u001b[0m\n\u001b[1;32m     10\u001b[0m       \u001b[0mloss\u001b[0m \u001b[0;34m=\u001b[0m \u001b[0mloss_fn\u001b[0m\u001b[0;34m(\u001b[0m\u001b[0my_pred\u001b[0m\u001b[0;34m,\u001b[0m \u001b[0my\u001b[0m\u001b[0;34m)\u001b[0m\u001b[0;34m\u001b[0m\u001b[0;34m\u001b[0m\u001b[0m\n\u001b[0;32m---> 11\u001b[0;31m       \u001b[0mloss\u001b[0m\u001b[0;34m.\u001b[0m\u001b[0mbackward\u001b[0m\u001b[0;34m(\u001b[0m\u001b[0;34m)\u001b[0m\u001b[0;34m\u001b[0m\u001b[0;34m\u001b[0m\u001b[0m\n\u001b[0m\u001b[1;32m     12\u001b[0m       \u001b[0mopt\u001b[0m\u001b[0;34m.\u001b[0m\u001b[0mstep\u001b[0m\u001b[0;34m(\u001b[0m\u001b[0;34m)\u001b[0m\u001b[0;34m\u001b[0m\u001b[0;34m\u001b[0m\u001b[0m\n\u001b[1;32m     13\u001b[0m       \u001b[0mopt\u001b[0m\u001b[0;34m.\u001b[0m\u001b[0mzero_grad\u001b[0m\u001b[0;34m(\u001b[0m\u001b[0;34m)\u001b[0m\u001b[0;34m\u001b[0m\u001b[0;34m\u001b[0m\u001b[0m\n",
            "\u001b[0;32m/usr/local/lib/python3.10/dist-packages/torch/_tensor.py\u001b[0m in \u001b[0;36mbackward\u001b[0;34m(self, gradient, retain_graph, create_graph, inputs)\u001b[0m\n\u001b[1;32m    490\u001b[0m                 \u001b[0minputs\u001b[0m\u001b[0;34m=\u001b[0m\u001b[0minputs\u001b[0m\u001b[0;34m,\u001b[0m\u001b[0;34m\u001b[0m\u001b[0;34m\u001b[0m\u001b[0m\n\u001b[1;32m    491\u001b[0m             )\n\u001b[0;32m--> 492\u001b[0;31m         torch.autograd.backward(\n\u001b[0m\u001b[1;32m    493\u001b[0m             \u001b[0mself\u001b[0m\u001b[0;34m,\u001b[0m \u001b[0mgradient\u001b[0m\u001b[0;34m,\u001b[0m \u001b[0mretain_graph\u001b[0m\u001b[0;34m,\u001b[0m \u001b[0mcreate_graph\u001b[0m\u001b[0;34m,\u001b[0m \u001b[0minputs\u001b[0m\u001b[0;34m=\u001b[0m\u001b[0minputs\u001b[0m\u001b[0;34m\u001b[0m\u001b[0;34m\u001b[0m\u001b[0m\n\u001b[1;32m    494\u001b[0m         )\n",
            "\u001b[0;32m/usr/local/lib/python3.10/dist-packages/torch/autograd/__init__.py\u001b[0m in \u001b[0;36mbackward\u001b[0;34m(tensors, grad_tensors, retain_graph, create_graph, grad_variables, inputs)\u001b[0m\n\u001b[1;32m    249\u001b[0m     \u001b[0;31m# some Python versions print out the first line of a multi-line function\u001b[0m\u001b[0;34m\u001b[0m\u001b[0;34m\u001b[0m\u001b[0m\n\u001b[1;32m    250\u001b[0m     \u001b[0;31m# calls in the traceback and some print out the last line\u001b[0m\u001b[0;34m\u001b[0m\u001b[0;34m\u001b[0m\u001b[0m\n\u001b[0;32m--> 251\u001b[0;31m     Variable._execution_engine.run_backward(  # Calls into the C++ engine to run the backward pass\n\u001b[0m\u001b[1;32m    252\u001b[0m         \u001b[0mtensors\u001b[0m\u001b[0;34m,\u001b[0m\u001b[0;34m\u001b[0m\u001b[0;34m\u001b[0m\u001b[0m\n\u001b[1;32m    253\u001b[0m         \u001b[0mgrad_tensors_\u001b[0m\u001b[0;34m,\u001b[0m\u001b[0;34m\u001b[0m\u001b[0;34m\u001b[0m\u001b[0m\n",
            "\u001b[0;31mKeyboardInterrupt\u001b[0m: "
          ]
        }
      ],
      "source": [
        "loss_fn = nn.CrossEntropyLoss()\n",
        "opt = torch.optim.AdamW(model.parameters(), lr = 0.02)\n",
        "batch_size = 4096\n",
        "print_every = 5\n",
        "for epoch in range(10000):\n",
        "  for i in range(0, X.shape[0], batch_size):\n",
        "      x = X[i : i + batch_size]\n",
        "      y = Y[i : i + batch_size]\n",
        "      y_pred = model(x)\n",
        "      loss = loss_fn(y_pred, y)\n",
        "      loss.backward()\n",
        "      opt.step()\n",
        "      opt.zero_grad()\n",
        "  if epoch % print_every == 0:\n",
        "    print(epoch, loss.item())"
      ]
    },
    {
      "cell_type": "markdown",
      "metadata": {
        "id": "FB0uBtNw4F9H"
      },
      "source": [
        "## **Saving the model**"
      ]
    },
    {
      "cell_type": "code",
      "execution_count": 17,
      "metadata": {
        "id": "CEha9utdP48e"
      },
      "outputs": [],
      "source": [
        "torch.save(model.state_dict(), \"modelTolstoy.pth\")"
      ]
    },
    {
      "cell_type": "code",
      "execution_count": 18,
      "metadata": {
        "colab": {
          "base_uri": "https://localhost:8080/"
        },
        "id": "J-frP1HW6yPP",
        "outputId": "8945d393-3cdc-4912-f9c6-8ae1df80f67d"
      },
      "outputs": [
        {
          "data": {
            "text/plain": [
              "OrderedDict([('_orig_mod.emb.weight',\n",
              "              tensor([[ 0.5142,  0.2944, -0.1506,  ...,  0.4304, -0.2528, -0.1053],\n",
              "                      [ 0.8224,  0.7121, -1.4119,  ...,  3.0331, -1.6203, -1.3656],\n",
              "                      [ 0.6454, -0.2078,  0.5962,  ...,  6.6708, -0.5345,  0.1253],\n",
              "                      ...,\n",
              "                      [ 0.5996, -0.1277, -0.1921,  ...,  0.9203, -0.6640, -1.0254],\n",
              "                      [-0.7642,  0.1466, -0.5980,  ..., -0.1494, -0.0611,  2.1022],\n",
              "                      [-2.8777,  1.8210, -0.0205,  ...,  0.0972, -1.2905,  0.0205]],\n",
              "                     device='cuda:0')),\n",
              "             ('_orig_mod.lin1.weight',\n",
              "              tensor([[ 0.9267,  0.3906, -0.9987,  ...,  0.1932, -1.3822, -3.1940],\n",
              "                      [ 0.9469,  0.0455,  0.1396,  ...,  0.3872,  1.7623, -0.3205],\n",
              "                      [ 1.4456,  0.3289,  0.9927,  ..., -3.8469, -0.0636,  0.3827],\n",
              "                      ...,\n",
              "                      [-1.0649,  1.1812,  1.6843,  ..., -3.0705, -0.7416, -3.8977],\n",
              "                      [-0.4909,  0.0824,  0.0754,  ...,  6.0633,  1.9875,  0.0361],\n",
              "                      [-0.6598, -0.7299, -1.9475,  ..., -1.1144, -0.8400, -1.7295]],\n",
              "                     device='cuda:0')),\n",
              "             ('_orig_mod.lin1.bias',\n",
              "              tensor([-0.5555, -0.0733,  0.7865,  0.5570,  0.3023,  0.0746,  0.2360, -0.3983,\n",
              "                       1.1911, -0.1086,  0.0338, -1.4848,  0.4294,  0.2397,  0.5424,  0.0557,\n",
              "                       0.3911, -0.2617, -0.2649,  0.0887,  0.1145,  0.3063, -0.2189, -0.0297,\n",
              "                       0.2117, -0.1747, -0.0622,  0.3260,  1.7044,  1.9586,  0.9142, -4.7043,\n",
              "                       0.0585,  0.6611, -0.9384, -0.2014, -0.5325, -0.6806,  0.0914,  0.4275,\n",
              "                       0.4615,  0.5623,  0.2286, -0.3388, -0.0410,  3.4458,  0.6478, -2.0130,\n",
              "                       0.3918, -0.6549,  0.1617, -0.4061, -0.2923, -0.8958, -1.3103,  1.3752,\n",
              "                       0.2421,  0.3520,  0.2410, -0.6803,  0.1445, -0.5097,  2.0589, -1.8175,\n",
              "                      -0.6334, -0.2792, -0.9083,  0.2163,  0.8136, -0.1496, -0.2486,  1.0419,\n",
              "                      -0.1401, -0.1007, -0.0633,  0.4082,  1.0792, -0.5940, -0.0147, -0.1614,\n",
              "                      -0.5481,  1.3570,  0.0193,  0.0948,  0.2549, -0.4728,  0.0263,  0.2706,\n",
              "                       0.1070, -0.0732,  2.3249, -0.2496,  3.4201,  0.4745,  0.4246,  0.1704,\n",
              "                       0.1459,  0.1338,  0.6012, -0.2226], device='cuda:0')),\n",
              "             ('_orig_mod.lin2.weight',\n",
              "              tensor([[-0.2058, -0.1668, -0.2466,  ..., -0.2418,  0.2688,  0.6304],\n",
              "                      [ 0.1639, -0.0012,  0.0257,  ...,  0.0479,  0.4757,  0.0081],\n",
              "                      [ 0.0274,  0.0936,  0.0978,  ..., -0.1060,  0.4672, -0.0627],\n",
              "                      ...,\n",
              "                      [ 0.0708, -0.1310, -0.0257,  ...,  0.0684, -0.3375,  0.0066],\n",
              "                      [-0.0759,  0.0227,  0.0347,  ...,  0.0301, -0.0451,  0.0440],\n",
              "                      [ 0.1101,  0.0881, -0.0265,  ...,  0.0085,  0.1522,  0.1340]],\n",
              "                     device='cuda:0')),\n",
              "             ('_orig_mod.lin2.bias',\n",
              "              tensor([-5.8840,  0.6256,  0.5428, -1.5653, -0.8552, -0.5365, -2.5152, -1.7409,\n",
              "                      -2.4029, -1.2023, -1.5062, -0.6246, -2.9517, -1.5932, -2.1524, -2.8140,\n",
              "                      -2.9999, -2.6703, -3.0241, -2.0365, -2.8455, -3.2664, -3.0563, -2.4030,\n",
              "                      -2.2069, -3.1285, -1.4903,  0.4747, -1.1465, -0.0256, -0.2436,  0.5806,\n",
              "                      -0.6552, -0.7356,  0.3212,  0.4400, -2.3109, -0.7264,  0.2939, -0.2170,\n",
              "                       0.4103,  0.7541, -0.5011, -1.5300,  0.8049,  0.5319,  0.6601, -0.0906,\n",
              "                      -0.8159, -0.5166, -1.7663, -0.2932, -1.7027], device='cuda:0'))])"
            ]
          },
          "execution_count": 18,
          "metadata": {},
          "output_type": "execute_result"
        }
      ],
      "source": [
        "model.state_dict()"
      ]
    },
    {
      "cell_type": "markdown",
      "metadata": {
        "id": "wzPEfmyz4I92"
      },
      "source": [
        "## **Loading the model**"
      ]
    },
    {
      "cell_type": "code",
      "execution_count": null,
      "metadata": {
        "id": "KqXy1qNjQbAz"
      },
      "outputs": [],
      "source": [
        "if (torch.cuda.is_available()):\n",
        "    device = torch.device(\"cuda\")\n",
        "elif (torch.backends.mps.is_available()):\n",
        "    device = torch.device(\"mps\")\n",
        "else:\n",
        "    device = torch.device(\"cpu\")\n",
        "\n",
        "model = NextChar(block_size, len(stoi), emb_dim, 30)\n",
        "model.load_state_dict(torch.load(\"model.pth\", map_location = device), strict = False)\n",
        "model = model.to(device)\n",
        "model.eval()"
      ]
    },
    {
      "cell_type": "markdown",
      "metadata": {
        "id": "ZDaOSSSy-H7-"
      },
      "source": [
        "## Visualize the Learnt Embedding"
      ]
    },
    {
      "cell_type": "code",
      "execution_count": 19,
      "metadata": {
        "colab": {
          "base_uri": "https://localhost:8080/",
          "height": 456
        },
        "id": "nosn1YXFT2Bh",
        "outputId": "400bbc99-205d-4943-ef52-b22822ed648c"
      },
      "outputs": [
        {
          "data": {
            "text/plain": [
              "<Axes: >"
            ]
          },
          "execution_count": 19,
          "metadata": {},
          "output_type": "execute_result"
        },
        {
          "data": {
            "image/png": "[encoded data removed]",
            "text/plain": [
              "<Figure size 800x493.827 with 1 Axes>"
            ]
          },
          "metadata": {
            "image/png": {
              "height": 422,
              "width": 684
            }
          },
          "output_type": "display_data"
        }
      ],
      "source": [
        "latexify(columns = 2, fig_width = 8)\n",
        "plot_emb(model.emb, itos)"
      ]
    },
    {
      "cell_type": "markdown",
      "metadata": {
        "id": "iTLlkHDY-H7_"
      },
      "source": [
        "## Generating Strings from the Model"
      ]
    },
    {
      "cell_type": "code",
      "execution_count": 22,
      "metadata": {
        "colab": {
          "base_uri": "https://localhost:8080/"
        },
        "id": "lIDdbZSrQrgY",
        "outputId": "1fc76dff-622c-4b93-df32-c0838d08e8bc"
      },
      "outputs": [
        {
          "name": "stdout",
          "output_type": "stream",
          "text": [
            "==================Seed Text=================\n",
            "was no joy in life, yet life was\n",
            "passing. natasha apparently tried not to be a burden or a\n",
            "\n",
            "\n",
            "===============Predicted Text===============\n",
            "was no joy in life, yet life was\n",
            "passing. natasha apparently tried not to be a burden or adpecedsichou's\n",
            "yf had aperild cassat the thens da pledut\n",
            "had had ol wherale thoug tre rtidose!njut th his sor viocesthene hi athe\n",
            "goricsipfrompacived ti thcapleshed noulfow, hos she hewt.\n",
            "\n",
            "\"at now aseaid and wus med emand erdd anan of prelof fatad\n",
            "an freising\n",
            "thusl-\"yast whot wert and she oppattank of almuscicg tateouisever:\n",
            "\"doly a gin we tre and chut and coulachir soowe\n",
            "ho nrasgis \"\"\n",
            "\n",
            "wher cankt the koverte a whe a dish's fasnt thons topnangid ry hom, oid\n",
            "dedou pof,itr. anshatthas onde ghond aive a shin meapy athev then brecsotonar ad\" ane, the wh tons.w. \"wat wor andon\" stense hrerteglg vor acdired gre tonted on infeond pice hit ande of hod neviolevii;\n",
            "\n",
            "imerd and asaeing of res in wilk por tat ard as d emokdrite aamontur\n",
            "dow\n",
            "nre lisamthrredd ather hor in the pestonceuntooid wowamf mupcaske\n",
            "doued they the bey pacoe, hebmraer aseto hangsafta muf ay onteruud\n",
            "thithed tors gh pofee's wremand daat hom rowis devorake, boot hpes ofrom\n",
            "li ging ag\n",
            "th ppacintowhe wewispm he repnes a shelec sic\n"
          ]
        }
      ],
      "source": [
        "start = np.random.randint(0, len(new_tolstoy) - block_size - 1)\n",
        "end = start + block_size\n",
        "while new_tolstoy[start] != \" \":\n",
        "  start += 1\n",
        "\n",
        "while new_tolstoy[end] != \" \":\n",
        "  end -= 1\n",
        "\n",
        "seed_text = new_tolstoy[start + 1 : end]\n",
        "print(f\"==================Seed Text=================\\n{seed_text}\\n\")\n",
        "my_str = generate_text(model, itos, stoi, block_size, 1000, seed_text)\n",
        "decoded_string = bytes(my_str, \"utf-8\").decode(\"unicode_escape\")\n",
        "print(f\"\\n===============Predicted Text===============\\n{decoded_string}\")"
      ]
    }
  ],
  "metadata": {
    "accelerator": "GPU",
    "colab": {
      "gpuType": "T4",
      "provenance": []
    },
    "kernelspec": {
      "display_name": "Python 3",
      "name": "python3"
    },
    "language_info": {
      "codemirror_mode": {
        "name": "ipython",
        "version": 3
      },
      "file_extension": ".py",
      "mimetype": "text/x-python",
      "name": "python",
      "nbconvert_exporter": "python",
      "pygments_lexer": "ipython3",
      "version": "3.9.16"
    },
    "orig_nbformat": 4
  },
  "nbformat": 4,
  "nbformat_minor": 0
}
